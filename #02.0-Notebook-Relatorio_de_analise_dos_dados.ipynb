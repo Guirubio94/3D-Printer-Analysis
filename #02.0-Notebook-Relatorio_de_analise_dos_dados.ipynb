{
 "metadata": {
  "language_info": {
   "codemirror_mode": {
    "name": "ipython",
    "version": 3
   },
   "file_extension": ".py",
   "mimetype": "text/x-python",
   "name": "python",
   "nbconvert_exporter": "python",
   "pygments_lexer": "ipython3",
   "version": "3.9.1-final"
  },
  "orig_nbformat": 2,
  "kernelspec": {
   "name": "python3",
   "display_name": "Python 3.9.1 64-bit",
   "metadata": {
    "interpreter": {
     "hash": "ac59ebe37160ed0dfa835113d9b8498d9f09ceb179beaac4002f036b9467c963"
    }
   }
  }
 },
 "nbformat": 4,
 "nbformat_minor": 2,
 "cells": [
  {
   "source": [
    "# Relatorio Técnico Referente a Matéria de Técnicas de Pesquisa Experimental\n",
    "  \n",
    "**Tema:** Analise da Variação de Parâmetros na Impressão 3D de Filamentos Poliméricos  \n",
    "**Profº:** Pedro Bastos Costa  \n",
    "**Universidade Federal de Minas Gerais - UFMG**\n",
    "\n",
    "**Membros:**\n",
    "* Guilherme de Paula Rúbio  \n",
    "* Matheus Ungaretti Borges  \n",
    "* Daniel Affonso Vasconcelos  \n",
    "\n",
    "## *Importação de Bibliotecas*"
   ],
   "cell_type": "markdown",
   "metadata": {}
  },
  {
   "cell_type": "code",
   "execution_count": 1,
   "metadata": {},
   "outputs": [],
   "source": [
    "import numpy as np \n",
    "import pandas as pd \n",
    "import scipy.stats as st \n",
    "import scipy.linalg as ln\n",
    "import matplotlib.pyplot as plt \n",
    "\n",
    "from math import sqrt\n",
    "\n",
    "%matplotlib inline"
   ]
  },
  {
   "source": [
    "## ***Fuções Auxiliares Criadas***  \n",
    "\n",
    "* **Função**: Teste de hipótese bicaudal, distribuição F"
   ],
   "cell_type": "markdown",
   "metadata": {}
  },
  {
   "source": [
    "def F_bicaudal_hypoteses (F :float, alpha :float, dn :float, dd :float):\n",
    "    '''\n",
    "        Função de teste de hipótese de um teste bicaudal do tipo F\n",
    "            Entrada:\n",
    "               * F: Valor calculado de F_0;\n",
    "               * alpha: nivel de confiança total;\n",
    "               * dn: graus de liberdade do numerador;\n",
    "               * dd: graus de liberdade do denominado.\n",
    "\n",
    "            Saídas:\n",
    "               * Impressão das Respostas.\n",
    "\n",
    "            Retorno: Nenhum\n",
    "    '''\n",
    "    min = st.f.ppf(alpha/2, dn, dd)         # Limite Superior\n",
    "    max = st.f.ppf(1-(alpha/2), dn, dd)     # Limite Inferior\n",
    "\n",
    "    print('O valor da estatísca cálcula F0 é: {:.4f}'.format(F))\n",
    "    print('O limites da distribuição para {} de {:.2f} é: [{:.4f}:{:.4f}]'.format('\\u0251', alpha, min, max))\n",
    "    print('Portanto,',end=' ')\n",
    "\n",
    "    if (F<min) or (F>max):\n",
    "        print('\\033[33mREJEITA-SE\\033[m a hipótese nula!')\n",
    "        print('p-valor: {:.4e}'.format( st.f.cdf(F, dn, dd) if (F<min) else (1-st.f.cdf(F, dn, dd)) ))\n",
    "    else:\n",
    "        print('\\033[31mFALHA EM REJEITAR\\033[m a hipótese nula!')"
   ],
   "cell_type": "code",
   "metadata": {},
   "execution_count": 2,
   "outputs": []
  },
  {
   "source": [
    "   * **Função:** Calculo do erro padrão de uma regressão linear multipla"
   ],
   "cell_type": "markdown",
   "metadata": {}
  },
  {
   "cell_type": "code",
   "execution_count": 3,
   "metadata": {},
   "outputs": [],
   "source": [
    "def lin_mult_regress_error (C0 :np.array, var2 :float):\n",
    "    '''\n",
    "    Função de calculo de erro padrão de cada constantes:\n",
    "        Entradas:\n",
    "            * C0 = Matriz de covariância da regressão\n",
    "            * var2 = variancia do erro padrão\n",
    "        Saida/Retorno:\n",
    "            * se = array com os erros padrões\n",
    "    '''\n",
    "    se = []\n",
    "\n",
    "    for i in range(len(C0)):\n",
    "        se.append(sqrt(var2*C0[i,i]))\n",
    "    \n",
    "    return se"
   ]
  },
  {
   "source": [
    "   * **Função:** Teste de hipotese dos coeficientes:  "
   ],
   "cell_type": "markdown",
   "metadata": {}
  },
  {
   "cell_type": "code",
   "execution_count": 4,
   "metadata": {},
   "outputs": [],
   "source": [
    "def lin_mult_coef_hipo (B :np.array, se :np.array, Bj0 :float, alpha :float, n :int):\n",
    "    '''\n",
    "        Função de teste de hipótese dos coeficientes de uma regressão linear\n",
    "            Entradas:\n",
    "                * B: vetor com os coefcientes calculados\n",
    "                * se: vetor com o erro padrão dos coeficientes\n",
    "                * Bjo: hipose nula\n",
    "                * alpha: nível de confiança\n",
    "                * n: n° de parâmetros da amostra\n",
    "            \n",
    "            Saídas:\n",
    "                * Impressão dos resultados na tela\n",
    "            \n",
    "            Retorno: \n",
    "                *   Nenhum\n",
    "    '''\n",
    "    df = n - (len(B)-1)\n",
    "\n",
    "    for i in range(len(B)):\n",
    "        B0 = (B[i]-Bj0)/se[i]\n",
    "\n",
    "        min = st.t.ppf(alpha/2,df)\n",
    "        max = st.t.ppf(1-(alpha/2),df)\n",
    "\n",
    "        print('{}'.format('=*='*20))\n",
    "        print('{:^60}'.format('Calculo de {}{}'.format('\\u03B2',i)))\n",
    "\n",
    "        print('O valor de T0 é: {:.4f}'.format(B0))\n",
    "        print('O valor dos limites da região crítica é: [{:.4f}:{:.4f}]'.format(min, max))\n",
    "        print('Assim, ', end='')\n",
    "\n",
    "        if (B0 < min) or (B0 > max):\n",
    "            print('\\033[33mREJEITA-SE\\033[m a hipótese nula!')\n",
    "            print('O valor de p é: {:.4e}'.format(st.t.cdf(B0,df) if B0 < min else 1-st.t.cdf(B0,df)))\n",
    "        else:\n",
    "            print('\\033[31mFALHA-SE EM REJEITAR\\033[m a hipótese nula!')\n",
    "        \n",
    "        print('{}'.format('=*='*20),'\\n')"
   ]
  },
  {
   "source": [
    "## *Importação dos dados*\n",
    "Todos os dados utilizados nessa análise estão disponibilizados na plataforma Kaggle. Caso queria acessar a fonte dos dados utilizados basta [clicar aqui.](https://www.kaggle.com/afumetto/3dprinter?select=data.csv)  \n",
    "\n",
    "### Contexto  \n",
    "Os dados utilizados são oriundos de uma pesquisa desenvolvida pelo Departamento de Engenharia Mecânica da TR/Selcuk University.  \n",
    "Essa pesquisa visava avaliar quais os parâmetros de impressão interferem na qualidade de impressão de peças, precisão e rigidez.  \n",
    "Nos dados apresentados existem nove parâmetro de configuração (entradas), e as medições de três parâmetros de saída.  \n",
    "\n",
    "### Materiais e Métodos  \n",
    "* **Impressora:** Ultimaker S5 3-D \n",
    "* **Teste de materiais e resistência:** Sincotec GMBH, capacidade de tração - 20kN.\n",
    "\n",
    "### Conteúdo dos dados\n",
    "#### Entradas - Parâmetros de configuração:  \n",
    "* Altura de camada (*Layer Height*) \\[mm]  \n",
    "* Espessura de casca (*Wall Thickness*) \\[mm]  \n",
    "* Densidade de preenchimento (*Infill Density*) \\[%]  \n",
    "* Padrão de preenchimento (*Infill Pattern*)  \n",
    "* Temperatura do bico de extrusão (*Nozzle Temperature*) \\[°C]  \n",
    "* Temperetura da mesa de impressão (*Bed Temperature*) \\[°C]  \n",
    "* Velocidade de impressão (*Print Speed*) \\[mm/s]  \n",
    "* Material (*Material*)  \n",
    "* Velocidade do vetilador da extrusora (*Fan Speed*) \\[%]  \n",
    "\n",
    "#### Saídas  \n",
    "* Rugosidade (*Roughness*) \\[µm]\n",
    "* Tensão de ruptura (*Ultimate Tension Strenght*) \\[MPa]\n",
    "* Alongação (*Elongation*) \\[%]  \n",
    "\n",
    "Abaixo importamos os dados para a análise.  "
   ],
   "cell_type": "markdown",
   "metadata": {}
  },
  {
   "cell_type": "code",
   "execution_count": 5,
   "metadata": {},
   "outputs": [
    {
     "output_type": "execute_result",
     "data": {
      "text/plain": [
       "   layer_height  wall_thickness  infill_density infill_pattern  \\\n",
       "0          0.02               8              90           grid   \n",
       "1          0.02               7              90      honeycomb   \n",
       "2          0.02               1              80           grid   \n",
       "3          0.02               4              70      honeycomb   \n",
       "4          0.02               6              90           grid   \n",
       "\n",
       "   nozzle_temperature  bed_temperature  print_speed material  fan_speed  \\\n",
       "0                 220               60           40      abs          0   \n",
       "1                 225               65           40      abs         25   \n",
       "2                 230               70           40      abs         50   \n",
       "3                 240               75           40      abs         75   \n",
       "4                 250               80           40      abs        100   \n",
       "\n",
       "   roughness  tension_strenght  elongation  \n",
       "0         25                18         1.2  \n",
       "1         32                16         1.4  \n",
       "2         40                 8         0.8  \n",
       "3         68                10         0.5  \n",
       "4         92                 5         0.7  "
      ],
      "text/html": "<div>\n<style scoped>\n    .dataframe tbody tr th:only-of-type {\n        vertical-align: middle;\n    }\n\n    .dataframe tbody tr th {\n        vertical-align: top;\n    }\n\n    .dataframe thead th {\n        text-align: right;\n    }\n</style>\n<table border=\"1\" class=\"dataframe\">\n  <thead>\n    <tr style=\"text-align: right;\">\n      <th></th>\n      <th>layer_height</th>\n      <th>wall_thickness</th>\n      <th>infill_density</th>\n      <th>infill_pattern</th>\n      <th>nozzle_temperature</th>\n      <th>bed_temperature</th>\n      <th>print_speed</th>\n      <th>material</th>\n      <th>fan_speed</th>\n      <th>roughness</th>\n      <th>tension_strenght</th>\n      <th>elongation</th>\n    </tr>\n  </thead>\n  <tbody>\n    <tr>\n      <th>0</th>\n      <td>0.02</td>\n      <td>8</td>\n      <td>90</td>\n      <td>grid</td>\n      <td>220</td>\n      <td>60</td>\n      <td>40</td>\n      <td>abs</td>\n      <td>0</td>\n      <td>25</td>\n      <td>18</td>\n      <td>1.2</td>\n    </tr>\n    <tr>\n      <th>1</th>\n      <td>0.02</td>\n      <td>7</td>\n      <td>90</td>\n      <td>honeycomb</td>\n      <td>225</td>\n      <td>65</td>\n      <td>40</td>\n      <td>abs</td>\n      <td>25</td>\n      <td>32</td>\n      <td>16</td>\n      <td>1.4</td>\n    </tr>\n    <tr>\n      <th>2</th>\n      <td>0.02</td>\n      <td>1</td>\n      <td>80</td>\n      <td>grid</td>\n      <td>230</td>\n      <td>70</td>\n      <td>40</td>\n      <td>abs</td>\n      <td>50</td>\n      <td>40</td>\n      <td>8</td>\n      <td>0.8</td>\n    </tr>\n    <tr>\n      <th>3</th>\n      <td>0.02</td>\n      <td>4</td>\n      <td>70</td>\n      <td>honeycomb</td>\n      <td>240</td>\n      <td>75</td>\n      <td>40</td>\n      <td>abs</td>\n      <td>75</td>\n      <td>68</td>\n      <td>10</td>\n      <td>0.5</td>\n    </tr>\n    <tr>\n      <th>4</th>\n      <td>0.02</td>\n      <td>6</td>\n      <td>90</td>\n      <td>grid</td>\n      <td>250</td>\n      <td>80</td>\n      <td>40</td>\n      <td>abs</td>\n      <td>100</td>\n      <td>92</td>\n      <td>5</td>\n      <td>0.7</td>\n    </tr>\n  </tbody>\n</table>\n</div>"
     },
     "metadata": {},
     "execution_count": 5
    }
   ],
   "source": [
    "dados = pd.read_csv('datasets\\data_3D_print.csv')   # Importa o DataFrame\n",
    "dados.head()     # Apresenta as 5 primeiras linhas do DataFrame"
   ]
  },
  {
   "source": [
    "## *Análise das Saídas*  \n",
    "Como temos três saidas iremos analisa-las separadamente.  \n",
    "\n",
    "### Saida Rugosidade:  \n",
    "\n",
    "#### ***Influência do material***  \n",
    "Umas das primeiras hipóteses que desejamos saber do ponto de vista da rugosidade é se o material afeta estatisticamente seu valor, para isso separaremos as saídas de rugosidade por material para realizar uma análise de experimento com um único fator."
   ],
   "cell_type": "markdown",
   "metadata": {}
  },
  {
   "cell_type": "code",
   "execution_count": 6,
   "metadata": {},
   "outputs": [
    {
     "output_type": "execute_result",
     "data": {
      "text/plain": [
       "  material  roughness\n",
       "0      abs         25\n",
       "1      abs         32\n",
       "2      abs         40\n",
       "3      abs         68\n",
       "4      abs         92"
      ],
      "text/html": "<div>\n<style scoped>\n    .dataframe tbody tr th:only-of-type {\n        vertical-align: middle;\n    }\n\n    .dataframe tbody tr th {\n        vertical-align: top;\n    }\n\n    .dataframe thead th {\n        text-align: right;\n    }\n</style>\n<table border=\"1\" class=\"dataframe\">\n  <thead>\n    <tr style=\"text-align: right;\">\n      <th></th>\n      <th>material</th>\n      <th>roughness</th>\n    </tr>\n  </thead>\n  <tbody>\n    <tr>\n      <th>0</th>\n      <td>abs</td>\n      <td>25</td>\n    </tr>\n    <tr>\n      <th>1</th>\n      <td>abs</td>\n      <td>32</td>\n    </tr>\n    <tr>\n      <th>2</th>\n      <td>abs</td>\n      <td>40</td>\n    </tr>\n    <tr>\n      <th>3</th>\n      <td>abs</td>\n      <td>68</td>\n    </tr>\n    <tr>\n      <th>4</th>\n      <td>abs</td>\n      <td>92</td>\n    </tr>\n  </tbody>\n</table>\n</div>"
     },
     "metadata": {},
     "execution_count": 6
    }
   ],
   "source": [
    "dados_roughness_material = dados[['material','roughness']]\n",
    "dados_roughness_material.head()"
   ]
  },
  {
   "source": [
    "Com os dados separados podemos observar que nosso problema é dividido em dois materiais, ou seja, dois níveis (PLA e ABS). Primeiramente vamos analisar quantas observações de cada materiais nos temos.  "
   ],
   "cell_type": "markdown",
   "metadata": {}
  },
  {
   "cell_type": "code",
   "execution_count": 7,
   "metadata": {},
   "outputs": [
    {
     "output_type": "execute_result",
     "data": {
      "text/plain": [
       "abs    25\n",
       "pla    25\n",
       "Name: material, dtype: int64"
      ]
     },
     "metadata": {},
     "execution_count": 7
    }
   ],
   "source": [
    "dados_roughness_material['material'].value_counts()"
   ]
  },
  {
   "source": [
    "Como podemos observa o número de observações de cada material é igual.\n",
    "***\n",
    "#### Teoria 📖:  \n",
    "Supomos que nosso valor de saída rugosidade varia de acordo com o material utilizado, o que significaria que ela teria o seguinte comportamento:  \n",
    "$$\n",
    "\\mathsf{\n",
    "    Y_{ij}= \\mu + \\tau_{i} + \\epsilon_{ij}\n",
    "}\n",
    "\\displaystyle\n",
    "    \\begin{cases}{}\n",
    "        \\mathsf{i=0, 1}\\\\\n",
    "        \\mathsf{j=0, 1, 2, 3, \\dots, 25}\n",
    "    \\end{cases}\n",
    "$$  \n",
    "Onde:\n",
    "   * $\\mu$: média global;  \n",
    "   * $\\tau_{i}$: fator de alteração referente ao material utilizado;\n",
    "   * $\\epsilon_{ij}$: erro aleatorio da medição  \n",
    "***  \n",
    "Para garantirmos que o realmente o material interfere na rugosidade medida nas nossas peças temos que garantir que o valor de $\\tau$ de cada material seja diferente de zero. Logo temos que fazer um teste assumindo as seguintes hipóteses:  \n",
    "$$\n",
    "\\left\\{\n",
    "    \\begin{matrix}{}\n",
    "        \\mathsf{\\mathit{H_0}: \\tau_{0}=\\tau_{1}=0}\\\\\n",
    "        \\mathsf{\\mathit{H_1}: \\tau_{0}\\neq \\tau_{1}\\neq 0}\n",
    "    \\end{matrix}\n",
    "\\right.\n",
    "$$  \n",
    "Para isso faremos um teste ANOVA. Para isso assumimos que o modelo assumi uma estatística F, assim:  \n",
    "$$\n",
    "\\mathsf{\n",
    "    F_0=\\dfrac{\\dfrac{SQ_{tratamentos}}{a-1}}{\\dfrac{SQ_{E}}{a\\cdot\\left(n-1\\right)}}=\n",
    "\\dfrac{\\dfrac{n \\cdot \\displaystyle\\sum_{i=1}^{a=2}\\left(\\bar{y}_{i.} - \\bar{y}_{..}\\right)^2}{a-1}}{\\dfrac{\\displaystyle\\sum_{i=1}^{a=2} \\sum_{j=1}^{n=25}\\left(y_{ij}-\\bar{y}_{i.}\\right)^2}{a\\cdot\\left(n-1\\right)}}=\n",
    "    \\dfrac{MQ_{tratamentos}}{MQ_E}\n",
    "}\n",
    "$$  \n",
    "\n",
    "Para iniciarmos os calculos vamos primeiramente calular as média e armazena-las"
   ],
   "cell_type": "markdown",
   "metadata": {}
  },
  {
   "source": [
    "mean_roug_mat = dados_roughness_material.groupby('material').mean()   # media da rugosidade por material\n",
    "mean_roug_mat"
   ],
   "cell_type": "code",
   "metadata": {},
   "execution_count": 8,
   "outputs": [
    {
     "output_type": "execute_result",
     "data": {
      "text/plain": [
       "          roughness\n",
       "material           \n",
       "abs          193.44\n",
       "pla          147.72"
      ],
      "text/html": "<div>\n<style scoped>\n    .dataframe tbody tr th:only-of-type {\n        vertical-align: middle;\n    }\n\n    .dataframe tbody tr th {\n        vertical-align: top;\n    }\n\n    .dataframe thead th {\n        text-align: right;\n    }\n</style>\n<table border=\"1\" class=\"dataframe\">\n  <thead>\n    <tr style=\"text-align: right;\">\n      <th></th>\n      <th>roughness</th>\n    </tr>\n    <tr>\n      <th>material</th>\n      <th></th>\n    </tr>\n  </thead>\n  <tbody>\n    <tr>\n      <th>abs</th>\n      <td>193.44</td>\n    </tr>\n    <tr>\n      <th>pla</th>\n      <td>147.72</td>\n    </tr>\n  </tbody>\n</table>\n</div>"
     },
     "metadata": {},
     "execution_count": 8
    }
   ]
  },
  {
   "cell_type": "code",
   "execution_count": 9,
   "metadata": {},
   "outputs": [
    {
     "output_type": "execute_result",
     "data": {
      "text/plain": [
       "170.58"
      ]
     },
     "metadata": {},
     "execution_count": 9
    }
   ],
   "source": [
    "mean_roug_mat_gen = dados_roughness_material['roughness'].mean()  # Média Geral \n",
    "mean_roug_mat_gen"
   ]
  },
  {
   "source": [
    "Calculando o $SQ_{tratamentos}$:"
   ],
   "cell_type": "markdown",
   "metadata": {}
  },
  {
   "cell_type": "code",
   "execution_count": 10,
   "metadata": {},
   "outputs": [
    {
     "output_type": "execute_result",
     "data": {
      "text/plain": [
       "26128.980000000003"
      ]
     },
     "metadata": {},
     "execution_count": 10
    }
   ],
   "source": [
    "n = (dados_roughness_material['material'].value_counts()).loc['abs']\n",
    "SQ_trat = n * sum((mean_roug_mat['roughness']-mean_roug_mat_gen)**2)\n",
    "SQ_trat"
   ]
  },
  {
   "source": [
    "Calculando $SQ_E$"
   ],
   "cell_type": "markdown",
   "metadata": {}
  },
  {
   "cell_type": "code",
   "execution_count": 11,
   "metadata": {},
   "outputs": [
    {
     "output_type": "execute_result",
     "data": {
      "text/plain": [
       "454451.19999999995"
      ]
     },
     "metadata": {},
     "execution_count": 11
    }
   ],
   "source": [
    "SQ_abs = sum((dados_roughness_material[dados_roughness_material['material']=='abs']['roughness']-float(mean_roug_mat.loc['abs']))**2)\n",
    "SQ_pla = sum((dados_roughness_material[dados_roughness_material['material']=='pla']['roughness']-float(mean_roug_mat.loc['pla']))**2)\n",
    "\n",
    "SQ_e = SQ_abs+SQ_pla\n",
    "SQ_e"
   ]
  },
  {
   "source": [
    "Com os erros quadráticos calculados podemos fazer o teste de hipótese:  "
   ],
   "cell_type": "markdown",
   "metadata": {}
  },
  {
   "cell_type": "code",
   "execution_count": 12,
   "metadata": {},
   "outputs": [
    {
     "output_type": "stream",
     "name": "stdout",
     "text": [
      "O valor da estatísca cálcula F0 é: 2.7598\nO limites da distribuição para ɑ de 0.05 é: [0.0010:5.3541]\nPortanto, \u001b[31mFALHA EM REJEITAR\u001b[m a hipótese nula!\n"
     ]
    }
   ],
   "source": [
    "a = len(mean_roug_mat)\n",
    "\n",
    "MQ_trat = SQ_trat/(a-1)\n",
    "MQe = SQ_e/(a*(n-1))\n",
    "\n",
    "F0 = MQ_trat/MQe\n",
    "\n",
    "F_bicaudal_hypoteses(F0, 0.05, a-1, a*(n-1))"
   ]
  },
  {
   "source": [
    "Como podemos observar para um $\\alpha$ de 0,05 FALHAMOS EM REJEITAR a hipótese nula, logo o material não afeta estatísticamente no valor de rugosidade.   \n",
    "Além do teste ANOVA utilizaremos então o método MDS para avaliar se a as médias medidas tem diferença significativas na rugosidade.  \n",
    "Para isso temos que para as médias terem diferenças significativas devemos relacionar:  \n",
    "$$\n",
    "\\mathsf{\n",
    "    |\\bar{y}_{i.}-\\bar{y}_{j.}|> MDS\n",
    "}\n",
    "$$  \n",
    "$$\n",
    "\\mathsf{\n",
    "    |\\bar{y}_{i.}-\\bar{y}_{j.}|> \\mathit{t}_{\\frac{\\alpha}{2};a \\cdot(n-1)} \\cdot \\sqrt{\\dfrac{2\\cdot MQ_E}{n}}\n",
    "}\n",
    "$$  \n",
    "Assim:  "
   ],
   "cell_type": "markdown",
   "metadata": {}
  },
  {
   "cell_type": "code",
   "execution_count": 13,
   "metadata": {},
   "outputs": [
    {
     "output_type": "stream",
     "name": "stdout",
     "text": [
      " abs-pla  |   MDS    \n 45.7200  | 55.3352  \n"
     ]
    }
   ],
   "source": [
    "MDS = st.t.ppf(1-0.025,a*(n-1)) * sqrt((2*MQe)/n)\n",
    "\n",
    "print('{:^10}|{:^10}'.format('abs-pla','MDS'))\n",
    "print('{:^1}{:.4f}{:^2}|{:^1}{:.4f}{:^2}'.format('',float(mean_roug_mat.loc['abs'] - mean_roug_mat.loc['pla']),'','', MDS,''))"
   ]
  },
  {
   "source": [
    "Analisando a mínima diferença significativa (MDS), vemos que realmente a mudança do material não afeta estatistiamente o valor da rugosidade.  \n",
    "Essa conclusão era esperada, uma vez que como a impressão ocorre por camadas, a rugosidade deve ser afeta prinicpalmente por parâmetros que determinam as caracteristicas dessas camadas que o material em si.  \n",
    "\n",
    "### ***Analise do preenchimento interno***  \n",
    "Com a influência do material sendo descartada agora avaliaremos se o preenchimento interno da peça influencia na rugosidade da peça.  \n",
    "Primeiramente vamos separar os dados de preenchimento interno e rugosidade.   "
   ],
   "cell_type": "markdown",
   "metadata": {}
  },
  {
   "cell_type": "code",
   "execution_count": 14,
   "metadata": {},
   "outputs": [
    {
     "output_type": "execute_result",
     "data": {
      "text/plain": [
       "  infill_pattern  roughness\n",
       "0           grid         25\n",
       "1      honeycomb         32\n",
       "2           grid         40\n",
       "3      honeycomb         68\n",
       "4           grid         92"
      ],
      "text/html": "<div>\n<style scoped>\n    .dataframe tbody tr th:only-of-type {\n        vertical-align: middle;\n    }\n\n    .dataframe tbody tr th {\n        vertical-align: top;\n    }\n\n    .dataframe thead th {\n        text-align: right;\n    }\n</style>\n<table border=\"1\" class=\"dataframe\">\n  <thead>\n    <tr style=\"text-align: right;\">\n      <th></th>\n      <th>infill_pattern</th>\n      <th>roughness</th>\n    </tr>\n  </thead>\n  <tbody>\n    <tr>\n      <th>0</th>\n      <td>grid</td>\n      <td>25</td>\n    </tr>\n    <tr>\n      <th>1</th>\n      <td>honeycomb</td>\n      <td>32</td>\n    </tr>\n    <tr>\n      <th>2</th>\n      <td>grid</td>\n      <td>40</td>\n    </tr>\n    <tr>\n      <th>3</th>\n      <td>honeycomb</td>\n      <td>68</td>\n    </tr>\n    <tr>\n      <th>4</th>\n      <td>grid</td>\n      <td>92</td>\n    </tr>\n  </tbody>\n</table>\n</div>"
     },
     "metadata": {},
     "execution_count": 14
    }
   ],
   "source": [
    "pattern_roughness = dados[['infill_pattern','roughness']]\n",
    "pattern_roughness.head()"
   ]
  },
  {
   "cell_type": "code",
   "execution_count": 15,
   "metadata": {},
   "outputs": [
    {
     "output_type": "execute_result",
     "data": {
      "text/plain": [
       "grid         25\n",
       "honeycomb    25\n",
       "Name: infill_pattern, dtype: int64"
      ]
     },
     "metadata": {},
     "execution_count": 15
    }
   ],
   "source": [
    "pattern_roughness['infill_pattern'].value_counts()"
   ]
  },
  {
   "source": [
    "Separado os dados vamos então realizar um teste ANOVA seguindo as hipóteses:  \n",
    "$$\n",
    "\\left\\{\n",
    "    \\begin{matrix}{}\n",
    "        \\mathsf{\\mathit{H_0}: \\tau_{0}=\\tau_{1}=0}\\\\\n",
    "        \\mathsf{\\mathit{H_1}: \\tau_{0}\\neq \\tau_{1}\\neq 0}\n",
    "    \\end{matrix}\n",
    "\\right.\n",
    "$$  \n",
    "Para isso assumimos que o modelo assumi uma estatística F, assim:  \n",
    "$$\n",
    "\\mathsf{\n",
    "    F_0=\\dfrac{\\dfrac{SQ_{tratamentos}}{a-1}}{\\dfrac{SQ_{E}}{a\\cdot\\left(n-1\\right)}}=\n",
    "\\dfrac{\\dfrac{n \\cdot \\displaystyle\\sum_{i=1}^{a=2}\\left(\\bar{y}_{i.} - \\bar{y}_{..}\\right)^2}{a-1}}{\\dfrac{\\displaystyle\\sum_{i=1}^{a=2} \\sum_{j=1}^{n=25}\\left(y_{ij}-\\bar{y}_{i.}\\right)^2}{a\\cdot\\left(n-1\\right)}}=\n",
    "    \\dfrac{MQ_{tratamentos}}{MQ_E}\n",
    "}\n",
    "$$  \n",
    "Assim calculamos $F_0$ e fazemos o teste de hipótese:  "
   ],
   "cell_type": "markdown",
   "metadata": {}
  },
  {
   "cell_type": "code",
   "execution_count": 16,
   "metadata": {},
   "outputs": [
    {
     "output_type": "execute_result",
     "data": {
      "text/plain": [
       "                roughness\n",
       "infill_pattern           \n",
       "grid               177.28\n",
       "honeycomb          163.88"
      ],
      "text/html": "<div>\n<style scoped>\n    .dataframe tbody tr th:only-of-type {\n        vertical-align: middle;\n    }\n\n    .dataframe tbody tr th {\n        vertical-align: top;\n    }\n\n    .dataframe thead th {\n        text-align: right;\n    }\n</style>\n<table border=\"1\" class=\"dataframe\">\n  <thead>\n    <tr style=\"text-align: right;\">\n      <th></th>\n      <th>roughness</th>\n    </tr>\n    <tr>\n      <th>infill_pattern</th>\n      <th></th>\n    </tr>\n  </thead>\n  <tbody>\n    <tr>\n      <th>grid</th>\n      <td>177.28</td>\n    </tr>\n    <tr>\n      <th>honeycomb</th>\n      <td>163.88</td>\n    </tr>\n  </tbody>\n</table>\n</div>"
     },
     "metadata": {},
     "execution_count": 16
    }
   ],
   "source": [
    "patt_rough_mean = pattern_roughness.groupby('infill_pattern').mean()\n",
    "patt_rough_mean"
   ]
  },
  {
   "cell_type": "code",
   "execution_count": 17,
   "metadata": {},
   "outputs": [
    {
     "output_type": "execute_result",
     "data": {
      "text/plain": [
       "roughness    170.58\n",
       "dtype: float64"
      ]
     },
     "metadata": {},
     "execution_count": 17
    }
   ],
   "source": [
    "patt_rough_gen = pattern_roughness.mean()\n",
    "patt_rough_gen"
   ]
  },
  {
   "cell_type": "code",
   "execution_count": 18,
   "metadata": {},
   "outputs": [
    {
     "output_type": "execute_result",
     "data": {
      "text/plain": [
       "2244.500000000002"
      ]
     },
     "metadata": {},
     "execution_count": 18
    }
   ],
   "source": [
    "n_ptt = (pattern_roughness['infill_pattern'].value_counts()).loc['grid']\n",
    "SQ_tra_ptt = n_ptt * sum( (patt_rough_mean['roughness'] - float(patt_rough_gen))**2 )\n",
    "SQ_tra_ptt"
   ]
  },
  {
   "cell_type": "code",
   "execution_count": 19,
   "metadata": {},
   "outputs": [
    {
     "output_type": "execute_result",
     "data": {
      "text/plain": [
       "478335.67999999993"
      ]
     },
     "metadata": {},
     "execution_count": 19
    }
   ],
   "source": [
    "SQ_e_grid = sum((pattern_roughness[pattern_roughness['infill_pattern']=='grid']['roughness'] - float(patt_rough_mean.loc['grid']))**2)\n",
    "SQ_e_hone = sum((pattern_roughness[pattern_roughness['infill_pattern']=='honeycomb']['roughness'] - float(patt_rough_mean.loc['honeycomb']))**2)\n",
    "\n",
    "SQ_e_ptt = SQ_e_grid + SQ_e_hone\n",
    "SQ_e_ptt"
   ]
  },
  {
   "cell_type": "code",
   "execution_count": 20,
   "metadata": {},
   "outputs": [
    {
     "output_type": "stream",
     "name": "stdout",
     "text": [
      "O valor da estatísca cálcula F0 é: 0.2252\nO limites da distribuição para ɑ de 0.05 é: [0.0010:5.3541]\nPortanto, \u001b[31mFALHA EM REJEITAR\u001b[m a hipótese nula!\n"
     ]
    }
   ],
   "source": [
    "a_ptt = len(patt_rough_mean)\n",
    "\n",
    "MQ_trat_ptt = SQ_tra_ptt/(a_ptt-1)\n",
    "MQe_ptt = SQ_e_ptt/(a_ptt*(n_ptt-1))\n",
    "\n",
    "F0_ptt = MQ_trat_ptt/MQe_ptt\n",
    "\n",
    "F_bicaudal_hypoteses(F0_ptt, 0.05, a_ptt-1, a_ptt*(n_ptt-1))"
   ]
  },
  {
   "source": [
    "#### ***Modelo de Regressão Linear Multipla***  \n",
    "Com os dados restantes vamos fazer um modelo de regressão multipla com 7 variáveis $\\mathsf{\\left(x_1, x_2, x_3, x_4, x_5, x_6\\right)}$, sendo cada uma dessas uma entrada medida restante, e possui 8 coeficientes $\\mathsf{\\left(\\hat{\\beta}_0, \\hat{\\beta}_1, \\hat{\\beta}_2, \\hat{\\beta}_3, \\hat{\\beta}_4, \\hat{\\beta}_5, \\hat{\\beta}_6\\right)}$.  \n",
    "Primeiramente vamos separar os dados com relação com a rugosidade:\n",
    "\n",
    "***Obs.:*** Analisando os dados de velocidade o *fan* e da temperatura do bico, podemos observar que um era escrito em função do outro, assim optamos por excluir a coluna desses dados da nossa análise.  "
   ],
   "cell_type": "markdown",
   "metadata": {}
  },
  {
   "cell_type": "code",
   "execution_count": 21,
   "metadata": {},
   "outputs": [
    {
     "output_type": "execute_result",
     "data": {
      "text/plain": [
       "   layer_height  wall_thickness  infill_density  nozzle_temperature  \\\n",
       "0          0.02               8              90                 220   \n",
       "1          0.02               7              90                 225   \n",
       "2          0.02               1              80                 230   \n",
       "3          0.02               4              70                 240   \n",
       "4          0.02               6              90                 250   \n",
       "\n",
       "   bed_temperature  print_speed  fan_speed  roughness  \n",
       "0               60           40          0         25  \n",
       "1               65           40         25         32  \n",
       "2               70           40         50         40  \n",
       "3               75           40         75         68  \n",
       "4               80           40        100         92  "
      ],
      "text/html": "<div>\n<style scoped>\n    .dataframe tbody tr th:only-of-type {\n        vertical-align: middle;\n    }\n\n    .dataframe tbody tr th {\n        vertical-align: top;\n    }\n\n    .dataframe thead th {\n        text-align: right;\n    }\n</style>\n<table border=\"1\" class=\"dataframe\">\n  <thead>\n    <tr style=\"text-align: right;\">\n      <th></th>\n      <th>layer_height</th>\n      <th>wall_thickness</th>\n      <th>infill_density</th>\n      <th>nozzle_temperature</th>\n      <th>bed_temperature</th>\n      <th>print_speed</th>\n      <th>fan_speed</th>\n      <th>roughness</th>\n    </tr>\n  </thead>\n  <tbody>\n    <tr>\n      <th>0</th>\n      <td>0.02</td>\n      <td>8</td>\n      <td>90</td>\n      <td>220</td>\n      <td>60</td>\n      <td>40</td>\n      <td>0</td>\n      <td>25</td>\n    </tr>\n    <tr>\n      <th>1</th>\n      <td>0.02</td>\n      <td>7</td>\n      <td>90</td>\n      <td>225</td>\n      <td>65</td>\n      <td>40</td>\n      <td>25</td>\n      <td>32</td>\n    </tr>\n    <tr>\n      <th>2</th>\n      <td>0.02</td>\n      <td>1</td>\n      <td>80</td>\n      <td>230</td>\n      <td>70</td>\n      <td>40</td>\n      <td>50</td>\n      <td>40</td>\n    </tr>\n    <tr>\n      <th>3</th>\n      <td>0.02</td>\n      <td>4</td>\n      <td>70</td>\n      <td>240</td>\n      <td>75</td>\n      <td>40</td>\n      <td>75</td>\n      <td>68</td>\n    </tr>\n    <tr>\n      <th>4</th>\n      <td>0.02</td>\n      <td>6</td>\n      <td>90</td>\n      <td>250</td>\n      <td>80</td>\n      <td>40</td>\n      <td>100</td>\n      <td>92</td>\n    </tr>\n  </tbody>\n</table>\n</div>"
     },
     "metadata": {},
     "execution_count": 21
    }
   ],
   "source": [
    "data_roughness = dados.drop(['infill_pattern', 'material', 'tension_strenght', 'elongation'], axis=1)\n",
    "data_roughness.head()"
   ]
  },
  {
   "source": [
    "***\n",
    "#### Teoria 📖  \n",
    "Para determinarmos os coeficiente usaremos a seguinte relação: \n",
    "$$\n",
    "\\mathsf{\n",
    "    \\hat{\\beta} = \\left( X' \\cdot X \\right)^{-1} \\cdot X' \\cdot y\n",
    "}\n",
    "$$  \n",
    "Onde:  \n",
    "$$\n",
    "\\mathsf{y} = \\left[\n",
    "    \\begin{matrix}\n",
    "        \\mathsf{y_1}\\\\ \\mathsf{y_2}\\\\ \\vdots \\\\ \\mathsf{y_n}\n",
    "    \\end{matrix}\n",
    "\\right]\n",
    "$$\n",
    "$$\n",
    "\\mathsf{X} = \\left[\n",
    "    \\begin{matrix}\n",
    "        1 & \\mathsf{x_{11}} & \\mathsf{x_{12}} & \\cdots & \\mathsf{x_{1k}}\\\\\n",
    "        1 & \\mathsf{x_{21}} & \\mathsf{x_{22}} & \\cdots & \\mathsf{x_{2k}}\\\\\n",
    "        \\vdots & \\vdots & \\vdots & \\vdots & \\vdots\\\\\n",
    "        1 & \\mathsf{x_{n1}} & \\mathsf{x_{n2}} & \\cdots & \\mathsf{x_{nk}}\n",
    "    \\end{matrix}\n",
    "\\right] \n",
    "$$\n",
    "$$\n",
    "\\mathsf{\\hat{\\beta}} = \\left[\n",
    "    \\begin{matrix}\n",
    "        \\mathsf{\\beta_0}\\\\ \\mathsf{\\beta_1}\\\\ \\vdots \\\\ \\mathsf{\\beta_0}\n",
    "    \\end{matrix}\n",
    "\\right]\n",
    "$$  \n",
    "\n",
    "Desta equação temos a matriz de covariância que é:  \n",
    "$$\n",
    "\\mathsf{\n",
    "    C = \\left(X' \\cdot X \\right)^{-1}\n",
    "}\n",
    "$$  \n",
    "***\n",
    "Primeiramente vamos determinar a matriz de covariância:  "
   ],
   "cell_type": "markdown",
   "metadata": {}
  },
  {
   "cell_type": "code",
   "execution_count": 22,
   "metadata": {},
   "outputs": [
    {
     "output_type": "stream",
     "name": "stdout",
     "text": [
      "[[ 5.44053814e+00 -1.00996362e+00 -4.57636238e-02  1.54633282e-03\n  -2.19638357e-02 -1.09436892e-03 -3.36835364e-03]\n [-1.00996362e+00  5.24386052e+00  3.13062506e-02 -3.77559096e-04\n   1.21916643e-03 -1.14828303e-03  1.89362315e-03]\n [-4.57636238e-02  3.13062506e-02  3.18852006e-03 -4.09108343e-05\n   1.25746058e-04 -1.18920332e-04  1.32146819e-04]\n [ 1.54633282e-03 -3.77559096e-04 -4.09108343e-05  3.57060981e-05\n  -2.41652827e-05  2.97156734e-05  1.14141170e-06]\n [-2.19638357e-02  1.21916643e-03  1.25746058e-04 -2.41652827e-05\n   1.65267613e-04 -2.05075564e-04  3.39295021e-06]\n [-1.09436892e-03 -1.14828303e-03 -1.18920332e-04  2.97156734e-05\n  -2.05075564e-04  6.54917411e-04 -2.65542593e-06]\n [-3.36835364e-03  1.89362315e-03  1.32146819e-04  1.14141170e-06\n   3.39295021e-06 -2.65542593e-06  2.89252055e-05]]\n"
     ]
    }
   ],
   "source": [
    "n = len(data_roughness)\n",
    "X_roug = np.array(pd.concat([pd.Series(np.ones(len(data_roughness))),data_roughness.iloc[:,:6]],axis=1))\n",
    "Y_roug = np.array(data_roughness['roughness'])\n",
    "\n",
    "C = np.linalg.inv((X_roug.T).dot(X_roug))\n",
    "print(C)"
   ]
  },
  {
   "source": [
    "Com a matriz de covariância podemos calcular os coeficientes da regressão:  "
   ],
   "cell_type": "markdown",
   "metadata": {}
  },
  {
   "cell_type": "code",
   "execution_count": 23,
   "metadata": {},
   "outputs": [
    {
     "output_type": "stream",
     "name": "stdout",
     "text": [
      "β0: -529.1807\nβ1: 1262.8094\nβ2: 1.6442\nβ3: 0.1694\nβ4: 2.3852\nβ5: -0.2978\nβ6: 0.6373\n"
     ]
    }
   ],
   "source": [
    "B_rough = (C.dot(X_roug.T)).dot(Y_roug)\n",
    "\n",
    "for i in range(len(B_rough)):\n",
    "    print('{}{}: {:.4f}'.format('\\u03B2', i, B_rough[i]))"
   ]
  },
  {
   "source": [
    "Assim o modelo de multiplas variáveis dado é:  \n",
    "$$\n",
    "\\mathsf{\n",
    "    \\hat{y}_{rugosidade} = -529,1807 + 1262,8094 \\cdot x_1 + 1,6442 \\cdot x_2 + 0,1694 \\cdot x_3 + 2,3852 \\cdot x_4 - 0,2978 \\cdot x_5 + 0,6373 \\cdot x_6\n",
    "}\n",
    "$$  \n",
    "\n",
    "#### Teste para significância  da Regressão  \n",
    "Para avliar se a nossa regressão é significativa assumimos as hipoteses:  \n",
    "$$\n",
    "    \\begin{cases}\n",
    "        \\mathsf{\\mathit{H_0:} \\hat{\\beta}_j = \\hat{\\beta}_{j+1}=\\dots= 0} \\;\\;\\;\\; \\forall j = 0,1,2, \\dots \\\\\n",
    "        \\mathsf{\\mathit{H_1:} \\hat{\\beta}_j \\neq 0}\n",
    "    \\end{cases}\n",
    "$$  \n",
    "Com a estatística:  \n",
    "$$\n",
    "\\mathsf{\n",
    "    F_0 = \\dfrac{\\dfrac{SQ_R}{k}}{\\dfrac{SQ_E}{n-p}} \n",
    "}\n",
    "$$  \n",
    "Onde:\n",
    "$$\n",
    "\\begin{array}{ccc}\n",
    "    \\mathsf{SQ_R = \\displaystyle\\sum_{i=1}^{n=50} \\left(\\hat{y}_i - \\bar{y}\\right)^2} & \\mathsf{e} & \\mathsf{k = p-1}\n",
    "\\end{array}\n",
    "$$  \n",
    "$$\n",
    "\\mathsf{\n",
    "    SQ_E = \\displaystyle\\sum_{i=1}^{n=50}{\\left(y_i - \\hat{y}\\right)^2}\n",
    "}\n",
    "$$"
   ],
   "cell_type": "markdown",
   "metadata": {}
  },
  {
   "cell_type": "code",
   "execution_count": 24,
   "metadata": {},
   "outputs": [
    {
     "output_type": "stream",
     "name": "stdout",
     "text": [
      "O valor da estatísca cálcula F0 é: 34.2481\nO limites da distribuição para ɑ de 0.05 é: [0.1623:2.8712]\nPortanto, \u001b[33mREJEITA-SE\u001b[m a hipótese nula!\np-valor: 4.1300e-14\n"
     ]
    }
   ],
   "source": [
    "Y_hat_roug = B_rough[0] + B_rough[1]*data_roughness['layer_height'] + B_rough[2]*data_roughness['wall_thickness'] + B_rough[3]*data_roughness['infill_density'] + B_rough[4]*data_roughness['nozzle_temperature'] + B_rough[5]*data_roughness['bed_temperature'] + B_rough[6]*data_roughness['print_speed']\n",
    "\n",
    "SQe_roug = sum( (Y_roug-Y_hat_roug)**2 )\n",
    "\n",
    "n_roug = len(Y_roug)\n",
    "p_roug = len(B_rough)-1\n",
    "k_roug =  p_roug-1\n",
    "\n",
    "SQr_roug = sum( (Y_hat_roug - data_roughness['roughness'].mean())**2 )\n",
    "\n",
    "F0_roug = (SQr_roug/k_roug)/(SQe_roug/(n_roug-p_roug))\n",
    "\n",
    "F_bicaudal_hypoteses(F0_roug, 0.05, k_roug, n_roug-p_roug)"
   ]
  },
  {
   "source": [
    "Como podemos ver falhamos em rejeitar a hipôtese nula, logo ao menos uma constate tem influência estatística no valor de rugosidade.\n",
    "\n",
    "Agora basta determinarmos quais das variáveis interferem realmente na rugosidade. Para isso consideraremos as seguintes hipóteses para o teste de hipóteses dos coeficientes:  \n",
    "$$\n",
    "    \\begin{cases}\n",
    "        \\mathsf{\\mathit{H_0:}\\hat{\\beta}_j = 0}\\\\\n",
    "        \\mathsf{\\mathit{H_1:}\\hat{\\beta}_j \\neq 0}\n",
    "    \\end{cases}\n",
    "$$  \n",
    "Porem agora utilizaremos a seguinte estatística:  \n",
    "$$\n",
    "\\mathsf{\n",
    "    T_0 = \\dfrac{\\hat{\\beta}j - \\beta_{j_0}}{\\sqrt{\\sigma^2 \\cdot C_{jj}}} = \\dfrac{\\hat{\\beta}j - \\beta_{j_0}}{se(\\hat{\\beta}_j)}\n",
    "}\n",
    "$$ \n",
    "\n",
    "Onde: \n",
    "$$\n",
    "\\mathsf{\n",
    "    \\hat{\\sigma}^2 = \\dfrac{SQ_E}{n-p} = \\dfrac{\\displaystyle \\sum_{i=1}^{n=50}{\\left(y_i - \\hat{y}\\right)^2}}{50-7}\n",
    "}\n",
    "$$  \n",
    "Primeiramente calcularemos a variância do erro e os erro padrão de cada coeficiente.  "
   ],
   "cell_type": "markdown",
   "metadata": {}
  },
  {
   "cell_type": "code",
   "execution_count": 25,
   "metadata": {},
   "outputs": [
    {
     "output_type": "execute_result",
     "data": {
      "text/plain": [
       "[110.21525490561373,\n",
       " 108.20475487614978,\n",
       " 2.668181425807403,\n",
       " 0.2823527204655426,\n",
       " 0.607455764118965,\n",
       " 1.2092442970344692,\n",
       " 0.25413179641192113]"
      ]
     },
     "metadata": {},
     "execution_count": 25
    }
   ],
   "source": [
    "var = SQe_roug/(n_roug-p_roug)\n",
    "\n",
    "seB_roug = lin_mult_regress_error(C, var)\n",
    "seB_roug"
   ]
  },
  {
   "source": [
    "Assim então testeremos cada coeficiente:  "
   ],
   "cell_type": "markdown",
   "metadata": {}
  },
  {
   "cell_type": "code",
   "execution_count": 26,
   "metadata": {},
   "outputs": [
    {
     "output_type": "stream",
     "name": "stdout",
     "text": [
      "=*==*==*==*==*==*==*==*==*==*==*==*==*==*==*==*==*==*==*==*=\n                       Calculo de β0                        \nO valor de T0 é: -4.8013\nO valor dos limites da região crítica é: [-2.0154:2.0154]\nAssim, \u001b[33mREJEITA-SE\u001b[m a hipótese nula!\nO valor de p é: 9.2647e-06\n=*==*==*==*==*==*==*==*==*==*==*==*==*==*==*==*==*==*==*==*= \n\n=*==*==*==*==*==*==*==*==*==*==*==*==*==*==*==*==*==*==*==*=\n                       Calculo de β1                        \nO valor de T0 é: 11.6706\nO valor dos limites da região crítica é: [-2.0154:2.0154]\nAssim, \u001b[33mREJEITA-SE\u001b[m a hipótese nula!\nO valor de p é: 2.3315e-15\n=*==*==*==*==*==*==*==*==*==*==*==*==*==*==*==*==*==*==*==*= \n\n=*==*==*==*==*==*==*==*==*==*==*==*==*==*==*==*==*==*==*==*=\n                       Calculo de β2                        \nO valor de T0 é: 0.6162\nO valor dos limites da região crítica é: [-2.0154:2.0154]\nAssim, \u001b[31mFALHA-SE EM REJEITAR\u001b[m a hipótese nula!\n=*==*==*==*==*==*==*==*==*==*==*==*==*==*==*==*==*==*==*==*= \n\n=*==*==*==*==*==*==*==*==*==*==*==*==*==*==*==*==*==*==*==*=\n                       Calculo de β3                        \nO valor de T0 é: 0.6000\nO valor dos limites da região crítica é: [-2.0154:2.0154]\nAssim, \u001b[31mFALHA-SE EM REJEITAR\u001b[m a hipótese nula!\n=*==*==*==*==*==*==*==*==*==*==*==*==*==*==*==*==*==*==*==*= \n\n=*==*==*==*==*==*==*==*==*==*==*==*==*==*==*==*==*==*==*==*=\n                       Calculo de β4                        \nO valor de T0 é: 3.9266\nO valor dos limites da região crítica é: [-2.0154:2.0154]\nAssim, \u001b[33mREJEITA-SE\u001b[m a hipótese nula!\nO valor de p é: 1.4983e-04\n=*==*==*==*==*==*==*==*==*==*==*==*==*==*==*==*==*==*==*==*= \n\n=*==*==*==*==*==*==*==*==*==*==*==*==*==*==*==*==*==*==*==*=\n                       Calculo de β5                        \nO valor de T0 é: -0.2463\nO valor dos limites da região crítica é: [-2.0154:2.0154]\nAssim, \u001b[31mFALHA-SE EM REJEITAR\u001b[m a hipótese nula!\n=*==*==*==*==*==*==*==*==*==*==*==*==*==*==*==*==*==*==*==*= \n\n=*==*==*==*==*==*==*==*==*==*==*==*==*==*==*==*==*==*==*==*=\n                       Calculo de β6                        \nO valor de T0 é: 2.5079\nO valor dos limites da região crítica é: [-2.0154:2.0154]\nAssim, \u001b[33mREJEITA-SE\u001b[m a hipótese nula!\nO valor de p é: 7.9530e-03\n=*==*==*==*==*==*==*==*==*==*==*==*==*==*==*==*==*==*==*==*= \n\n"
     ]
    }
   ],
   "source": [
    "lin_mult_coef_hipo(B_rough,seB_roug,0,0.05,n_roug)"
   ]
  },
  {
   "cell_type": "code",
   "execution_count": 27,
   "metadata": {},
   "outputs": [
    {
     "output_type": "execute_result",
     "data": {
      "text/plain": [
       "Index(['layer_height', 'wall_thickness', 'infill_density',\n",
       "       'nozzle_temperature', 'bed_temperature', 'print_speed', 'fan_speed',\n",
       "       'roughness'],\n",
       "      dtype='object')"
      ]
     },
     "metadata": {},
     "execution_count": 27
    }
   ],
   "source": [
    "data_roughness.columns"
   ]
  },
  {
   "source": [
    "Analisando os coeficientes podemos observar que de acordo com o nosso modelo os parâmetros que mais influenciam na rugosidade são:  \n",
    "   * Altura de Camada  \n",
    "   * Temperatura do bico  \n",
    "   * Velocidade de impressão  \n",
    "Assim reescrevemos nosso modelo sendo:  \n",
    "$$\n",
    "\\mathsf{\n",
    "    R = -529,1807 + 1262,8094 \\cdot lh + 2,3852 \\cdot T + 0,6373 \\cdot v\n",
    "}\n",
    "$$\n",
    "\n",
    "Onde:  \n",
    "   * $\\mathsf{R}$ = rugosidade  \n",
    "   * $\\mathsf{lh}$ = altura de camada  \n",
    "   * $\\mathsf{T}$ = temperatura do bico  \n",
    "   * $\\mathsf{v}$ = velocidade de impressão\n",
    "\n",
    "#### ***Coeficiente de determinação $\\mathsf{R^2}$***  \n",
    "Por fim vamos analisar o quão ajustado nosso modelo ficou para o problema, para isso iremos calcular o coeficente determinação.  \n",
    "***\n",
    "#### **Teoria** 📖  \n",
    "O coeficente de determinação indica o quão bom o seu modelo esta, onde ele é definido por:  \n",
    "$$\n",
    "\\mathsf{\n",
    "   R^2 = \\dfrac{SQ_R}{SQ_T} = \\dfrac{SQ_R}{SQ_E + SQ_R}\n",
    "}\n",
    "$$  \n",
    "Porém em regressções multiplas é aconselhavel usar esse valor ajustado, devido ao numero de variâveis, assim temos que:  \n",
    "$$\n",
    "\\mathsf{\n",
    "   R_{ajustado}^2 = 1 - \\dfrac{\\left(\\dfrac{SQ_E}{n-p}\\right)}{\\left(\\dfrac{SQ_T}{n-1}\\right)}\n",
    "}\n",
    "$$\n",
    "*** \n",
    "Calculado o coefiente temos:  "
   ],
   "cell_type": "markdown",
   "metadata": {}
  },
  {
   "cell_type": "code",
   "execution_count": 28,
   "metadata": {},
   "outputs": [
    {
     "output_type": "stream",
     "name": "stdout",
     "text": [
      "R²: 0.7956\nR²_ajustado: 0.7723\n"
     ]
    }
   ],
   "source": [
    "RR_roug = SQr_roug/(SQe_roug+SQr_roug)\n",
    "RR_roug_adj = 1 - ( (SQe_roug/(n_roug-p_roug))/((SQr_roug+SQe_roug)/(n_roug-1)) )\n",
    "\n",
    "print('R²: {:.4f}'.format(RR_roug))\n",
    "print('R²_ajustado: {:.4f}'.format(RR_roug_adj))"
   ]
  },
  {
   "source": [
    "### Saída: Tensão de ruptura \n",
    "\n",
    "O mesmo procedimento feito na rugosidade será feito para análise da tensão de ruptura.  \n",
    "#### *Influência do Material*  \n",
    "Primeiramente vamos analisar se em uma peça impressa as resistência do ABS e do PLA realmente influenciam na tensão de ruptura da peça, ou se a diferença de resistencia deles não é a maior influencia na peça impressa. Pra isso faremos uma análise de experimento dos dados de tensão de ruptura.  \n",
    "\n",
    "Primeiramente separaremos os dados de material e tensão de ruptura:  "
   ],
   "cell_type": "markdown",
   "metadata": {}
  },
  {
   "cell_type": "code",
   "execution_count": 29,
   "metadata": {},
   "outputs": [
    {
     "output_type": "execute_result",
     "data": {
      "text/plain": [
       "  material  tension_strenght\n",
       "0      abs                18\n",
       "1      abs                16\n",
       "2      abs                 8\n",
       "3      abs                10\n",
       "4      abs                 5"
      ],
      "text/html": "<div>\n<style scoped>\n    .dataframe tbody tr th:only-of-type {\n        vertical-align: middle;\n    }\n\n    .dataframe tbody tr th {\n        vertical-align: top;\n    }\n\n    .dataframe thead th {\n        text-align: right;\n    }\n</style>\n<table border=\"1\" class=\"dataframe\">\n  <thead>\n    <tr style=\"text-align: right;\">\n      <th></th>\n      <th>material</th>\n      <th>tension_strenght</th>\n    </tr>\n  </thead>\n  <tbody>\n    <tr>\n      <th>0</th>\n      <td>abs</td>\n      <td>18</td>\n    </tr>\n    <tr>\n      <th>1</th>\n      <td>abs</td>\n      <td>16</td>\n    </tr>\n    <tr>\n      <th>2</th>\n      <td>abs</td>\n      <td>8</td>\n    </tr>\n    <tr>\n      <th>3</th>\n      <td>abs</td>\n      <td>10</td>\n    </tr>\n    <tr>\n      <th>4</th>\n      <td>abs</td>\n      <td>5</td>\n    </tr>\n  </tbody>\n</table>\n</div>"
     },
     "metadata": {},
     "execution_count": 29
    }
   ],
   "source": [
    "data_ten_material = dados[['material','tension_strenght']]\n",
    "data_ten_material.head()"
   ]
  },
  {
   "source": [
    "Vamos agora observar quantas observações temos de cada material, ou seja o valor de n.  "
   ],
   "cell_type": "markdown",
   "metadata": {}
  },
  {
   "cell_type": "code",
   "execution_count": 30,
   "metadata": {},
   "outputs": [
    {
     "output_type": "execute_result",
     "data": {
      "text/plain": [
       "abs    25\n",
       "pla    25\n",
       "Name: material, dtype: int64"
      ]
     },
     "metadata": {},
     "execution_count": 30
    }
   ],
   "source": [
    "n_ten_mat = data_ten_material['material'].value_counts()\n",
    "n_ten_mat"
   ]
  },
  {
   "source": [
    "Sabendo que o número de observações é igual podemos então fazer o teste ANOVA, com as seguintes hipóteses: \n",
    "$$\n",
    "    \\begin{cases}\n",
    "        \\mathsf{\\mathit{H_0}: \\tau_{0}=\\tau_{1}=0}\\\\\n",
    "        \\mathsf{\\mathit{H_1}: \\tau_{0}\\neq \\tau_{1}\\neq 0}\n",
    "    \\end{cases}\n",
    "$$  \n",
    "Assumimos que o modelo assumi uma estatística F, assim:  \n",
    "$$\n",
    "\\mathsf{\n",
    "    F_0=\\dfrac{\\dfrac{SQ_{tratamentos}}{a-1}}{\\dfrac{SQ_{E}}{a\\cdot\\left(n-1\\right)}}=\n",
    "\\dfrac{\\dfrac{n \\cdot \\displaystyle\\sum_{i=1}^{a=2}\\left(\\bar{y}_{i.} - \\bar{y}_{..}\\right)^2}{a-1}}{\\dfrac{\\displaystyle\\sum_{i=1}^{a=2} \\sum_{j=1}^{n=25}\\left(y_{ij}-\\bar{y}_{i\\cdot}\\right)^2}{a\\cdot\\left(n-1\\right)}}=\n",
    "    \\dfrac{MQ_{tratamentos}}{MQ_E}\n",
    "}\n",
    "$$  \n",
    "\n",
    "Assim temos:  "
   ],
   "cell_type": "markdown",
   "metadata": {}
  },
  {
   "cell_type": "code",
   "execution_count": 31,
   "metadata": {},
   "outputs": [
    {
     "output_type": "execute_result",
     "data": {
      "text/plain": [
       "          tension_strenght\n",
       "material                  \n",
       "abs                  17.52\n",
       "pla                  22.64"
      ],
      "text/html": "<div>\n<style scoped>\n    .dataframe tbody tr th:only-of-type {\n        vertical-align: middle;\n    }\n\n    .dataframe tbody tr th {\n        vertical-align: top;\n    }\n\n    .dataframe thead th {\n        text-align: right;\n    }\n</style>\n<table border=\"1\" class=\"dataframe\">\n  <thead>\n    <tr style=\"text-align: right;\">\n      <th></th>\n      <th>tension_strenght</th>\n    </tr>\n    <tr>\n      <th>material</th>\n      <th></th>\n    </tr>\n  </thead>\n  <tbody>\n    <tr>\n      <th>abs</th>\n      <td>17.52</td>\n    </tr>\n    <tr>\n      <th>pla</th>\n      <td>22.64</td>\n    </tr>\n  </tbody>\n</table>\n</div>"
     },
     "metadata": {},
     "execution_count": 31
    }
   ],
   "source": [
    "mean_ten_mat = data_ten_material.groupby('material').mean()   # media da tensão por material\n",
    "mean_ten_mat"
   ]
  },
  {
   "cell_type": "code",
   "execution_count": 32,
   "metadata": {},
   "outputs": [
    {
     "output_type": "execute_result",
     "data": {
      "text/plain": [
       "20.08"
      ]
     },
     "metadata": {},
     "execution_count": 32
    }
   ],
   "source": [
    "mean_ten_mat_gen = data_ten_material['tension_strenght'].mean()  # Média Geral \n",
    "mean_ten_mat_gen"
   ]
  },
  {
   "source": [
    "Calculando $SQ_{tratamentos}$"
   ],
   "cell_type": "markdown",
   "metadata": {}
  },
  {
   "cell_type": "code",
   "execution_count": 33,
   "metadata": {},
   "outputs": [
    {
     "output_type": "execute_result",
     "data": {
      "text/plain": [
       "327.6800000000002"
      ]
     },
     "metadata": {},
     "execution_count": 33
    }
   ],
   "source": [
    "SQtrat_ten = n_ten_mat[0] * sum((mean_ten_mat['tension_strenght']-mean_ten_mat_gen)**2)\n",
    "SQtrat_ten"
   ]
  },
  {
   "source": [
    "Calculando $SQ_E$"
   ],
   "cell_type": "markdown",
   "metadata": {}
  },
  {
   "cell_type": "code",
   "execution_count": 34,
   "metadata": {},
   "outputs": [
    {
     "output_type": "execute_result",
     "data": {
      "text/plain": [
       "3576.0"
      ]
     },
     "metadata": {},
     "execution_count": 34
    }
   ],
   "source": [
    "SQ_abs = sum((data_ten_material[data_ten_material['material']=='abs']['tension_strenght']-float(mean_ten_mat.loc['abs']))**2)\n",
    "SQ_pla = sum((data_ten_material[data_ten_material['material']=='pla']['tension_strenght']-float(mean_ten_mat.loc['pla']))**2)\n",
    "\n",
    "SQe_ten = SQ_abs+SQ_pla\n",
    "SQe_ten"
   ]
  },
  {
   "source": [
    "Fazendo o teste de hipótese temos:  "
   ],
   "cell_type": "markdown",
   "metadata": {}
  },
  {
   "cell_type": "code",
   "execution_count": 35,
   "metadata": {},
   "outputs": [
    {
     "output_type": "stream",
     "name": "stdout",
     "text": [
      "O valor da estatísca cálcula F0 é: 4.3984\nO limites da distribuição para ɑ de 0.05 é: [0.0010:5.3541]\nPortanto, \u001b[31mFALHA EM REJEITAR\u001b[m a hipótese nula!\n"
     ]
    }
   ],
   "source": [
    "a_ten_mat = len(mean_ten_mat)\n",
    "\n",
    "MQtrat_ten = SQtrat_ten/(a_ten_mat-1)\n",
    "MQe_ten = SQe_ten/(a_ten_mat*(n_ten_mat[0]-1))\n",
    "\n",
    "F0_ten_mat = MQtrat_ten/MQe_ten\n",
    "\n",
    "F_bicaudal_hypoteses(F0_ten_mat, 0.05, a_ten_mat-1, a_ten_mat*(n_ten_mat[0]-1))"
   ]
  },
  {
   "source": [
    "Como falhamos em rejeita a hipótese de que os materiais PLA e ABS são uma influencia no resultado de resistencia final de tração, consideremos que estatisticamente falando, ambos os materiais não são os fatores de mudança da resistencia.  \n",
    "\n",
    "#### *Influencia do Padrão de Preenchimento*\n",
    "Com os materiais não sendo influente no resultaod final de tensão de ruptura, analisaremos agora se o padrão de preenchimento influencia.  \n",
    "Serpararemos os dados que será utilizados "
   ],
   "cell_type": "markdown",
   "metadata": {}
  },
  {
   "cell_type": "code",
   "execution_count": 36,
   "metadata": {},
   "outputs": [
    {
     "output_type": "execute_result",
     "data": {
      "text/plain": [
       "  infill_pattern  tension_strenght\n",
       "0           grid                18\n",
       "1      honeycomb                16\n",
       "2           grid                 8\n",
       "3      honeycomb                10\n",
       "4           grid                 5"
      ],
      "text/html": "<div>\n<style scoped>\n    .dataframe tbody tr th:only-of-type {\n        vertical-align: middle;\n    }\n\n    .dataframe tbody tr th {\n        vertical-align: top;\n    }\n\n    .dataframe thead th {\n        text-align: right;\n    }\n</style>\n<table border=\"1\" class=\"dataframe\">\n  <thead>\n    <tr style=\"text-align: right;\">\n      <th></th>\n      <th>infill_pattern</th>\n      <th>tension_strenght</th>\n    </tr>\n  </thead>\n  <tbody>\n    <tr>\n      <th>0</th>\n      <td>grid</td>\n      <td>18</td>\n    </tr>\n    <tr>\n      <th>1</th>\n      <td>honeycomb</td>\n      <td>16</td>\n    </tr>\n    <tr>\n      <th>2</th>\n      <td>grid</td>\n      <td>8</td>\n    </tr>\n    <tr>\n      <th>3</th>\n      <td>honeycomb</td>\n      <td>10</td>\n    </tr>\n    <tr>\n      <th>4</th>\n      <td>grid</td>\n      <td>5</td>\n    </tr>\n  </tbody>\n</table>\n</div>"
     },
     "metadata": {},
     "execution_count": 36
    }
   ],
   "source": [
    "data_ten_ptt = dados[['infill_pattern', 'tension_strenght']]\n",
    "data_ten_ptt.head()"
   ]
  },
  {
   "source": [
    "Observando a quantidade de observações de cada padrão temos:  "
   ],
   "cell_type": "markdown",
   "metadata": {}
  },
  {
   "cell_type": "code",
   "execution_count": 37,
   "metadata": {},
   "outputs": [
    {
     "output_type": "execute_result",
     "data": {
      "text/plain": [
       "grid         25\n",
       "honeycomb    25\n",
       "Name: infill_pattern, dtype: int64"
      ]
     },
     "metadata": {},
     "execution_count": 37
    }
   ],
   "source": [
    "n_ten_ptt = data_ten_ptt['infill_pattern'].value_counts()\n",
    "n_ten_ptt"
   ]
  },
  {
   "source": [
    "Sabendo que o número de observações é igual podemos então fazer o teste ANOVA, com as seguintes hipóteses: \n",
    "$$\n",
    "    \\begin{cases}\n",
    "        \\mathsf{\\mathit{H_0}: \\tau_{0}=\\tau_{1}=0}\\\\\n",
    "        \\mathsf{\\mathit{H_1}: \\tau_{0}\\neq \\tau_{1}\\neq0}\n",
    "    \\end{cases}\n",
    "$$  \n",
    "Assumimos que o modelo assumi uma estatística F, assim:  \n",
    "$$\n",
    "\\mathsf{\n",
    "    F_0=\\dfrac{\\dfrac{SQ_{tratamentos}}{a-1}}{\\dfrac{SQ_{E}}{a\\cdot\\left(n-1\\right)}}=\n",
    "\\dfrac{\\dfrac{n \\cdot \\displaystyle\\sum_{i=1}^{a=2}\\left(\\bar{y}_{i.} - \\bar{y}_{..}\\right)^2}{a-1}}{\\dfrac{\\displaystyle\\sum_{i=1}^{a=2} \\sum_{j=1}^{n=25}\\left(y_{ij}-\\bar{y}_{i.}\\right)^2}{a\\cdot\\left(n-1\\right)}}=\n",
    "    \\dfrac{MQ_{tratamentos}}{MQ_E}\n",
    "}\n",
    "$$  \n",
    "\n",
    "Assim temos:  "
   ],
   "cell_type": "markdown",
   "metadata": {}
  },
  {
   "cell_type": "code",
   "execution_count": 38,
   "metadata": {},
   "outputs": [
    {
     "output_type": "execute_result",
     "data": {
      "text/plain": [
       "                tension_strenght\n",
       "infill_pattern                  \n",
       "grid                       20.00\n",
       "honeycomb                  20.16"
      ],
      "text/html": "<div>\n<style scoped>\n    .dataframe tbody tr th:only-of-type {\n        vertical-align: middle;\n    }\n\n    .dataframe tbody tr th {\n        vertical-align: top;\n    }\n\n    .dataframe thead th {\n        text-align: right;\n    }\n</style>\n<table border=\"1\" class=\"dataframe\">\n  <thead>\n    <tr style=\"text-align: right;\">\n      <th></th>\n      <th>tension_strenght</th>\n    </tr>\n    <tr>\n      <th>infill_pattern</th>\n      <th></th>\n    </tr>\n  </thead>\n  <tbody>\n    <tr>\n      <th>grid</th>\n      <td>20.00</td>\n    </tr>\n    <tr>\n      <th>honeycomb</th>\n      <td>20.16</td>\n    </tr>\n  </tbody>\n</table>\n</div>"
     },
     "metadata": {},
     "execution_count": 38
    }
   ],
   "source": [
    "mean_ten_ptt = data_ten_ptt.groupby('infill_pattern').mean()   # media da tensão por padrão\n",
    "mean_ten_ptt"
   ]
  },
  {
   "cell_type": "code",
   "execution_count": 39,
   "metadata": {},
   "outputs": [
    {
     "output_type": "execute_result",
     "data": {
      "text/plain": [
       "20.08"
      ]
     },
     "metadata": {},
     "execution_count": 39
    }
   ],
   "source": [
    "mean_ten_ptt_gen = data_ten_ptt['tension_strenght'].mean()  # Média Geral \n",
    "mean_ten_ptt_gen"
   ]
  },
  {
   "source": [
    "Caculando o $SQ_{tratamentos}$"
   ],
   "cell_type": "markdown",
   "metadata": {}
  },
  {
   "cell_type": "code",
   "execution_count": 40,
   "metadata": {},
   "outputs": [
    {
     "output_type": "execute_result",
     "data": {
      "text/plain": [
       "0.32000000000000056"
      ]
     },
     "metadata": {},
     "execution_count": 40
    }
   ],
   "source": [
    "SQtrat_ten_ptt = n_ten_ptt[0] * sum((mean_ten_ptt['tension_strenght']-mean_ten_ptt_gen)**2)\n",
    "SQtrat_ten_ptt"
   ]
  },
  {
   "source": [
    "Calculando o $SQ_E$"
   ],
   "cell_type": "markdown",
   "metadata": {}
  },
  {
   "cell_type": "code",
   "execution_count": 41,
   "metadata": {},
   "outputs": [
    {
     "output_type": "execute_result",
     "data": {
      "text/plain": [
       "3576.0"
      ]
     },
     "metadata": {},
     "execution_count": 41
    }
   ],
   "source": [
    "SQ_hon = sum((data_ten_ptt[data_ten_ptt['infill_pattern']=='honeycomb']['tension_strenght']-float(mean_ten_ptt.loc['honeycomb']))**2)\n",
    "SQ_gd = sum((data_ten_ptt[data_ten_ptt['infill_pattern']=='grid']['tension_strenght']-float(mean_ten_ptt.loc['grid']))**2)\n",
    "\n",
    "SQe_ten_ptt = SQ_abs+SQ_pla\n",
    "SQe_ten_ptt"
   ]
  },
  {
   "source": [
    "Fazendo o teste de hipótese temos:  "
   ],
   "cell_type": "markdown",
   "metadata": {}
  },
  {
   "cell_type": "code",
   "execution_count": 42,
   "metadata": {},
   "outputs": [
    {
     "output_type": "stream",
     "name": "stdout",
     "text": [
      "O valor da estatísca cálcula F0 é: 0.0043\nO limites da distribuição para ɑ de 0.05 é: [0.0010:5.3541]\nPortanto, \u001b[31mFALHA EM REJEITAR\u001b[m a hipótese nula!\n"
     ]
    }
   ],
   "source": [
    "a_ten_ptt = len(mean_ten_ptt)\n",
    "\n",
    "MQtrat_ptt = SQtrat_ten_ptt/(a_ten_ptt-1)\n",
    "MQe_ten_ptt = SQe_ten_ptt/(a_ten_ptt*(n_ten_ptt[0]-1))\n",
    "\n",
    "F0_ten_ptt = MQtrat_ptt/MQe_ten_ptt\n",
    "\n",
    "F_bicaudal_hypoteses(F0_ten_ptt, 0.05, a_ten_ptt-1, a_ten_ptt*(n_ten_ptt[0]-1))"
   ]
  },
  {
   "source": [
    "Como podemos ver o preenchimento interno também não influencia na tensão de ruptura da peças.  \n",
    "\n",
    "#### ***Regressão Mutlipla***  \n",
    "Com os dados restantes vamos fazer um modelo de regressão multipla com 6 variáveis $\\mathsf{\\left(x_1, x_2, x_3, x_4, x_5, x_6\\right)}$, sendo cada uma dessas uma entrada medida restante, e possui 7 coeficientes $\\mathsf{\\left(\\hat{\\beta}_0, \\hat{\\beta}_1, \\hat{\\beta}_2, \\hat{\\beta}_3, \\hat{\\beta}_4, \\hat{\\beta}_5, \\hat{\\beta}_6\\right)}$.  \n",
    "Assim como no caso para rugosidade desconsideraremos os dados de velocidade do *fan*, por ele ser dependente da temperatura.  \n",
    "Separando os dados primeriamente:  "
   ],
   "cell_type": "markdown",
   "metadata": {}
  },
  {
   "cell_type": "code",
   "execution_count": 43,
   "metadata": {},
   "outputs": [
    {
     "output_type": "execute_result",
     "data": {
      "text/plain": [
       "   layer_height  wall_thickness  infill_density  nozzle_temperature  \\\n",
       "0          0.02               8              90                 220   \n",
       "1          0.02               7              90                 225   \n",
       "2          0.02               1              80                 230   \n",
       "3          0.02               4              70                 240   \n",
       "4          0.02               6              90                 250   \n",
       "\n",
       "   bed_temperature  print_speed  tension_strenght  \n",
       "0               60           40                18  \n",
       "1               65           40                16  \n",
       "2               70           40                 8  \n",
       "3               75           40                10  \n",
       "4               80           40                 5  "
      ],
      "text/html": "<div>\n<style scoped>\n    .dataframe tbody tr th:only-of-type {\n        vertical-align: middle;\n    }\n\n    .dataframe tbody tr th {\n        vertical-align: top;\n    }\n\n    .dataframe thead th {\n        text-align: right;\n    }\n</style>\n<table border=\"1\" class=\"dataframe\">\n  <thead>\n    <tr style=\"text-align: right;\">\n      <th></th>\n      <th>layer_height</th>\n      <th>wall_thickness</th>\n      <th>infill_density</th>\n      <th>nozzle_temperature</th>\n      <th>bed_temperature</th>\n      <th>print_speed</th>\n      <th>tension_strenght</th>\n    </tr>\n  </thead>\n  <tbody>\n    <tr>\n      <th>0</th>\n      <td>0.02</td>\n      <td>8</td>\n      <td>90</td>\n      <td>220</td>\n      <td>60</td>\n      <td>40</td>\n      <td>18</td>\n    </tr>\n    <tr>\n      <th>1</th>\n      <td>0.02</td>\n      <td>7</td>\n      <td>90</td>\n      <td>225</td>\n      <td>65</td>\n      <td>40</td>\n      <td>16</td>\n    </tr>\n    <tr>\n      <th>2</th>\n      <td>0.02</td>\n      <td>1</td>\n      <td>80</td>\n      <td>230</td>\n      <td>70</td>\n      <td>40</td>\n      <td>8</td>\n    </tr>\n    <tr>\n      <th>3</th>\n      <td>0.02</td>\n      <td>4</td>\n      <td>70</td>\n      <td>240</td>\n      <td>75</td>\n      <td>40</td>\n      <td>10</td>\n    </tr>\n    <tr>\n      <th>4</th>\n      <td>0.02</td>\n      <td>6</td>\n      <td>90</td>\n      <td>250</td>\n      <td>80</td>\n      <td>40</td>\n      <td>5</td>\n    </tr>\n  </tbody>\n</table>\n</div>"
     },
     "metadata": {},
     "execution_count": 43
    }
   ],
   "source": [
    "data_ten = dados.drop(['infill_pattern', 'material', 'fan_speed', 'roughness', 'elongation'], axis=1)\n",
    "data_ten.head()"
   ]
  },
  {
   "source": [
    "Montaremos primeriamente a matriz de covariância:  "
   ],
   "cell_type": "markdown",
   "metadata": {}
  },
  {
   "cell_type": "code",
   "execution_count": 44,
   "metadata": {},
   "outputs": [
    {
     "output_type": "execute_result",
     "data": {
      "text/plain": [
       "array([[ 5.44053814e+00, -1.00996362e+00, -4.57636238e-02,\n",
       "         1.54633282e-03, -2.19638357e-02, -1.09436892e-03,\n",
       "        -3.36835364e-03],\n",
       "       [-1.00996362e+00,  5.24386052e+00,  3.13062506e-02,\n",
       "        -3.77559096e-04,  1.21916643e-03, -1.14828303e-03,\n",
       "         1.89362315e-03],\n",
       "       [-4.57636238e-02,  3.13062506e-02,  3.18852006e-03,\n",
       "        -4.09108343e-05,  1.25746058e-04, -1.18920332e-04,\n",
       "         1.32146819e-04],\n",
       "       [ 1.54633282e-03, -3.77559096e-04, -4.09108343e-05,\n",
       "         3.57060981e-05, -2.41652827e-05,  2.97156734e-05,\n",
       "         1.14141170e-06],\n",
       "       [-2.19638357e-02,  1.21916643e-03,  1.25746058e-04,\n",
       "        -2.41652827e-05,  1.65267613e-04, -2.05075564e-04,\n",
       "         3.39295021e-06],\n",
       "       [-1.09436892e-03, -1.14828303e-03, -1.18920332e-04,\n",
       "         2.97156734e-05, -2.05075564e-04,  6.54917411e-04,\n",
       "        -2.65542593e-06],\n",
       "       [-3.36835364e-03,  1.89362315e-03,  1.32146819e-04,\n",
       "         1.14141170e-06,  3.39295021e-06, -2.65542593e-06,\n",
       "         2.89252055e-05]])"
      ]
     },
     "metadata": {},
     "execution_count": 44
    }
   ],
   "source": [
    "X_ten = pd.concat([pd.Series(np.ones(len(data_ten))),data_ten.iloc[:,:6]],axis=1)\n",
    "\n",
    "C_ten = np.linalg.inv((X_ten.T) @ X_ten)\n",
    "C_ten"
   ]
  },
  {
   "source": [
    "Com a matriz de covariância podemos então encontrar os coeficientes da regressão.  "
   ],
   "cell_type": "markdown",
   "metadata": {}
  },
  {
   "cell_type": "code",
   "execution_count": 45,
   "metadata": {},
   "outputs": [
    {
     "output_type": "stream",
     "name": "stdout",
     "text": [
      "β0: 63.4423\nβ1: 55.6460\nβ2: 1.0743\nβ3: 0.1537\nβ4: -0.3047\nβ5: 0.0777\nβ6: -0.0161\n"
     ]
    }
   ],
   "source": [
    "Y_ten = data_ten['tension_strenght']\n",
    "\n",
    "B_ten = (C @ (X_ten.T)) @ Y_ten\n",
    "for i in range(len(B_ten)):\n",
    "    print('{}{}: {:.4f}'.format('\\u03B2', i, B_ten[i]))"
   ]
  },
  {
   "source": [
    "Assim então temos que o medelo de regressão linear é: \n",
    "$$\n",
    "\\mathsf{\n",
    "    \\hat{y}_{ruptura} = 63,4423 + 55,6460 \\cdot x_1 + 1,0743 \\cdot x_2 + 0,1537 \\cdot x_3 -0,3047 \\cdot x_4 + 0,0777 \\cdot xx_5 - 0,0161 \\cdot x_6\n",
    "}\n",
    "$$  \n",
    "\n",
    "#### Teste de Signficancia  \n",
    "Com os coeficientes calculados vamos determinar se a regressão realmente mostra uma relação dos dados seguindo a hipótese:  \n",
    "$$\n",
    "    \\begin{cases}\n",
    "        \\mathsf{\\mathit{H_0:} \\hat{\\beta}_i= 0}\\\\\n",
    "        \\mathsf{\\mathit{H_1: } \\hat{\\beta}_j \\neq 0}\n",
    "    \\end{cases}\n",
    "$$  \n",
    "Com a estatística:  \n",
    "$$\n",
    "\\mathsf{\n",
    "    F_0 = \\dfrac{\\dfrac{SQ_R}{k}}{\\dfrac{SQ_E}{n-p}} \n",
    "}\n",
    "$$  \n",
    "Onde:\n",
    "$$\n",
    "\\begin{array}{ccc}\n",
    "    \\mathsf{SQ_R = \\displaystyle\\sum_{i=1}^{n=50} \\left(\\hat{y}_i - \\bar{y}\\right)^2} & \\mathsf{e} & \\mathsf{k = p-1}\n",
    "\\end{array}\n",
    "$$  \n",
    "$$\n",
    "\\mathsf{\n",
    "    SQ_E = \\displaystyle\\sum_{i=1}^{n=50}{\\left(y_i - \\hat{y}\\right)^2}\n",
    "}\n",
    "$$"
   ],
   "cell_type": "markdown",
   "metadata": {}
  },
  {
   "cell_type": "code",
   "execution_count": 46,
   "metadata": {},
   "outputs": [
    {
     "output_type": "stream",
     "name": "stdout",
     "text": [
      "O valor da estatísca cálcula F0 é: 15.4259\nO limites da distribuição para ɑ de 0.05 é: [0.1623:2.8712]\nPortanto, \u001b[33mREJEITA-SE\u001b[m a hipótese nula!\np-valor: 9.3843e-09\n"
     ]
    }
   ],
   "source": [
    "Y_hat_ten = B_ten[0] + B_ten[1]*data_ten['layer_height'] + B_ten[2]*data_ten['wall_thickness'] + B_ten[3]*data_ten['infill_density'] + B_ten[4]*data_ten['nozzle_temperature'] + B_ten[5]*data_ten['bed_temperature'] + B_ten[6]*data_ten['print_speed']\n",
    "\n",
    "SQe_ten = sum( (Y_ten-Y_hat_ten)**2 )\n",
    "\n",
    "n_ten = len(Y_ten)\n",
    "p_ten = len(B_ten)-1\n",
    "k_ten =  p_ten-1\n",
    "\n",
    "SQr_ten = sum( (Y_hat_ten - data_ten['tension_strenght'].mean())**2 )\n",
    "\n",
    "F0_ten = (SQr_ten/k_ten)/(SQe_ten/(n_ten-p_ten))\n",
    "\n",
    "F_bicaudal_hypoteses(F0_ten, 0.05, k_ten, n_ten-p_ten)"
   ]
  },
  {
   "source": [
    "Como podemos ver rejeitamos a hipótese nula, logo ao menos uma das constantes interfere na tensão de ruptura.  \n",
    "\n",
    "Determinaremos então quais das variáveis interferem realmente na rugosidade. Para isso consideraremos as seguintes hipóteses para o teste de hipóteses dos coeficientes:  \n",
    "$$\n",
    "    \\begin{cases}{}\n",
    "        \\mathsf{\\mathit{H_0:}\\hat{\\beta}_j = 0}\\\\\n",
    "        \\mathsf{\\mathit{H_1:}\\hat{\\beta}_j \\neq 0}\n",
    "    \\end{cases}\n",
    "$$  \n",
    "Porem agora utilizaremos a seguinte estatística:  \n",
    "$$\n",
    "\\mathsf{\n",
    "    T_0 = \\dfrac{\\hat{\\beta}j - \\beta_{j_0}}{\\sqrt{\\sigma^2 \\cdot C_{jj}}} = \\dfrac{\\hat{\\beta}j - \\beta_{j_0}}{se(\\hat{\\beta}_j)}\n",
    "}\n",
    "$$ \n",
    "\n",
    "Onde: \n",
    "$$\n",
    "\\mathsf{\n",
    "    \\hat{\\sigma}^2 = \\dfrac{SQ_E}{n-p} = \\dfrac{\\displaystyle \\sum_{i=1}^{n=50}{\\left(y_i - \\hat{y}\\right)^2}}{50-7}\n",
    "}\n",
    "$$  \n",
    "Primeiramente calcularemos a variância do erro e os erro padrão de cada coeficiente."
   ],
   "cell_type": "markdown",
   "metadata": {}
  },
  {
   "cell_type": "code",
   "execution_count": 47,
   "metadata": {},
   "outputs": [
    {
     "output_type": "execute_result",
     "data": {
      "text/plain": [
       "[13.241374883464369,\n",
       " 12.99983132748252,\n",
       " 0.3205580801538643,\n",
       " 0.03392214829292059,\n",
       " 0.0729803646936975,\n",
       " 0.1452798623605886,\n",
       " 0.030531657246360873]"
      ]
     },
     "metadata": {},
     "execution_count": 47
    }
   ],
   "source": [
    "var_ten = SQe_ten/(n_ten-p_ten)\n",
    "\n",
    "seB_ten = lin_mult_regress_error(C_ten, var_ten)\n",
    "seB_ten"
   ]
  },
  {
   "source": [
    "Assim podemos testar os coeficientes:  "
   ],
   "cell_type": "markdown",
   "metadata": {}
  },
  {
   "cell_type": "code",
   "execution_count": 48,
   "metadata": {},
   "outputs": [
    {
     "output_type": "stream",
     "name": "stdout",
     "text": [
      "=*==*==*==*==*==*==*==*==*==*==*==*==*==*==*==*==*==*==*==*=\n                       Calculo de β0                        \nO valor de T0 é: 4.7912\nO valor dos limites da região crítica é: [-2.0154:2.0154]\nAssim, \u001b[33mREJEITA-SE\u001b[m a hipótese nula!\nO valor de p é: 9.5767e-06\n=*==*==*==*==*==*==*==*==*==*==*==*==*==*==*==*==*==*==*==*= \n\n=*==*==*==*==*==*==*==*==*==*==*==*==*==*==*==*==*==*==*==*=\n                       Calculo de β1                        \nO valor de T0 é: 4.2805\nO valor dos limites da região crítica é: [-2.0154:2.0154]\nAssim, \u001b[33mREJEITA-SE\u001b[m a hipótese nula!\nO valor de p é: 4.9648e-05\n=*==*==*==*==*==*==*==*==*==*==*==*==*==*==*==*==*==*==*==*= \n\n=*==*==*==*==*==*==*==*==*==*==*==*==*==*==*==*==*==*==*==*=\n                       Calculo de β2                        \nO valor de T0 é: 3.3514\nO valor dos limites da região crítica é: [-2.0154:2.0154]\nAssim, \u001b[33mREJEITA-SE\u001b[m a hipótese nula!\nO valor de p é: 8.2977e-04\n=*==*==*==*==*==*==*==*==*==*==*==*==*==*==*==*==*==*==*==*= \n\n=*==*==*==*==*==*==*==*==*==*==*==*==*==*==*==*==*==*==*==*=\n                       Calculo de β3                        \nO valor de T0 é: 4.5297\nO valor dos limites da região crítica é: [-2.0154:2.0154]\nAssim, \u001b[33mREJEITA-SE\u001b[m a hipótese nula!\nO valor de p é: 2.2392e-05\n=*==*==*==*==*==*==*==*==*==*==*==*==*==*==*==*==*==*==*==*= \n\n=*==*==*==*==*==*==*==*==*==*==*==*==*==*==*==*==*==*==*==*=\n                       Calculo de β4                        \nO valor de T0 é: -4.1747\nO valor dos limites da região crítica é: [-2.0154:2.0154]\nAssim, \u001b[33mREJEITA-SE\u001b[m a hipótese nula!\nO valor de p é: 6.9312e-05\n=*==*==*==*==*==*==*==*==*==*==*==*==*==*==*==*==*==*==*==*= \n\n=*==*==*==*==*==*==*==*==*==*==*==*==*==*==*==*==*==*==*==*=\n                       Calculo de β5                        \nO valor de T0 é: 0.5351\nO valor dos limites da região crítica é: [-2.0154:2.0154]\nAssim, \u001b[31mFALHA-SE EM REJEITAR\u001b[m a hipótese nula!\n=*==*==*==*==*==*==*==*==*==*==*==*==*==*==*==*==*==*==*==*= \n\n=*==*==*==*==*==*==*==*==*==*==*==*==*==*==*==*==*==*==*==*=\n                       Calculo de β6                        \nO valor de T0 é: -0.5272\nO valor dos limites da região crítica é: [-2.0154:2.0154]\nAssim, \u001b[31mFALHA-SE EM REJEITAR\u001b[m a hipótese nula!\n=*==*==*==*==*==*==*==*==*==*==*==*==*==*==*==*==*==*==*==*= \n\n"
     ]
    }
   ],
   "source": [
    "lin_mult_coef_hipo(B_ten, seB_ten, 0, 0.05, n_ten)"
   ]
  },
  {
   "cell_type": "code",
   "execution_count": 49,
   "metadata": {},
   "outputs": [
    {
     "output_type": "execute_result",
     "data": {
      "text/plain": [
       "Index(['layer_height', 'wall_thickness', 'infill_density',\n",
       "       'nozzle_temperature', 'bed_temperature', 'print_speed',\n",
       "       'tension_strenght'],\n",
       "      dtype='object')"
      ]
     },
     "metadata": {},
     "execution_count": 49
    }
   ],
   "source": [
    "data_ten.columns"
   ]
  },
  {
   "source": [
    "Como podemo observar então, apenas os coeficientes relativos a velocidade de impressão e a temperatura da mesa falaha-se em rejeita a hipótese nula. Logo o modelo final do nosso sistema é:  \n",
    "$$\n",
    "\\mathsf{\n",
    "    \\sigma_r = 63,4423 + 55,6460 \\cdot lh + 1,0743 \\cdot wt + 0,1537 \\cdot d_i - 0,3047 \\cdot T\n",
    "}\n",
    "$$  \n",
    "Onde:  \n",
    "   * $\\mathsf{\\sigma_r}$ = tensão de ruptura  \n",
    "   * $\\mathsf{lh}$ = altura de camada  \n",
    "   * $\\mathsf{wt}$ = espessura de camada  \n",
    "   * $\\mathsf{d_i}$ = densidade de preenchimento\n",
    "   * $\\mathsf{T}$ = temperatura do bico  \n",
    "\n",
    "Por fim calcularemos o coeficiente de determinação:  "
   ],
   "cell_type": "markdown",
   "metadata": {}
  },
  {
   "cell_type": "code",
   "execution_count": 50,
   "metadata": {},
   "outputs": [
    {
     "output_type": "stream",
     "name": "stdout",
     "text": [
      "R²: 0.6368\nR²_ajustado: 0.5955\n"
     ]
    }
   ],
   "source": [
    "\n",
    "RR_ten = SQr_ten/(SQe_ten+SQr_ten)\n",
    "RR_ten_adj = 1 - ( (SQe_ten/(n_ten-p_ten))/((SQr_ten+SQe_ten)/(n_ten-1)) )\n",
    "\n",
    "print('R²: {:.4f}'.format(RR_ten))\n",
    "print('R²_ajustado: {:.4f}'.format(RR_ten_adj))"
   ]
  },
  {
   "source": [
    "### Tensão de ruptura x elongação  \n",
    "\n",
    "Por fim vamos fazer uma regressão linear simples para enteder a relação tensão deformação de peças impressas. Como vimos que o material pouco interfere na tensão de ruptura vamos considerar os dados como se fosse de um material só.  \n",
    "\n",
    "Usando a função estatistica para regressão linear temos:  "
   ],
   "cell_type": "markdown",
   "metadata": {}
  },
  {
   "cell_type": "code",
   "execution_count": 51,
   "metadata": {},
   "outputs": [
    {
     "output_type": "stream",
     "name": "stdout",
     "text": [
      "y = 4.2111 + 9.4909.x\n"
     ]
    }
   ],
   "source": [
    "regr_ten_def = st.linregress(dados['elongation'],dados['tension_strenght'])\n",
    "\n",
    "print('y = {:.4f} + {:.4f}.x'.format(regr_ten_def.intercept, regr_ten_def.slope))"
   ]
  },
  {
   "source": [
    "O coeficiente de determinação da reta é:  "
   ],
   "cell_type": "markdown",
   "metadata": {}
  },
  {
   "cell_type": "code",
   "execution_count": 52,
   "metadata": {},
   "outputs": [
    {
     "output_type": "stream",
     "name": "stdout",
     "text": [
      "R² = 0.7024\n"
     ]
    }
   ],
   "source": [
    "print('R² = {:.4f}'.format(regr_ten_def.rvalue**2))"
   ]
  },
  {
   "source": [
    "Temos um ajuste mediano da reta.  \n",
    "Para finalizar plotaremos um gráfico da relação tensão de ruptura x alongamento."
   ],
   "cell_type": "markdown",
   "metadata": {}
  },
  {
   "cell_type": "code",
   "execution_count": 53,
   "metadata": {},
   "outputs": [
    {
     "output_type": "execute_result",
     "data": {
      "text/plain": [
       "(0.0, 3.4)"
      ]
     },
     "metadata": {},
     "execution_count": 53
    },
    {
     "output_type": "display_data",
     "data": {
      "text/plain": "<Figure size 1008x648 with 1 Axes>",
      "image/svg+xml": "<?xml version=\"1.0\" encoding=\"utf-8\" standalone=\"no\"?>\r\n<!DOCTYPE svg PUBLIC \"-//W3C//DTD SVG 1.1//EN\"\r\n  \"http://www.w3.org/Graphics/SVG/1.1/DTD/svg11.dtd\">\r\n<!-- Created with matplotlib (https://matplotlib.org/) -->\r\n<svg height=\"567.256573pt\" version=\"1.1\" viewBox=\"0 0 857.18247 567.256573\" width=\"857.18247pt\" xmlns=\"http://www.w3.org/2000/svg\" xmlns:xlink=\"http://www.w3.org/1999/xlink\">\r\n <metadata>\r\n  <rdf:RDF xmlns:cc=\"http://creativecommons.org/ns#\" xmlns:dc=\"http://purl.org/dc/elements/1.1/\" xmlns:rdf=\"http://www.w3.org/1999/02/22-rdf-syntax-ns#\">\r\n   <cc:Work>\r\n    <dc:type rdf:resource=\"http://purl.org/dc/dcmitype/StillImage\"/>\r\n    <dc:date>2021-02-08T13:25:21.182526</dc:date>\r\n    <dc:format>image/svg+xml</dc:format>\r\n    <dc:creator>\r\n     <cc:Agent>\r\n      <dc:title>Matplotlib v3.3.3, https://matplotlib.org/</dc:title>\r\n     </cc:Agent>\r\n    </dc:creator>\r\n   </cc:Work>\r\n  </rdf:RDF>\r\n </metadata>\r\n <defs>\r\n  <style type=\"text/css\">*{stroke-linecap:butt;stroke-linejoin:round;}</style>\r\n </defs>\r\n <g id=\"figure_1\">\r\n  <g id=\"patch_1\">\r\n   <path d=\"M 0 567.256573 \r\nL 857.18247 567.256573 \r\nL 857.18247 0 \r\nL 0 0 \r\nz\r\n\" style=\"fill:none;\"/>\r\n  </g>\r\n  <g id=\"axes_1\">\r\n   <g id=\"patch_2\">\r\n    <path d=\"M 60.615938 516.696562 \r\nL 841.815938 516.696562 \r\nL 841.815938 27.456562 \r\nL 60.615938 27.456562 \r\nz\r\n\" style=\"fill:#ffffff;\"/>\r\n   </g>\r\n   <g id=\"matplotlib.axis_1\">\r\n    <g id=\"xtick_1\">\r\n     <g id=\"line2d_1\">\r\n      <path clip-path=\"url(#pd3693154a8)\" d=\"M 60.615938 516.696562 \r\nL 60.615938 27.456562 \r\n\" style=\"fill:none;stroke:#0000ff;stroke-dasharray:2,3.3;stroke-dashoffset:0;stroke-opacity:0.5;stroke-width:2;\"/>\r\n     </g>\r\n     <g id=\"line2d_2\">\r\n      <defs>\r\n       <path d=\"M 0 0 \r\nL 0 3.5 \r\n\" id=\"mdef969b18c\" style=\"stroke:#000000;stroke-width:0.8;\"/>\r\n      </defs>\r\n      <g>\r\n       <use style=\"stroke:#000000;stroke-width:0.8;\" x=\"60.615938\" xlink:href=\"#mdef969b18c\" y=\"516.696562\"/>\r\n      </g>\r\n     </g>\r\n     <g id=\"text_1\">\r\n      <!-- 0.0 -->\r\n      <g transform=\"translate(59.029845 541.268291)rotate(-60)scale(0.1 -0.1)\">\r\n       <defs>\r\n        <path d=\"M 31.78125 66.40625 \r\nQ 24.171875 66.40625 20.328125 58.90625 \r\nQ 16.5 51.421875 16.5 36.375 \r\nQ 16.5 21.390625 20.328125 13.890625 \r\nQ 24.171875 6.390625 31.78125 6.390625 \r\nQ 39.453125 6.390625 43.28125 13.890625 \r\nQ 47.125 21.390625 47.125 36.375 \r\nQ 47.125 51.421875 43.28125 58.90625 \r\nQ 39.453125 66.40625 31.78125 66.40625 \r\nz\r\nM 31.78125 74.21875 \r\nQ 44.046875 74.21875 50.515625 64.515625 \r\nQ 56.984375 54.828125 56.984375 36.375 \r\nQ 56.984375 17.96875 50.515625 8.265625 \r\nQ 44.046875 -1.421875 31.78125 -1.421875 \r\nQ 19.53125 -1.421875 13.0625 8.265625 \r\nQ 6.59375 17.96875 6.59375 36.375 \r\nQ 6.59375 54.828125 13.0625 64.515625 \r\nQ 19.53125 74.21875 31.78125 74.21875 \r\nz\r\n\" id=\"DejaVuSans-48\"/>\r\n        <path d=\"M 10.6875 12.40625 \r\nL 21 12.40625 \r\nL 21 0 \r\nL 10.6875 0 \r\nz\r\n\" id=\"DejaVuSans-46\"/>\r\n       </defs>\r\n       <use xlink:href=\"#DejaVuSans-48\"/>\r\n       <use x=\"63.623047\" xlink:href=\"#DejaVuSans-46\"/>\r\n       <use x=\"95.410156\" xlink:href=\"#DejaVuSans-48\"/>\r\n      </g>\r\n     </g>\r\n    </g>\r\n    <g id=\"xtick_2\">\r\n     <g id=\"line2d_3\">\r\n      <path clip-path=\"url(#pd3693154a8)\" d=\"M 83.592408 516.696562 \r\nL 83.592408 27.456562 \r\n\" style=\"fill:none;stroke:#0000ff;stroke-dasharray:2,3.3;stroke-dashoffset:0;stroke-opacity:0.5;stroke-width:2;\"/>\r\n     </g>\r\n     <g id=\"line2d_4\">\r\n      <g>\r\n       <use style=\"stroke:#000000;stroke-width:0.8;\" x=\"83.592408\" xlink:href=\"#mdef969b18c\" y=\"516.696562\"/>\r\n      </g>\r\n     </g>\r\n     <g id=\"text_2\">\r\n      <!-- 0.1 -->\r\n      <g transform=\"translate(82.006316 541.268291)rotate(-60)scale(0.1 -0.1)\">\r\n       <defs>\r\n        <path d=\"M 12.40625 8.296875 \r\nL 28.515625 8.296875 \r\nL 28.515625 63.921875 \r\nL 10.984375 60.40625 \r\nL 10.984375 69.390625 \r\nL 28.421875 72.90625 \r\nL 38.28125 72.90625 \r\nL 38.28125 8.296875 \r\nL 54.390625 8.296875 \r\nL 54.390625 0 \r\nL 12.40625 0 \r\nz\r\n\" id=\"DejaVuSans-49\"/>\r\n       </defs>\r\n       <use xlink:href=\"#DejaVuSans-48\"/>\r\n       <use x=\"63.623047\" xlink:href=\"#DejaVuSans-46\"/>\r\n       <use x=\"95.410156\" xlink:href=\"#DejaVuSans-49\"/>\r\n      </g>\r\n     </g>\r\n    </g>\r\n    <g id=\"xtick_3\">\r\n     <g id=\"line2d_5\">\r\n      <path clip-path=\"url(#pd3693154a8)\" d=\"M 106.568879 516.696562 \r\nL 106.568879 27.456562 \r\n\" style=\"fill:none;stroke:#0000ff;stroke-dasharray:2,3.3;stroke-dashoffset:0;stroke-opacity:0.5;stroke-width:2;\"/>\r\n     </g>\r\n     <g id=\"line2d_6\">\r\n      <g>\r\n       <use style=\"stroke:#000000;stroke-width:0.8;\" x=\"106.568879\" xlink:href=\"#mdef969b18c\" y=\"516.696562\"/>\r\n      </g>\r\n     </g>\r\n     <g id=\"text_3\">\r\n      <!-- 0.2 -->\r\n      <g transform=\"translate(104.982786 541.268291)rotate(-60)scale(0.1 -0.1)\">\r\n       <defs>\r\n        <path d=\"M 19.1875 8.296875 \r\nL 53.609375 8.296875 \r\nL 53.609375 0 \r\nL 7.328125 0 \r\nL 7.328125 8.296875 \r\nQ 12.9375 14.109375 22.625 23.890625 \r\nQ 32.328125 33.6875 34.8125 36.53125 \r\nQ 39.546875 41.84375 41.421875 45.53125 \r\nQ 43.3125 49.21875 43.3125 52.78125 \r\nQ 43.3125 58.59375 39.234375 62.25 \r\nQ 35.15625 65.921875 28.609375 65.921875 \r\nQ 23.96875 65.921875 18.8125 64.3125 \r\nQ 13.671875 62.703125 7.8125 59.421875 \r\nL 7.8125 69.390625 \r\nQ 13.765625 71.78125 18.9375 73 \r\nQ 24.125 74.21875 28.421875 74.21875 \r\nQ 39.75 74.21875 46.484375 68.546875 \r\nQ 53.21875 62.890625 53.21875 53.421875 \r\nQ 53.21875 48.921875 51.53125 44.890625 \r\nQ 49.859375 40.875 45.40625 35.40625 \r\nQ 44.1875 33.984375 37.640625 27.21875 \r\nQ 31.109375 20.453125 19.1875 8.296875 \r\nz\r\n\" id=\"DejaVuSans-50\"/>\r\n       </defs>\r\n       <use xlink:href=\"#DejaVuSans-48\"/>\r\n       <use x=\"63.623047\" xlink:href=\"#DejaVuSans-46\"/>\r\n       <use x=\"95.410156\" xlink:href=\"#DejaVuSans-50\"/>\r\n      </g>\r\n     </g>\r\n    </g>\r\n    <g id=\"xtick_4\">\r\n     <g id=\"line2d_7\">\r\n      <path clip-path=\"url(#pd3693154a8)\" d=\"M 129.545349 516.696562 \r\nL 129.545349 27.456562 \r\n\" style=\"fill:none;stroke:#0000ff;stroke-dasharray:2,3.3;stroke-dashoffset:0;stroke-opacity:0.5;stroke-width:2;\"/>\r\n     </g>\r\n     <g id=\"line2d_8\">\r\n      <g>\r\n       <use style=\"stroke:#000000;stroke-width:0.8;\" x=\"129.545349\" xlink:href=\"#mdef969b18c\" y=\"516.696562\"/>\r\n      </g>\r\n     </g>\r\n     <g id=\"text_4\">\r\n      <!-- 0.3 -->\r\n      <g transform=\"translate(127.959257 541.268291)rotate(-60)scale(0.1 -0.1)\">\r\n       <defs>\r\n        <path d=\"M 40.578125 39.3125 \r\nQ 47.65625 37.796875 51.625 33 \r\nQ 55.609375 28.21875 55.609375 21.1875 \r\nQ 55.609375 10.40625 48.1875 4.484375 \r\nQ 40.765625 -1.421875 27.09375 -1.421875 \r\nQ 22.515625 -1.421875 17.65625 -0.515625 \r\nQ 12.796875 0.390625 7.625 2.203125 \r\nL 7.625 11.71875 \r\nQ 11.71875 9.328125 16.59375 8.109375 \r\nQ 21.484375 6.890625 26.8125 6.890625 \r\nQ 36.078125 6.890625 40.9375 10.546875 \r\nQ 45.796875 14.203125 45.796875 21.1875 \r\nQ 45.796875 27.640625 41.28125 31.265625 \r\nQ 36.765625 34.90625 28.71875 34.90625 \r\nL 20.21875 34.90625 \r\nL 20.21875 43.015625 \r\nL 29.109375 43.015625 \r\nQ 36.375 43.015625 40.234375 45.921875 \r\nQ 44.09375 48.828125 44.09375 54.296875 \r\nQ 44.09375 59.90625 40.109375 62.90625 \r\nQ 36.140625 65.921875 28.71875 65.921875 \r\nQ 24.65625 65.921875 20.015625 65.03125 \r\nQ 15.375 64.15625 9.8125 62.3125 \r\nL 9.8125 71.09375 \r\nQ 15.4375 72.65625 20.34375 73.4375 \r\nQ 25.25 74.21875 29.59375 74.21875 \r\nQ 40.828125 74.21875 47.359375 69.109375 \r\nQ 53.90625 64.015625 53.90625 55.328125 \r\nQ 53.90625 49.265625 50.4375 45.09375 \r\nQ 46.96875 40.921875 40.578125 39.3125 \r\nz\r\n\" id=\"DejaVuSans-51\"/>\r\n       </defs>\r\n       <use xlink:href=\"#DejaVuSans-48\"/>\r\n       <use x=\"63.623047\" xlink:href=\"#DejaVuSans-46\"/>\r\n       <use x=\"95.410156\" xlink:href=\"#DejaVuSans-51\"/>\r\n      </g>\r\n     </g>\r\n    </g>\r\n    <g id=\"xtick_5\">\r\n     <g id=\"line2d_9\">\r\n      <path clip-path=\"url(#pd3693154a8)\" d=\"M 152.52182 516.696562 \r\nL 152.52182 27.456562 \r\n\" style=\"fill:none;stroke:#0000ff;stroke-dasharray:2,3.3;stroke-dashoffset:0;stroke-opacity:0.5;stroke-width:2;\"/>\r\n     </g>\r\n     <g id=\"line2d_10\">\r\n      <g>\r\n       <use style=\"stroke:#000000;stroke-width:0.8;\" x=\"152.52182\" xlink:href=\"#mdef969b18c\" y=\"516.696562\"/>\r\n      </g>\r\n     </g>\r\n     <g id=\"text_5\">\r\n      <!-- 0.4 -->\r\n      <g transform=\"translate(150.935727 541.268291)rotate(-60)scale(0.1 -0.1)\">\r\n       <defs>\r\n        <path d=\"M 37.796875 64.3125 \r\nL 12.890625 25.390625 \r\nL 37.796875 25.390625 \r\nz\r\nM 35.203125 72.90625 \r\nL 47.609375 72.90625 \r\nL 47.609375 25.390625 \r\nL 58.015625 25.390625 \r\nL 58.015625 17.1875 \r\nL 47.609375 17.1875 \r\nL 47.609375 0 \r\nL 37.796875 0 \r\nL 37.796875 17.1875 \r\nL 4.890625 17.1875 \r\nL 4.890625 26.703125 \r\nz\r\n\" id=\"DejaVuSans-52\"/>\r\n       </defs>\r\n       <use xlink:href=\"#DejaVuSans-48\"/>\r\n       <use x=\"63.623047\" xlink:href=\"#DejaVuSans-46\"/>\r\n       <use x=\"95.410156\" xlink:href=\"#DejaVuSans-52\"/>\r\n      </g>\r\n     </g>\r\n    </g>\r\n    <g id=\"xtick_6\">\r\n     <g id=\"line2d_11\">\r\n      <path clip-path=\"url(#pd3693154a8)\" d=\"M 175.49829 516.696562 \r\nL 175.49829 27.456562 \r\n\" style=\"fill:none;stroke:#0000ff;stroke-dasharray:2,3.3;stroke-dashoffset:0;stroke-opacity:0.5;stroke-width:2;\"/>\r\n     </g>\r\n     <g id=\"line2d_12\">\r\n      <g>\r\n       <use style=\"stroke:#000000;stroke-width:0.8;\" x=\"175.49829\" xlink:href=\"#mdef969b18c\" y=\"516.696562\"/>\r\n      </g>\r\n     </g>\r\n     <g id=\"text_6\">\r\n      <!-- 0.5 -->\r\n      <g transform=\"translate(173.912198 541.268291)rotate(-60)scale(0.1 -0.1)\">\r\n       <defs>\r\n        <path d=\"M 10.796875 72.90625 \r\nL 49.515625 72.90625 \r\nL 49.515625 64.59375 \r\nL 19.828125 64.59375 \r\nL 19.828125 46.734375 \r\nQ 21.96875 47.46875 24.109375 47.828125 \r\nQ 26.265625 48.1875 28.421875 48.1875 \r\nQ 40.625 48.1875 47.75 41.5 \r\nQ 54.890625 34.8125 54.890625 23.390625 \r\nQ 54.890625 11.625 47.5625 5.09375 \r\nQ 40.234375 -1.421875 26.90625 -1.421875 \r\nQ 22.3125 -1.421875 17.546875 -0.640625 \r\nQ 12.796875 0.140625 7.71875 1.703125 \r\nL 7.71875 11.625 \r\nQ 12.109375 9.234375 16.796875 8.0625 \r\nQ 21.484375 6.890625 26.703125 6.890625 \r\nQ 35.15625 6.890625 40.078125 11.328125 \r\nQ 45.015625 15.765625 45.015625 23.390625 \r\nQ 45.015625 31 40.078125 35.4375 \r\nQ 35.15625 39.890625 26.703125 39.890625 \r\nQ 22.75 39.890625 18.8125 39.015625 \r\nQ 14.890625 38.140625 10.796875 36.28125 \r\nz\r\n\" id=\"DejaVuSans-53\"/>\r\n       </defs>\r\n       <use xlink:href=\"#DejaVuSans-48\"/>\r\n       <use x=\"63.623047\" xlink:href=\"#DejaVuSans-46\"/>\r\n       <use x=\"95.410156\" xlink:href=\"#DejaVuSans-53\"/>\r\n      </g>\r\n     </g>\r\n    </g>\r\n    <g id=\"xtick_7\">\r\n     <g id=\"line2d_13\">\r\n      <path clip-path=\"url(#pd3693154a8)\" d=\"M 198.474761 516.696562 \r\nL 198.474761 27.456562 \r\n\" style=\"fill:none;stroke:#0000ff;stroke-dasharray:2,3.3;stroke-dashoffset:0;stroke-opacity:0.5;stroke-width:2;\"/>\r\n     </g>\r\n     <g id=\"line2d_14\">\r\n      <g>\r\n       <use style=\"stroke:#000000;stroke-width:0.8;\" x=\"198.474761\" xlink:href=\"#mdef969b18c\" y=\"516.696562\"/>\r\n      </g>\r\n     </g>\r\n     <g id=\"text_7\">\r\n      <!-- 0.6 -->\r\n      <g transform=\"translate(196.888669 541.268291)rotate(-60)scale(0.1 -0.1)\">\r\n       <defs>\r\n        <path d=\"M 33.015625 40.375 \r\nQ 26.375 40.375 22.484375 35.828125 \r\nQ 18.609375 31.296875 18.609375 23.390625 \r\nQ 18.609375 15.53125 22.484375 10.953125 \r\nQ 26.375 6.390625 33.015625 6.390625 \r\nQ 39.65625 6.390625 43.53125 10.953125 \r\nQ 47.40625 15.53125 47.40625 23.390625 \r\nQ 47.40625 31.296875 43.53125 35.828125 \r\nQ 39.65625 40.375 33.015625 40.375 \r\nz\r\nM 52.59375 71.296875 \r\nL 52.59375 62.3125 \r\nQ 48.875 64.0625 45.09375 64.984375 \r\nQ 41.3125 65.921875 37.59375 65.921875 \r\nQ 27.828125 65.921875 22.671875 59.328125 \r\nQ 17.53125 52.734375 16.796875 39.40625 \r\nQ 19.671875 43.65625 24.015625 45.921875 \r\nQ 28.375 48.1875 33.59375 48.1875 \r\nQ 44.578125 48.1875 50.953125 41.515625 \r\nQ 57.328125 34.859375 57.328125 23.390625 \r\nQ 57.328125 12.15625 50.6875 5.359375 \r\nQ 44.046875 -1.421875 33.015625 -1.421875 \r\nQ 20.359375 -1.421875 13.671875 8.265625 \r\nQ 6.984375 17.96875 6.984375 36.375 \r\nQ 6.984375 53.65625 15.1875 63.9375 \r\nQ 23.390625 74.21875 37.203125 74.21875 \r\nQ 40.921875 74.21875 44.703125 73.484375 \r\nQ 48.484375 72.75 52.59375 71.296875 \r\nz\r\n\" id=\"DejaVuSans-54\"/>\r\n       </defs>\r\n       <use xlink:href=\"#DejaVuSans-48\"/>\r\n       <use x=\"63.623047\" xlink:href=\"#DejaVuSans-46\"/>\r\n       <use x=\"95.410156\" xlink:href=\"#DejaVuSans-54\"/>\r\n      </g>\r\n     </g>\r\n    </g>\r\n    <g id=\"xtick_8\">\r\n     <g id=\"line2d_15\">\r\n      <path clip-path=\"url(#pd3693154a8)\" d=\"M 221.451232 516.696562 \r\nL 221.451232 27.456562 \r\n\" style=\"fill:none;stroke:#0000ff;stroke-dasharray:2,3.3;stroke-dashoffset:0;stroke-opacity:0.5;stroke-width:2;\"/>\r\n     </g>\r\n     <g id=\"line2d_16\">\r\n      <g>\r\n       <use style=\"stroke:#000000;stroke-width:0.8;\" x=\"221.451232\" xlink:href=\"#mdef969b18c\" y=\"516.696562\"/>\r\n      </g>\r\n     </g>\r\n     <g id=\"text_8\">\r\n      <!-- 0.7 -->\r\n      <g transform=\"translate(219.865139 541.268291)rotate(-60)scale(0.1 -0.1)\">\r\n       <defs>\r\n        <path d=\"M 8.203125 72.90625 \r\nL 55.078125 72.90625 \r\nL 55.078125 68.703125 \r\nL 28.609375 0 \r\nL 18.3125 0 \r\nL 43.21875 64.59375 \r\nL 8.203125 64.59375 \r\nz\r\n\" id=\"DejaVuSans-55\"/>\r\n       </defs>\r\n       <use xlink:href=\"#DejaVuSans-48\"/>\r\n       <use x=\"63.623047\" xlink:href=\"#DejaVuSans-46\"/>\r\n       <use x=\"95.410156\" xlink:href=\"#DejaVuSans-55\"/>\r\n      </g>\r\n     </g>\r\n    </g>\r\n    <g id=\"xtick_9\">\r\n     <g id=\"line2d_17\">\r\n      <path clip-path=\"url(#pd3693154a8)\" d=\"M 244.427702 516.696562 \r\nL 244.427702 27.456562 \r\n\" style=\"fill:none;stroke:#0000ff;stroke-dasharray:2,3.3;stroke-dashoffset:0;stroke-opacity:0.5;stroke-width:2;\"/>\r\n     </g>\r\n     <g id=\"line2d_18\">\r\n      <g>\r\n       <use style=\"stroke:#000000;stroke-width:0.8;\" x=\"244.427702\" xlink:href=\"#mdef969b18c\" y=\"516.696562\"/>\r\n      </g>\r\n     </g>\r\n     <g id=\"text_9\">\r\n      <!-- 0.8 -->\r\n      <g transform=\"translate(242.84161 541.268291)rotate(-60)scale(0.1 -0.1)\">\r\n       <defs>\r\n        <path d=\"M 31.78125 34.625 \r\nQ 24.75 34.625 20.71875 30.859375 \r\nQ 16.703125 27.09375 16.703125 20.515625 \r\nQ 16.703125 13.921875 20.71875 10.15625 \r\nQ 24.75 6.390625 31.78125 6.390625 \r\nQ 38.8125 6.390625 42.859375 10.171875 \r\nQ 46.921875 13.96875 46.921875 20.515625 \r\nQ 46.921875 27.09375 42.890625 30.859375 \r\nQ 38.875 34.625 31.78125 34.625 \r\nz\r\nM 21.921875 38.8125 \r\nQ 15.578125 40.375 12.03125 44.71875 \r\nQ 8.5 49.078125 8.5 55.328125 \r\nQ 8.5 64.0625 14.71875 69.140625 \r\nQ 20.953125 74.21875 31.78125 74.21875 \r\nQ 42.671875 74.21875 48.875 69.140625 \r\nQ 55.078125 64.0625 55.078125 55.328125 \r\nQ 55.078125 49.078125 51.53125 44.71875 \r\nQ 48 40.375 41.703125 38.8125 \r\nQ 48.828125 37.15625 52.796875 32.3125 \r\nQ 56.78125 27.484375 56.78125 20.515625 \r\nQ 56.78125 9.90625 50.3125 4.234375 \r\nQ 43.84375 -1.421875 31.78125 -1.421875 \r\nQ 19.734375 -1.421875 13.25 4.234375 \r\nQ 6.78125 9.90625 6.78125 20.515625 \r\nQ 6.78125 27.484375 10.78125 32.3125 \r\nQ 14.796875 37.15625 21.921875 38.8125 \r\nz\r\nM 18.3125 54.390625 \r\nQ 18.3125 48.734375 21.84375 45.5625 \r\nQ 25.390625 42.390625 31.78125 42.390625 \r\nQ 38.140625 42.390625 41.71875 45.5625 \r\nQ 45.3125 48.734375 45.3125 54.390625 \r\nQ 45.3125 60.0625 41.71875 63.234375 \r\nQ 38.140625 66.40625 31.78125 66.40625 \r\nQ 25.390625 66.40625 21.84375 63.234375 \r\nQ 18.3125 60.0625 18.3125 54.390625 \r\nz\r\n\" id=\"DejaVuSans-56\"/>\r\n       </defs>\r\n       <use xlink:href=\"#DejaVuSans-48\"/>\r\n       <use x=\"63.623047\" xlink:href=\"#DejaVuSans-46\"/>\r\n       <use x=\"95.410156\" xlink:href=\"#DejaVuSans-56\"/>\r\n      </g>\r\n     </g>\r\n    </g>\r\n    <g id=\"xtick_10\">\r\n     <g id=\"line2d_19\">\r\n      <path clip-path=\"url(#pd3693154a8)\" d=\"M 267.404173 516.696562 \r\nL 267.404173 27.456562 \r\n\" style=\"fill:none;stroke:#0000ff;stroke-dasharray:2,3.3;stroke-dashoffset:0;stroke-opacity:0.5;stroke-width:2;\"/>\r\n     </g>\r\n     <g id=\"line2d_20\">\r\n      <g>\r\n       <use style=\"stroke:#000000;stroke-width:0.8;\" x=\"267.404173\" xlink:href=\"#mdef969b18c\" y=\"516.696562\"/>\r\n      </g>\r\n     </g>\r\n     <g id=\"text_10\">\r\n      <!-- 0.9 -->\r\n      <g transform=\"translate(265.81808 541.268291)rotate(-60)scale(0.1 -0.1)\">\r\n       <defs>\r\n        <path d=\"M 10.984375 1.515625 \r\nL 10.984375 10.5 \r\nQ 14.703125 8.734375 18.5 7.8125 \r\nQ 22.3125 6.890625 25.984375 6.890625 \r\nQ 35.75 6.890625 40.890625 13.453125 \r\nQ 46.046875 20.015625 46.78125 33.40625 \r\nQ 43.953125 29.203125 39.59375 26.953125 \r\nQ 35.25 24.703125 29.984375 24.703125 \r\nQ 19.046875 24.703125 12.671875 31.3125 \r\nQ 6.296875 37.9375 6.296875 49.421875 \r\nQ 6.296875 60.640625 12.9375 67.421875 \r\nQ 19.578125 74.21875 30.609375 74.21875 \r\nQ 43.265625 74.21875 49.921875 64.515625 \r\nQ 56.59375 54.828125 56.59375 36.375 \r\nQ 56.59375 19.140625 48.40625 8.859375 \r\nQ 40.234375 -1.421875 26.421875 -1.421875 \r\nQ 22.703125 -1.421875 18.890625 -0.6875 \r\nQ 15.09375 0.046875 10.984375 1.515625 \r\nz\r\nM 30.609375 32.421875 \r\nQ 37.25 32.421875 41.125 36.953125 \r\nQ 45.015625 41.5 45.015625 49.421875 \r\nQ 45.015625 57.28125 41.125 61.84375 \r\nQ 37.25 66.40625 30.609375 66.40625 \r\nQ 23.96875 66.40625 20.09375 61.84375 \r\nQ 16.21875 57.28125 16.21875 49.421875 \r\nQ 16.21875 41.5 20.09375 36.953125 \r\nQ 23.96875 32.421875 30.609375 32.421875 \r\nz\r\n\" id=\"DejaVuSans-57\"/>\r\n       </defs>\r\n       <use xlink:href=\"#DejaVuSans-48\"/>\r\n       <use x=\"63.623047\" xlink:href=\"#DejaVuSans-46\"/>\r\n       <use x=\"95.410156\" xlink:href=\"#DejaVuSans-57\"/>\r\n      </g>\r\n     </g>\r\n    </g>\r\n    <g id=\"xtick_11\">\r\n     <g id=\"line2d_21\">\r\n      <path clip-path=\"url(#pd3693154a8)\" d=\"M 290.380643 516.696562 \r\nL 290.380643 27.456562 \r\n\" style=\"fill:none;stroke:#0000ff;stroke-dasharray:2,3.3;stroke-dashoffset:0;stroke-opacity:0.5;stroke-width:2;\"/>\r\n     </g>\r\n     <g id=\"line2d_22\">\r\n      <g>\r\n       <use style=\"stroke:#000000;stroke-width:0.8;\" x=\"290.380643\" xlink:href=\"#mdef969b18c\" y=\"516.696562\"/>\r\n      </g>\r\n     </g>\r\n     <g id=\"text_11\">\r\n      <!-- 1.0 -->\r\n      <g transform=\"translate(288.794551 541.268291)rotate(-60)scale(0.1 -0.1)\">\r\n       <use xlink:href=\"#DejaVuSans-49\"/>\r\n       <use x=\"63.623047\" xlink:href=\"#DejaVuSans-46\"/>\r\n       <use x=\"95.410156\" xlink:href=\"#DejaVuSans-48\"/>\r\n      </g>\r\n     </g>\r\n    </g>\r\n    <g id=\"xtick_12\">\r\n     <g id=\"line2d_23\">\r\n      <path clip-path=\"url(#pd3693154a8)\" d=\"M 313.357114 516.696562 \r\nL 313.357114 27.456562 \r\n\" style=\"fill:none;stroke:#0000ff;stroke-dasharray:2,3.3;stroke-dashoffset:0;stroke-opacity:0.5;stroke-width:2;\"/>\r\n     </g>\r\n     <g id=\"line2d_24\">\r\n      <g>\r\n       <use style=\"stroke:#000000;stroke-width:0.8;\" x=\"313.357114\" xlink:href=\"#mdef969b18c\" y=\"516.696562\"/>\r\n      </g>\r\n     </g>\r\n     <g id=\"text_12\">\r\n      <!-- 1.1 -->\r\n      <g transform=\"translate(311.771022 541.268291)rotate(-60)scale(0.1 -0.1)\">\r\n       <use xlink:href=\"#DejaVuSans-49\"/>\r\n       <use x=\"63.623047\" xlink:href=\"#DejaVuSans-46\"/>\r\n       <use x=\"95.410156\" xlink:href=\"#DejaVuSans-49\"/>\r\n      </g>\r\n     </g>\r\n    </g>\r\n    <g id=\"xtick_13\">\r\n     <g id=\"line2d_25\">\r\n      <path clip-path=\"url(#pd3693154a8)\" d=\"M 336.333585 516.696562 \r\nL 336.333585 27.456562 \r\n\" style=\"fill:none;stroke:#0000ff;stroke-dasharray:2,3.3;stroke-dashoffset:0;stroke-opacity:0.5;stroke-width:2;\"/>\r\n     </g>\r\n     <g id=\"line2d_26\">\r\n      <g>\r\n       <use style=\"stroke:#000000;stroke-width:0.8;\" x=\"336.333585\" xlink:href=\"#mdef969b18c\" y=\"516.696562\"/>\r\n      </g>\r\n     </g>\r\n     <g id=\"text_13\">\r\n      <!-- 1.2 -->\r\n      <g transform=\"translate(334.747492 541.268291)rotate(-60)scale(0.1 -0.1)\">\r\n       <use xlink:href=\"#DejaVuSans-49\"/>\r\n       <use x=\"63.623047\" xlink:href=\"#DejaVuSans-46\"/>\r\n       <use x=\"95.410156\" xlink:href=\"#DejaVuSans-50\"/>\r\n      </g>\r\n     </g>\r\n    </g>\r\n    <g id=\"xtick_14\">\r\n     <g id=\"line2d_27\">\r\n      <path clip-path=\"url(#pd3693154a8)\" d=\"M 359.310055 516.696562 \r\nL 359.310055 27.456562 \r\n\" style=\"fill:none;stroke:#0000ff;stroke-dasharray:2,3.3;stroke-dashoffset:0;stroke-opacity:0.5;stroke-width:2;\"/>\r\n     </g>\r\n     <g id=\"line2d_28\">\r\n      <g>\r\n       <use style=\"stroke:#000000;stroke-width:0.8;\" x=\"359.310055\" xlink:href=\"#mdef969b18c\" y=\"516.696562\"/>\r\n      </g>\r\n     </g>\r\n     <g id=\"text_14\">\r\n      <!-- 1.3 -->\r\n      <g transform=\"translate(357.723963 541.268291)rotate(-60)scale(0.1 -0.1)\">\r\n       <use xlink:href=\"#DejaVuSans-49\"/>\r\n       <use x=\"63.623047\" xlink:href=\"#DejaVuSans-46\"/>\r\n       <use x=\"95.410156\" xlink:href=\"#DejaVuSans-51\"/>\r\n      </g>\r\n     </g>\r\n    </g>\r\n    <g id=\"xtick_15\">\r\n     <g id=\"line2d_29\">\r\n      <path clip-path=\"url(#pd3693154a8)\" d=\"M 382.286526 516.696562 \r\nL 382.286526 27.456562 \r\n\" style=\"fill:none;stroke:#0000ff;stroke-dasharray:2,3.3;stroke-dashoffset:0;stroke-opacity:0.5;stroke-width:2;\"/>\r\n     </g>\r\n     <g id=\"line2d_30\">\r\n      <g>\r\n       <use style=\"stroke:#000000;stroke-width:0.8;\" x=\"382.286526\" xlink:href=\"#mdef969b18c\" y=\"516.696562\"/>\r\n      </g>\r\n     </g>\r\n     <g id=\"text_15\">\r\n      <!-- 1.4 -->\r\n      <g transform=\"translate(380.700433 541.268291)rotate(-60)scale(0.1 -0.1)\">\r\n       <use xlink:href=\"#DejaVuSans-49\"/>\r\n       <use x=\"63.623047\" xlink:href=\"#DejaVuSans-46\"/>\r\n       <use x=\"95.410156\" xlink:href=\"#DejaVuSans-52\"/>\r\n      </g>\r\n     </g>\r\n    </g>\r\n    <g id=\"xtick_16\">\r\n     <g id=\"line2d_31\">\r\n      <path clip-path=\"url(#pd3693154a8)\" d=\"M 405.262996 516.696562 \r\nL 405.262996 27.456562 \r\n\" style=\"fill:none;stroke:#0000ff;stroke-dasharray:2,3.3;stroke-dashoffset:0;stroke-opacity:0.5;stroke-width:2;\"/>\r\n     </g>\r\n     <g id=\"line2d_32\">\r\n      <g>\r\n       <use style=\"stroke:#000000;stroke-width:0.8;\" x=\"405.262996\" xlink:href=\"#mdef969b18c\" y=\"516.696562\"/>\r\n      </g>\r\n     </g>\r\n     <g id=\"text_16\">\r\n      <!-- 1.5 -->\r\n      <g transform=\"translate(403.676904 541.268291)rotate(-60)scale(0.1 -0.1)\">\r\n       <use xlink:href=\"#DejaVuSans-49\"/>\r\n       <use x=\"63.623047\" xlink:href=\"#DejaVuSans-46\"/>\r\n       <use x=\"95.410156\" xlink:href=\"#DejaVuSans-53\"/>\r\n      </g>\r\n     </g>\r\n    </g>\r\n    <g id=\"xtick_17\">\r\n     <g id=\"line2d_33\">\r\n      <path clip-path=\"url(#pd3693154a8)\" d=\"M 428.239467 516.696562 \r\nL 428.239467 27.456562 \r\n\" style=\"fill:none;stroke:#0000ff;stroke-dasharray:2,3.3;stroke-dashoffset:0;stroke-opacity:0.5;stroke-width:2;\"/>\r\n     </g>\r\n     <g id=\"line2d_34\">\r\n      <g>\r\n       <use style=\"stroke:#000000;stroke-width:0.8;\" x=\"428.239467\" xlink:href=\"#mdef969b18c\" y=\"516.696562\"/>\r\n      </g>\r\n     </g>\r\n     <g id=\"text_17\">\r\n      <!-- 1.6 -->\r\n      <g transform=\"translate(426.653375 541.268291)rotate(-60)scale(0.1 -0.1)\">\r\n       <use xlink:href=\"#DejaVuSans-49\"/>\r\n       <use x=\"63.623047\" xlink:href=\"#DejaVuSans-46\"/>\r\n       <use x=\"95.410156\" xlink:href=\"#DejaVuSans-54\"/>\r\n      </g>\r\n     </g>\r\n    </g>\r\n    <g id=\"xtick_18\">\r\n     <g id=\"line2d_35\">\r\n      <path clip-path=\"url(#pd3693154a8)\" d=\"M 451.215938 516.696562 \r\nL 451.215938 27.456562 \r\n\" style=\"fill:none;stroke:#0000ff;stroke-dasharray:2,3.3;stroke-dashoffset:0;stroke-opacity:0.5;stroke-width:2;\"/>\r\n     </g>\r\n     <g id=\"line2d_36\">\r\n      <g>\r\n       <use style=\"stroke:#000000;stroke-width:0.8;\" x=\"451.215938\" xlink:href=\"#mdef969b18c\" y=\"516.696562\"/>\r\n      </g>\r\n     </g>\r\n     <g id=\"text_18\">\r\n      <!-- 1.7 -->\r\n      <g transform=\"translate(449.629845 541.268291)rotate(-60)scale(0.1 -0.1)\">\r\n       <use xlink:href=\"#DejaVuSans-49\"/>\r\n       <use x=\"63.623047\" xlink:href=\"#DejaVuSans-46\"/>\r\n       <use x=\"95.410156\" xlink:href=\"#DejaVuSans-55\"/>\r\n      </g>\r\n     </g>\r\n    </g>\r\n    <g id=\"xtick_19\">\r\n     <g id=\"line2d_37\">\r\n      <path clip-path=\"url(#pd3693154a8)\" d=\"M 474.192408 516.696562 \r\nL 474.192408 27.456562 \r\n\" style=\"fill:none;stroke:#0000ff;stroke-dasharray:2,3.3;stroke-dashoffset:0;stroke-opacity:0.5;stroke-width:2;\"/>\r\n     </g>\r\n     <g id=\"line2d_38\">\r\n      <g>\r\n       <use style=\"stroke:#000000;stroke-width:0.8;\" x=\"474.192408\" xlink:href=\"#mdef969b18c\" y=\"516.696562\"/>\r\n      </g>\r\n     </g>\r\n     <g id=\"text_19\">\r\n      <!-- 1.8 -->\r\n      <g transform=\"translate(472.606316 541.268291)rotate(-60)scale(0.1 -0.1)\">\r\n       <use xlink:href=\"#DejaVuSans-49\"/>\r\n       <use x=\"63.623047\" xlink:href=\"#DejaVuSans-46\"/>\r\n       <use x=\"95.410156\" xlink:href=\"#DejaVuSans-56\"/>\r\n      </g>\r\n     </g>\r\n    </g>\r\n    <g id=\"xtick_20\">\r\n     <g id=\"line2d_39\">\r\n      <path clip-path=\"url(#pd3693154a8)\" d=\"M 497.168879 516.696562 \r\nL 497.168879 27.456562 \r\n\" style=\"fill:none;stroke:#0000ff;stroke-dasharray:2,3.3;stroke-dashoffset:0;stroke-opacity:0.5;stroke-width:2;\"/>\r\n     </g>\r\n     <g id=\"line2d_40\">\r\n      <g>\r\n       <use style=\"stroke:#000000;stroke-width:0.8;\" x=\"497.168879\" xlink:href=\"#mdef969b18c\" y=\"516.696562\"/>\r\n      </g>\r\n     </g>\r\n     <g id=\"text_20\">\r\n      <!-- 1.9 -->\r\n      <g transform=\"translate(495.582786 541.268291)rotate(-60)scale(0.1 -0.1)\">\r\n       <use xlink:href=\"#DejaVuSans-49\"/>\r\n       <use x=\"63.623047\" xlink:href=\"#DejaVuSans-46\"/>\r\n       <use x=\"95.410156\" xlink:href=\"#DejaVuSans-57\"/>\r\n      </g>\r\n     </g>\r\n    </g>\r\n    <g id=\"xtick_21\">\r\n     <g id=\"line2d_41\">\r\n      <path clip-path=\"url(#pd3693154a8)\" d=\"M 520.145349 516.696562 \r\nL 520.145349 27.456562 \r\n\" style=\"fill:none;stroke:#0000ff;stroke-dasharray:2,3.3;stroke-dashoffset:0;stroke-opacity:0.5;stroke-width:2;\"/>\r\n     </g>\r\n     <g id=\"line2d_42\">\r\n      <g>\r\n       <use style=\"stroke:#000000;stroke-width:0.8;\" x=\"520.145349\" xlink:href=\"#mdef969b18c\" y=\"516.696562\"/>\r\n      </g>\r\n     </g>\r\n     <g id=\"text_21\">\r\n      <!-- 2.0 -->\r\n      <g transform=\"translate(518.559257 541.268291)rotate(-60)scale(0.1 -0.1)\">\r\n       <use xlink:href=\"#DejaVuSans-50\"/>\r\n       <use x=\"63.623047\" xlink:href=\"#DejaVuSans-46\"/>\r\n       <use x=\"95.410156\" xlink:href=\"#DejaVuSans-48\"/>\r\n      </g>\r\n     </g>\r\n    </g>\r\n    <g id=\"xtick_22\">\r\n     <g id=\"line2d_43\">\r\n      <path clip-path=\"url(#pd3693154a8)\" d=\"M 543.12182 516.696562 \r\nL 543.12182 27.456562 \r\n\" style=\"fill:none;stroke:#0000ff;stroke-dasharray:2,3.3;stroke-dashoffset:0;stroke-opacity:0.5;stroke-width:2;\"/>\r\n     </g>\r\n     <g id=\"line2d_44\">\r\n      <g>\r\n       <use style=\"stroke:#000000;stroke-width:0.8;\" x=\"543.12182\" xlink:href=\"#mdef969b18c\" y=\"516.696562\"/>\r\n      </g>\r\n     </g>\r\n     <g id=\"text_22\">\r\n      <!-- 2.1 -->\r\n      <g transform=\"translate(541.535727 541.268291)rotate(-60)scale(0.1 -0.1)\">\r\n       <use xlink:href=\"#DejaVuSans-50\"/>\r\n       <use x=\"63.623047\" xlink:href=\"#DejaVuSans-46\"/>\r\n       <use x=\"95.410156\" xlink:href=\"#DejaVuSans-49\"/>\r\n      </g>\r\n     </g>\r\n    </g>\r\n    <g id=\"xtick_23\">\r\n     <g id=\"line2d_45\">\r\n      <path clip-path=\"url(#pd3693154a8)\" d=\"M 566.09829 516.696562 \r\nL 566.09829 27.456562 \r\n\" style=\"fill:none;stroke:#0000ff;stroke-dasharray:2,3.3;stroke-dashoffset:0;stroke-opacity:0.5;stroke-width:2;\"/>\r\n     </g>\r\n     <g id=\"line2d_46\">\r\n      <g>\r\n       <use style=\"stroke:#000000;stroke-width:0.8;\" x=\"566.09829\" xlink:href=\"#mdef969b18c\" y=\"516.696562\"/>\r\n      </g>\r\n     </g>\r\n     <g id=\"text_23\">\r\n      <!-- 2.2 -->\r\n      <g transform=\"translate(564.512198 541.268291)rotate(-60)scale(0.1 -0.1)\">\r\n       <use xlink:href=\"#DejaVuSans-50\"/>\r\n       <use x=\"63.623047\" xlink:href=\"#DejaVuSans-46\"/>\r\n       <use x=\"95.410156\" xlink:href=\"#DejaVuSans-50\"/>\r\n      </g>\r\n     </g>\r\n    </g>\r\n    <g id=\"xtick_24\">\r\n     <g id=\"line2d_47\">\r\n      <path clip-path=\"url(#pd3693154a8)\" d=\"M 589.074761 516.696562 \r\nL 589.074761 27.456562 \r\n\" style=\"fill:none;stroke:#0000ff;stroke-dasharray:2,3.3;stroke-dashoffset:0;stroke-opacity:0.5;stroke-width:2;\"/>\r\n     </g>\r\n     <g id=\"line2d_48\">\r\n      <g>\r\n       <use style=\"stroke:#000000;stroke-width:0.8;\" x=\"589.074761\" xlink:href=\"#mdef969b18c\" y=\"516.696562\"/>\r\n      </g>\r\n     </g>\r\n     <g id=\"text_24\">\r\n      <!-- 2.3 -->\r\n      <g transform=\"translate(587.488669 541.268291)rotate(-60)scale(0.1 -0.1)\">\r\n       <use xlink:href=\"#DejaVuSans-50\"/>\r\n       <use x=\"63.623047\" xlink:href=\"#DejaVuSans-46\"/>\r\n       <use x=\"95.410156\" xlink:href=\"#DejaVuSans-51\"/>\r\n      </g>\r\n     </g>\r\n    </g>\r\n    <g id=\"xtick_25\">\r\n     <g id=\"line2d_49\">\r\n      <path clip-path=\"url(#pd3693154a8)\" d=\"M 612.051232 516.696562 \r\nL 612.051232 27.456562 \r\n\" style=\"fill:none;stroke:#0000ff;stroke-dasharray:2,3.3;stroke-dashoffset:0;stroke-opacity:0.5;stroke-width:2;\"/>\r\n     </g>\r\n     <g id=\"line2d_50\">\r\n      <g>\r\n       <use style=\"stroke:#000000;stroke-width:0.8;\" x=\"612.051232\" xlink:href=\"#mdef969b18c\" y=\"516.696562\"/>\r\n      </g>\r\n     </g>\r\n     <g id=\"text_25\">\r\n      <!-- 2.4 -->\r\n      <g transform=\"translate(610.465139 541.268291)rotate(-60)scale(0.1 -0.1)\">\r\n       <use xlink:href=\"#DejaVuSans-50\"/>\r\n       <use x=\"63.623047\" xlink:href=\"#DejaVuSans-46\"/>\r\n       <use x=\"95.410156\" xlink:href=\"#DejaVuSans-52\"/>\r\n      </g>\r\n     </g>\r\n    </g>\r\n    <g id=\"xtick_26\">\r\n     <g id=\"line2d_51\">\r\n      <path clip-path=\"url(#pd3693154a8)\" d=\"M 635.027702 516.696562 \r\nL 635.027702 27.456562 \r\n\" style=\"fill:none;stroke:#0000ff;stroke-dasharray:2,3.3;stroke-dashoffset:0;stroke-opacity:0.5;stroke-width:2;\"/>\r\n     </g>\r\n     <g id=\"line2d_52\">\r\n      <g>\r\n       <use style=\"stroke:#000000;stroke-width:0.8;\" x=\"635.027702\" xlink:href=\"#mdef969b18c\" y=\"516.696562\"/>\r\n      </g>\r\n     </g>\r\n     <g id=\"text_26\">\r\n      <!-- 2.5 -->\r\n      <g transform=\"translate(633.44161 541.268291)rotate(-60)scale(0.1 -0.1)\">\r\n       <use xlink:href=\"#DejaVuSans-50\"/>\r\n       <use x=\"63.623047\" xlink:href=\"#DejaVuSans-46\"/>\r\n       <use x=\"95.410156\" xlink:href=\"#DejaVuSans-53\"/>\r\n      </g>\r\n     </g>\r\n    </g>\r\n    <g id=\"xtick_27\">\r\n     <g id=\"line2d_53\">\r\n      <path clip-path=\"url(#pd3693154a8)\" d=\"M 658.004173 516.696562 \r\nL 658.004173 27.456562 \r\n\" style=\"fill:none;stroke:#0000ff;stroke-dasharray:2,3.3;stroke-dashoffset:0;stroke-opacity:0.5;stroke-width:2;\"/>\r\n     </g>\r\n     <g id=\"line2d_54\">\r\n      <g>\r\n       <use style=\"stroke:#000000;stroke-width:0.8;\" x=\"658.004173\" xlink:href=\"#mdef969b18c\" y=\"516.696562\"/>\r\n      </g>\r\n     </g>\r\n     <g id=\"text_27\">\r\n      <!-- 2.6 -->\r\n      <g transform=\"translate(656.41808 541.268291)rotate(-60)scale(0.1 -0.1)\">\r\n       <use xlink:href=\"#DejaVuSans-50\"/>\r\n       <use x=\"63.623047\" xlink:href=\"#DejaVuSans-46\"/>\r\n       <use x=\"95.410156\" xlink:href=\"#DejaVuSans-54\"/>\r\n      </g>\r\n     </g>\r\n    </g>\r\n    <g id=\"xtick_28\">\r\n     <g id=\"line2d_55\">\r\n      <path clip-path=\"url(#pd3693154a8)\" d=\"M 680.980643 516.696562 \r\nL 680.980643 27.456562 \r\n\" style=\"fill:none;stroke:#0000ff;stroke-dasharray:2,3.3;stroke-dashoffset:0;stroke-opacity:0.5;stroke-width:2;\"/>\r\n     </g>\r\n     <g id=\"line2d_56\">\r\n      <g>\r\n       <use style=\"stroke:#000000;stroke-width:0.8;\" x=\"680.980643\" xlink:href=\"#mdef969b18c\" y=\"516.696562\"/>\r\n      </g>\r\n     </g>\r\n     <g id=\"text_28\">\r\n      <!-- 2.7 -->\r\n      <g transform=\"translate(679.394551 541.268291)rotate(-60)scale(0.1 -0.1)\">\r\n       <use xlink:href=\"#DejaVuSans-50\"/>\r\n       <use x=\"63.623047\" xlink:href=\"#DejaVuSans-46\"/>\r\n       <use x=\"95.410156\" xlink:href=\"#DejaVuSans-55\"/>\r\n      </g>\r\n     </g>\r\n    </g>\r\n    <g id=\"xtick_29\">\r\n     <g id=\"line2d_57\">\r\n      <path clip-path=\"url(#pd3693154a8)\" d=\"M 703.957114 516.696562 \r\nL 703.957114 27.456562 \r\n\" style=\"fill:none;stroke:#0000ff;stroke-dasharray:2,3.3;stroke-dashoffset:0;stroke-opacity:0.5;stroke-width:2;\"/>\r\n     </g>\r\n     <g id=\"line2d_58\">\r\n      <g>\r\n       <use style=\"stroke:#000000;stroke-width:0.8;\" x=\"703.957114\" xlink:href=\"#mdef969b18c\" y=\"516.696562\"/>\r\n      </g>\r\n     </g>\r\n     <g id=\"text_29\">\r\n      <!-- 2.8 -->\r\n      <g transform=\"translate(702.371022 541.268291)rotate(-60)scale(0.1 -0.1)\">\r\n       <use xlink:href=\"#DejaVuSans-50\"/>\r\n       <use x=\"63.623047\" xlink:href=\"#DejaVuSans-46\"/>\r\n       <use x=\"95.410156\" xlink:href=\"#DejaVuSans-56\"/>\r\n      </g>\r\n     </g>\r\n    </g>\r\n    <g id=\"xtick_30\">\r\n     <g id=\"line2d_59\">\r\n      <path clip-path=\"url(#pd3693154a8)\" d=\"M 726.933585 516.696562 \r\nL 726.933585 27.456562 \r\n\" style=\"fill:none;stroke:#0000ff;stroke-dasharray:2,3.3;stroke-dashoffset:0;stroke-opacity:0.5;stroke-width:2;\"/>\r\n     </g>\r\n     <g id=\"line2d_60\">\r\n      <g>\r\n       <use style=\"stroke:#000000;stroke-width:0.8;\" x=\"726.933585\" xlink:href=\"#mdef969b18c\" y=\"516.696562\"/>\r\n      </g>\r\n     </g>\r\n     <g id=\"text_30\">\r\n      <!-- 2.9 -->\r\n      <g transform=\"translate(725.347492 541.268291)rotate(-60)scale(0.1 -0.1)\">\r\n       <use xlink:href=\"#DejaVuSans-50\"/>\r\n       <use x=\"63.623047\" xlink:href=\"#DejaVuSans-46\"/>\r\n       <use x=\"95.410156\" xlink:href=\"#DejaVuSans-57\"/>\r\n      </g>\r\n     </g>\r\n    </g>\r\n    <g id=\"xtick_31\">\r\n     <g id=\"line2d_61\">\r\n      <path clip-path=\"url(#pd3693154a8)\" d=\"M 749.910055 516.696562 \r\nL 749.910055 27.456562 \r\n\" style=\"fill:none;stroke:#0000ff;stroke-dasharray:2,3.3;stroke-dashoffset:0;stroke-opacity:0.5;stroke-width:2;\"/>\r\n     </g>\r\n     <g id=\"line2d_62\">\r\n      <g>\r\n       <use style=\"stroke:#000000;stroke-width:0.8;\" x=\"749.910055\" xlink:href=\"#mdef969b18c\" y=\"516.696562\"/>\r\n      </g>\r\n     </g>\r\n     <g id=\"text_31\">\r\n      <!-- 3.0 -->\r\n      <g transform=\"translate(748.323963 541.268291)rotate(-60)scale(0.1 -0.1)\">\r\n       <use xlink:href=\"#DejaVuSans-51\"/>\r\n       <use x=\"63.623047\" xlink:href=\"#DejaVuSans-46\"/>\r\n       <use x=\"95.410156\" xlink:href=\"#DejaVuSans-48\"/>\r\n      </g>\r\n     </g>\r\n    </g>\r\n    <g id=\"xtick_32\">\r\n     <g id=\"line2d_63\">\r\n      <path clip-path=\"url(#pd3693154a8)\" d=\"M 772.886526 516.696562 \r\nL 772.886526 27.456562 \r\n\" style=\"fill:none;stroke:#0000ff;stroke-dasharray:2,3.3;stroke-dashoffset:0;stroke-opacity:0.5;stroke-width:2;\"/>\r\n     </g>\r\n     <g id=\"line2d_64\">\r\n      <g>\r\n       <use style=\"stroke:#000000;stroke-width:0.8;\" x=\"772.886526\" xlink:href=\"#mdef969b18c\" y=\"516.696562\"/>\r\n      </g>\r\n     </g>\r\n     <g id=\"text_32\">\r\n      <!-- 3.1 -->\r\n      <g transform=\"translate(771.300433 541.268291)rotate(-60)scale(0.1 -0.1)\">\r\n       <use xlink:href=\"#DejaVuSans-51\"/>\r\n       <use x=\"63.623047\" xlink:href=\"#DejaVuSans-46\"/>\r\n       <use x=\"95.410156\" xlink:href=\"#DejaVuSans-49\"/>\r\n      </g>\r\n     </g>\r\n    </g>\r\n    <g id=\"xtick_33\">\r\n     <g id=\"line2d_65\">\r\n      <path clip-path=\"url(#pd3693154a8)\" d=\"M 795.862996 516.696562 \r\nL 795.862996 27.456562 \r\n\" style=\"fill:none;stroke:#0000ff;stroke-dasharray:2,3.3;stroke-dashoffset:0;stroke-opacity:0.5;stroke-width:2;\"/>\r\n     </g>\r\n     <g id=\"line2d_66\">\r\n      <g>\r\n       <use style=\"stroke:#000000;stroke-width:0.8;\" x=\"795.862996\" xlink:href=\"#mdef969b18c\" y=\"516.696562\"/>\r\n      </g>\r\n     </g>\r\n     <g id=\"text_33\">\r\n      <!-- 3.2 -->\r\n      <g transform=\"translate(794.276904 541.268291)rotate(-60)scale(0.1 -0.1)\">\r\n       <use xlink:href=\"#DejaVuSans-51\"/>\r\n       <use x=\"63.623047\" xlink:href=\"#DejaVuSans-46\"/>\r\n       <use x=\"95.410156\" xlink:href=\"#DejaVuSans-50\"/>\r\n      </g>\r\n     </g>\r\n    </g>\r\n    <g id=\"xtick_34\">\r\n     <g id=\"line2d_67\">\r\n      <path clip-path=\"url(#pd3693154a8)\" d=\"M 818.839467 516.696562 \r\nL 818.839467 27.456562 \r\n\" style=\"fill:none;stroke:#0000ff;stroke-dasharray:2,3.3;stroke-dashoffset:0;stroke-opacity:0.5;stroke-width:2;\"/>\r\n     </g>\r\n     <g id=\"line2d_68\">\r\n      <g>\r\n       <use style=\"stroke:#000000;stroke-width:0.8;\" x=\"818.839467\" xlink:href=\"#mdef969b18c\" y=\"516.696562\"/>\r\n      </g>\r\n     </g>\r\n     <g id=\"text_34\">\r\n      <!-- 3.3 -->\r\n      <g transform=\"translate(817.253375 541.268291)rotate(-60)scale(0.1 -0.1)\">\r\n       <use xlink:href=\"#DejaVuSans-51\"/>\r\n       <use x=\"63.623047\" xlink:href=\"#DejaVuSans-46\"/>\r\n       <use x=\"95.410156\" xlink:href=\"#DejaVuSans-51\"/>\r\n      </g>\r\n     </g>\r\n    </g>\r\n    <g id=\"xtick_35\">\r\n     <g id=\"line2d_69\">\r\n      <path clip-path=\"url(#pd3693154a8)\" d=\"M 841.815938 516.696562 \r\nL 841.815938 27.456562 \r\n\" style=\"fill:none;stroke:#0000ff;stroke-dasharray:2,3.3;stroke-dashoffset:0;stroke-opacity:0.5;stroke-width:2;\"/>\r\n     </g>\r\n     <g id=\"line2d_70\">\r\n      <g>\r\n       <use style=\"stroke:#000000;stroke-width:0.8;\" x=\"841.815938\" xlink:href=\"#mdef969b18c\" y=\"516.696562\"/>\r\n      </g>\r\n     </g>\r\n     <g id=\"text_35\">\r\n      <!-- 3.4 -->\r\n      <g transform=\"translate(840.229845 541.268291)rotate(-60)scale(0.1 -0.1)\">\r\n       <use xlink:href=\"#DejaVuSans-51\"/>\r\n       <use x=\"63.623047\" xlink:href=\"#DejaVuSans-46\"/>\r\n       <use x=\"95.410156\" xlink:href=\"#DejaVuSans-52\"/>\r\n      </g>\r\n     </g>\r\n    </g>\r\n    <g id=\"text_36\">\r\n     <!-- Alongamento [%] -->\r\n     <g transform=\"translate(389.889375 556.945948)scale(0.14 -0.14)\">\r\n      <defs>\r\n       <path d=\"M 20.015625 26.421875 \r\nL 46.78125 26.421875 \r\nL 33.40625 61.078125 \r\nz\r\nM -0.59375 0 \r\nL -0.59375 5.171875 \r\nL 5.8125 5.171875 \r\nL 31.78125 72.90625 \r\nL 39.984375 72.90625 \r\nL 66.015625 5.171875 \r\nL 73.1875 5.171875 \r\nL 73.1875 0 \r\nL 46.6875 0 \r\nL 46.6875 5.171875 \r\nL 54.78125 5.171875 \r\nL 48.6875 21.1875 \r\nL 18.015625 21.1875 \r\nL 11.921875 5.171875 \r\nL 19.921875 5.171875 \r\nL 19.921875 0 \r\nz\r\n\" id=\"DejaVuSerif-65\"/>\r\n       <path d=\"M 20.515625 5.171875 \r\nL 29 5.171875 \r\nL 29 0 \r\nL 2.875 0 \r\nL 2.875 5.171875 \r\nL 11.53125 5.171875 \r\nL 11.53125 70.796875 \r\nL 2.875 70.796875 \r\nL 2.875 75.984375 \r\nL 20.515625 75.984375 \r\nz\r\n\" id=\"DejaVuSerif-108\"/>\r\n       <path d=\"M 30.078125 3.421875 \r\nQ 37.3125 3.421875 40.984375 9.125 \r\nQ 44.671875 14.84375 44.671875 25.984375 \r\nQ 44.671875 37.109375 40.984375 42.796875 \r\nQ 37.3125 48.484375 30.078125 48.484375 \r\nQ 22.859375 48.484375 19.171875 42.796875 \r\nQ 15.484375 37.109375 15.484375 25.984375 \r\nQ 15.484375 14.84375 19.1875 9.125 \r\nQ 22.90625 3.421875 30.078125 3.421875 \r\nz\r\nM 30.078125 -1.421875 \r\nQ 18.75 -1.421875 11.859375 6.078125 \r\nQ 4.984375 13.578125 4.984375 25.984375 \r\nQ 4.984375 38.375 11.84375 45.84375 \r\nQ 18.703125 53.328125 30.078125 53.328125 \r\nQ 41.453125 53.328125 48.3125 45.84375 \r\nQ 55.171875 38.375 55.171875 25.984375 \r\nQ 55.171875 13.578125 48.3125 6.078125 \r\nQ 41.453125 -1.421875 30.078125 -1.421875 \r\nz\r\n\" id=\"DejaVuSerif-111\"/>\r\n       <path d=\"M 4.109375 0 \r\nL 4.109375 5.171875 \r\nL 12.203125 5.171875 \r\nL 12.203125 46.6875 \r\nL 3.609375 46.6875 \r\nL 3.609375 51.90625 \r\nL 21.1875 51.90625 \r\nL 21.1875 42.671875 \r\nQ 23.6875 47.953125 27.65625 50.640625 \r\nQ 31.640625 53.328125 36.921875 53.328125 \r\nQ 45.515625 53.328125 49.5625 48.390625 \r\nQ 53.609375 43.453125 53.609375 33.015625 \r\nL 53.609375 5.171875 \r\nL 61.625 5.171875 \r\nL 61.625 0 \r\nL 36.8125 0 \r\nL 36.8125 5.171875 \r\nL 44.578125 5.171875 \r\nL 44.578125 30.171875 \r\nQ 44.578125 39.703125 42.234375 43.234375 \r\nQ 39.890625 46.78125 33.984375 46.78125 \r\nQ 27.734375 46.78125 24.453125 42.203125 \r\nQ 21.1875 37.640625 21.1875 28.90625 \r\nL 21.1875 5.171875 \r\nL 29 5.171875 \r\nL 29 0 \r\nz\r\n\" id=\"DejaVuSerif-110\"/>\r\n       <path d=\"M 52.484375 46.6875 \r\nL 52.484375 1.125 \r\nQ 52.484375 -10.0625 46.328125 -16.140625 \r\nQ 40.1875 -22.21875 28.8125 -22.21875 \r\nQ 23.6875 -22.21875 19 -21.28125 \r\nQ 14.3125 -20.359375 10.015625 -18.5 \r\nL 10.015625 -7.625 \r\nL 14.703125 -7.625 \r\nQ 15.578125 -12.703125 18.84375 -15.046875 \r\nQ 22.125 -17.390625 28.21875 -17.390625 \r\nQ 36.140625 -17.390625 39.8125 -12.921875 \r\nQ 43.5 -8.453125 43.5 1.125 \r\nL 43.5 8.109375 \r\nQ 40.875 3.21875 36.796875 0.890625 \r\nQ 32.71875 -1.421875 26.703125 -1.421875 \r\nQ 17.140625 -1.421875 11.0625 6.171875 \r\nQ 4.984375 13.765625 4.984375 25.984375 \r\nQ 4.984375 38.1875 11.03125 45.75 \r\nQ 17.09375 53.328125 26.703125 53.328125 \r\nQ 32.71875 53.328125 36.796875 51 \r\nQ 40.875 48.6875 43.5 43.796875 \r\nL 43.5 51.90625 \r\nL 61.078125 51.90625 \r\nL 61.078125 46.6875 \r\nz\r\nM 43.5 28.515625 \r\nQ 43.5 37.84375 39.90625 42.765625 \r\nQ 36.328125 47.703125 29.5 47.703125 \r\nQ 22.5625 47.703125 19.015625 42.234375 \r\nQ 15.484375 36.765625 15.484375 25.984375 \r\nQ 15.484375 15.234375 19.015625 9.71875 \r\nQ 22.5625 4.203125 29.5 4.203125 \r\nQ 36.328125 4.203125 39.90625 9.109375 \r\nQ 43.5 14.015625 43.5 23.390625 \r\nz\r\n\" id=\"DejaVuSerif-103\"/>\r\n       <path d=\"M 39.796875 16.3125 \r\nL 39.796875 27.296875 \r\nL 28.21875 27.296875 \r\nQ 21.53125 27.296875 18.25 24.40625 \r\nQ 14.984375 21.53125 14.984375 15.578125 \r\nQ 14.984375 10.15625 18.296875 6.984375 \r\nQ 21.625 3.8125 27.296875 3.8125 \r\nQ 32.90625 3.8125 36.34375 7.28125 \r\nQ 39.796875 10.75 39.796875 16.3125 \r\nz\r\nM 48.78125 32.421875 \r\nL 48.78125 5.171875 \r\nL 56.78125 5.171875 \r\nL 56.78125 0 \r\nL 39.796875 0 \r\nL 39.796875 5.609375 \r\nQ 36.8125 2 32.90625 0.28125 \r\nQ 29 -1.421875 23.78125 -1.421875 \r\nQ 15.140625 -1.421875 10.0625 3.171875 \r\nQ 4.984375 7.765625 4.984375 15.578125 \r\nQ 4.984375 23.640625 10.796875 28.078125 \r\nQ 16.609375 32.515625 27.203125 32.515625 \r\nL 39.796875 32.515625 \r\nL 39.796875 36.078125 \r\nQ 39.796875 42 36.203125 45.234375 \r\nQ 32.625 48.484375 26.125 48.484375 \r\nQ 20.75 48.484375 17.578125 46.046875 \r\nQ 14.40625 43.609375 13.625 38.8125 \r\nL 8.984375 38.8125 \r\nL 8.984375 49.3125 \r\nQ 13.671875 51.3125 18.09375 52.3125 \r\nQ 22.515625 53.328125 26.703125 53.328125 \r\nQ 37.5 53.328125 43.140625 47.96875 \r\nQ 48.78125 42.625 48.78125 32.421875 \r\nz\r\n\" id=\"DejaVuSerif-97\"/>\r\n       <path d=\"M 51.8125 41.796875 \r\nQ 54.390625 47.515625 58.421875 50.421875 \r\nQ 62.453125 53.328125 67.828125 53.328125 \r\nQ 75.984375 53.328125 79.984375 48.265625 \r\nQ 83.984375 43.21875 83.984375 33.015625 \r\nL 83.984375 5.171875 \r\nL 92.09375 5.171875 \r\nL 92.09375 0 \r\nL 67.1875 0 \r\nL 67.1875 5.171875 \r\nL 75 5.171875 \r\nL 75 31.984375 \r\nQ 75 39.9375 72.65625 43.3125 \r\nQ 70.3125 46.6875 64.890625 46.6875 \r\nQ 58.890625 46.6875 55.734375 42.140625 \r\nQ 52.59375 37.59375 52.59375 28.90625 \r\nL 52.59375 5.171875 \r\nL 60.40625 5.171875 \r\nL 60.40625 0 \r\nL 35.796875 0 \r\nL 35.796875 5.171875 \r\nL 43.609375 5.171875 \r\nL 43.609375 32.328125 \r\nQ 43.609375 40.09375 41.265625 43.390625 \r\nQ 38.921875 46.6875 33.5 46.6875 \r\nQ 27.484375 46.6875 24.328125 42.140625 \r\nQ 21.1875 37.59375 21.1875 28.90625 \r\nL 21.1875 5.171875 \r\nL 29 5.171875 \r\nL 29 0 \r\nL 4.109375 0 \r\nL 4.109375 5.171875 \r\nL 12.203125 5.171875 \r\nL 12.203125 46.78125 \r\nL 3.609375 46.78125 \r\nL 3.609375 51.90625 \r\nL 21.1875 51.90625 \r\nL 21.1875 42.671875 \r\nQ 23.6875 47.859375 27.53125 50.59375 \r\nQ 31.390625 53.328125 36.28125 53.328125 \r\nQ 42.328125 53.328125 46.375 50.3125 \r\nQ 50.4375 47.3125 51.8125 41.796875 \r\nz\r\n\" id=\"DejaVuSerif-109\"/>\r\n       <path d=\"M 54.203125 25 \r\nL 15.484375 25 \r\nL 15.484375 24.609375 \r\nQ 15.484375 14.109375 19.4375 8.765625 \r\nQ 23.390625 3.421875 31.109375 3.421875 \r\nQ 37.015625 3.421875 40.796875 6.515625 \r\nQ 44.578125 9.625 46.09375 15.71875 \r\nL 53.328125 15.71875 \r\nQ 51.171875 7.171875 45.375 2.875 \r\nQ 39.59375 -1.421875 30.171875 -1.421875 \r\nQ 18.796875 -1.421875 11.890625 6.078125 \r\nQ 4.984375 13.578125 4.984375 25.984375 \r\nQ 4.984375 38.28125 11.765625 45.796875 \r\nQ 18.5625 53.328125 29.59375 53.328125 \r\nQ 41.359375 53.328125 47.65625 46.0625 \r\nQ 53.953125 38.8125 54.203125 25 \r\nz\r\nM 43.609375 30.171875 \r\nQ 43.3125 39.265625 39.765625 43.875 \r\nQ 36.234375 48.484375 29.59375 48.484375 \r\nQ 23.390625 48.484375 19.828125 43.84375 \r\nQ 16.265625 39.203125 15.484375 30.171875 \r\nz\r\n\" id=\"DejaVuSerif-101\"/>\r\n       <path d=\"M 10.796875 46.6875 \r\nL 2.875 46.6875 \r\nL 2.875 51.90625 \r\nL 10.796875 51.90625 \r\nL 10.796875 68.015625 \r\nL 19.828125 68.015625 \r\nL 19.828125 51.90625 \r\nL 36.71875 51.90625 \r\nL 36.71875 46.6875 \r\nL 19.828125 46.6875 \r\nL 19.828125 13.71875 \r\nQ 19.828125 7.125 21.09375 5.265625 \r\nQ 22.359375 3.421875 25.78125 3.421875 \r\nQ 29.296875 3.421875 30.90625 5.484375 \r\nQ 32.515625 7.5625 32.625 12.203125 \r\nL 39.40625 12.203125 \r\nQ 39.015625 5.125 35.546875 1.84375 \r\nQ 32.078125 -1.421875 25 -1.421875 \r\nQ 17.234375 -1.421875 14.015625 2.015625 \r\nQ 10.796875 5.46875 10.796875 13.71875 \r\nz\r\n\" id=\"DejaVuSerif-116\"/>\r\n       <path id=\"DejaVuSerif-32\"/>\r\n       <path d=\"M 8.59375 75.984375 \r\nL 31.296875 75.984375 \r\nL 31.296875 70.796875 \r\nL 17.921875 70.796875 \r\nL 17.921875 -8.015625 \r\nL 31.296875 -8.015625 \r\nL 31.296875 -13.1875 \r\nL 8.59375 -13.1875 \r\nz\r\n\" id=\"DejaVuSerif-91\"/>\r\n       <path d=\"M 22.40625 69.671875 \r\nQ 18.109375 69.671875 15.6875 65.625 \r\nQ 13.28125 61.578125 13.28125 54.296875 \r\nQ 13.28125 47.125 15.75 43.015625 \r\nQ 18.21875 38.921875 22.40625 38.921875 \r\nQ 26.5625 38.921875 28.96875 43 \r\nQ 31.390625 47.078125 31.390625 54.296875 \r\nQ 31.390625 61.53125 28.96875 65.59375 \r\nQ 26.5625 69.671875 22.40625 69.671875 \r\nz\r\nM 72.703125 33.890625 \r\nQ 68.453125 33.890625 66.03125 29.78125 \r\nQ 63.625 25.6875 63.625 18.40625 \r\nQ 63.625 11.234375 66.0625 7.15625 \r\nQ 68.5 3.078125 72.703125 3.078125 \r\nQ 76.90625 3.078125 79.296875 7.15625 \r\nQ 81.6875 11.234375 81.6875 18.40625 \r\nQ 81.6875 25.640625 79.265625 29.765625 \r\nQ 76.859375 33.890625 72.703125 33.890625 \r\nz\r\nM 72.703125 38.28125 \r\nQ 80.421875 38.28125 84.953125 32.90625 \r\nQ 89.5 27.546875 89.5 18.40625 \r\nQ 89.5 9.28125 84.9375 3.921875 \r\nQ 80.375 -1.421875 72.703125 -1.421875 \r\nQ 64.890625 -1.421875 60.34375 3.921875 \r\nQ 55.8125 9.28125 55.8125 18.40625 \r\nQ 55.8125 27.59375 60.375 32.9375 \r\nQ 64.9375 38.28125 72.703125 38.28125 \r\nz\r\nM 66.609375 74.21875 \r\nL 74.03125 74.21875 \r\nL 28.421875 -1.421875 \r\nL 21 -1.421875 \r\nz\r\nM 22.3125 74.21875 \r\nQ 30.03125 74.21875 34.609375 68.875 \r\nQ 39.203125 63.53125 39.203125 54.390625 \r\nQ 39.203125 45.171875 34.640625 39.84375 \r\nQ 30.078125 34.515625 22.3125 34.515625 \r\nQ 14.546875 34.515625 10.03125 39.859375 \r\nQ 5.515625 45.21875 5.515625 54.390625 \r\nQ 5.515625 63.484375 10.046875 68.84375 \r\nQ 14.59375 74.21875 22.3125 74.21875 \r\nz\r\n\" id=\"DejaVuSerif-37\"/>\r\n       <path d=\"M 30.421875 75.984375 \r\nL 30.421875 -13.1875 \r\nL 7.71875 -13.1875 \r\nL 7.71875 -8.015625 \r\nL 21.09375 -8.015625 \r\nL 21.09375 70.796875 \r\nL 7.71875 70.796875 \r\nL 7.71875 75.984375 \r\nz\r\n\" id=\"DejaVuSerif-93\"/>\r\n      </defs>\r\n      <use xlink:href=\"#DejaVuSerif-65\"/>\r\n      <use x=\"72.216797\" xlink:href=\"#DejaVuSerif-108\"/>\r\n      <use x=\"104.199219\" xlink:href=\"#DejaVuSerif-111\"/>\r\n      <use x=\"164.404297\" xlink:href=\"#DejaVuSerif-110\"/>\r\n      <use x=\"228.808594\" xlink:href=\"#DejaVuSerif-103\"/>\r\n      <use x=\"292.822266\" xlink:href=\"#DejaVuSerif-97\"/>\r\n      <use x=\"352.441406\" xlink:href=\"#DejaVuSerif-109\"/>\r\n      <use x=\"447.265625\" xlink:href=\"#DejaVuSerif-101\"/>\r\n      <use x=\"506.445312\" xlink:href=\"#DejaVuSerif-110\"/>\r\n      <use x=\"570.849609\" xlink:href=\"#DejaVuSerif-116\"/>\r\n      <use x=\"611.035156\" xlink:href=\"#DejaVuSerif-111\"/>\r\n      <use x=\"671.240234\" xlink:href=\"#DejaVuSerif-32\"/>\r\n      <use x=\"703.027344\" xlink:href=\"#DejaVuSerif-91\"/>\r\n      <use x=\"742.041016\" xlink:href=\"#DejaVuSerif-37\"/>\r\n      <use x=\"837.060547\" xlink:href=\"#DejaVuSerif-93\"/>\r\n     </g>\r\n    </g>\r\n   </g>\r\n   <g id=\"matplotlib.axis_2\">\r\n    <g id=\"ytick_1\">\r\n     <g id=\"line2d_71\">\r\n      <path clip-path=\"url(#pd3693154a8)\" d=\"M 60.615938 516.696562 \r\nL 841.815938 516.696562 \r\n\" style=\"fill:none;stroke:#0000ff;stroke-dasharray:2,3.3;stroke-dashoffset:0;stroke-opacity:0.5;stroke-width:2;\"/>\r\n     </g>\r\n     <g id=\"line2d_72\">\r\n      <defs>\r\n       <path d=\"M 0 0 \r\nL -3.5 0 \r\n\" id=\"mbfdfd4c05e\" style=\"stroke:#000000;stroke-width:0.8;\"/>\r\n      </defs>\r\n      <g>\r\n       <use style=\"stroke:#000000;stroke-width:0.8;\" x=\"60.615938\" xlink:href=\"#mbfdfd4c05e\" y=\"516.696562\"/>\r\n      </g>\r\n     </g>\r\n     <g id=\"text_37\">\r\n      <!-- 0.00 -->\r\n      <g transform=\"translate(31.350313 520.495781)scale(0.1 -0.1)\">\r\n       <use xlink:href=\"#DejaVuSans-48\"/>\r\n       <use x=\"63.623047\" xlink:href=\"#DejaVuSans-46\"/>\r\n       <use x=\"95.410156\" xlink:href=\"#DejaVuSans-48\"/>\r\n       <use x=\"159.033203\" xlink:href=\"#DejaVuSans-48\"/>\r\n      </g>\r\n     </g>\r\n    </g>\r\n    <g id=\"ytick_2\">\r\n     <g id=\"line2d_73\">\r\n      <path clip-path=\"url(#pd3693154a8)\" d=\"M 60.615938 500.388562 \r\nL 841.815938 500.388562 \r\n\" style=\"fill:none;stroke:#0000ff;stroke-dasharray:2,3.3;stroke-dashoffset:0;stroke-opacity:0.5;stroke-width:2;\"/>\r\n     </g>\r\n     <g id=\"line2d_74\">\r\n      <g>\r\n       <use style=\"stroke:#000000;stroke-width:0.8;\" x=\"60.615938\" xlink:href=\"#mbfdfd4c05e\" y=\"500.388562\"/>\r\n      </g>\r\n     </g>\r\n     <g id=\"text_38\">\r\n      <!-- 1.25 -->\r\n      <g transform=\"translate(31.350313 504.187781)scale(0.1 -0.1)\">\r\n       <use xlink:href=\"#DejaVuSans-49\"/>\r\n       <use x=\"63.623047\" xlink:href=\"#DejaVuSans-46\"/>\r\n       <use x=\"95.410156\" xlink:href=\"#DejaVuSans-50\"/>\r\n       <use x=\"159.033203\" xlink:href=\"#DejaVuSans-53\"/>\r\n      </g>\r\n     </g>\r\n    </g>\r\n    <g id=\"ytick_3\">\r\n     <g id=\"line2d_75\">\r\n      <path clip-path=\"url(#pd3693154a8)\" d=\"M 60.615938 484.080562 \r\nL 841.815938 484.080562 \r\n\" style=\"fill:none;stroke:#0000ff;stroke-dasharray:2,3.3;stroke-dashoffset:0;stroke-opacity:0.5;stroke-width:2;\"/>\r\n     </g>\r\n     <g id=\"line2d_76\">\r\n      <g>\r\n       <use style=\"stroke:#000000;stroke-width:0.8;\" x=\"60.615938\" xlink:href=\"#mbfdfd4c05e\" y=\"484.080562\"/>\r\n      </g>\r\n     </g>\r\n     <g id=\"text_39\">\r\n      <!-- 2.50 -->\r\n      <g transform=\"translate(31.350313 487.879781)scale(0.1 -0.1)\">\r\n       <use xlink:href=\"#DejaVuSans-50\"/>\r\n       <use x=\"63.623047\" xlink:href=\"#DejaVuSans-46\"/>\r\n       <use x=\"95.410156\" xlink:href=\"#DejaVuSans-53\"/>\r\n       <use x=\"159.033203\" xlink:href=\"#DejaVuSans-48\"/>\r\n      </g>\r\n     </g>\r\n    </g>\r\n    <g id=\"ytick_4\">\r\n     <g id=\"line2d_77\">\r\n      <path clip-path=\"url(#pd3693154a8)\" d=\"M 60.615938 467.772562 \r\nL 841.815938 467.772562 \r\n\" style=\"fill:none;stroke:#0000ff;stroke-dasharray:2,3.3;stroke-dashoffset:0;stroke-opacity:0.5;stroke-width:2;\"/>\r\n     </g>\r\n     <g id=\"line2d_78\">\r\n      <g>\r\n       <use style=\"stroke:#000000;stroke-width:0.8;\" x=\"60.615938\" xlink:href=\"#mbfdfd4c05e\" y=\"467.772562\"/>\r\n      </g>\r\n     </g>\r\n     <g id=\"text_40\">\r\n      <!-- 3.75 -->\r\n      <g transform=\"translate(31.350313 471.571781)scale(0.1 -0.1)\">\r\n       <use xlink:href=\"#DejaVuSans-51\"/>\r\n       <use x=\"63.623047\" xlink:href=\"#DejaVuSans-46\"/>\r\n       <use x=\"95.410156\" xlink:href=\"#DejaVuSans-55\"/>\r\n       <use x=\"159.033203\" xlink:href=\"#DejaVuSans-53\"/>\r\n      </g>\r\n     </g>\r\n    </g>\r\n    <g id=\"ytick_5\">\r\n     <g id=\"line2d_79\">\r\n      <path clip-path=\"url(#pd3693154a8)\" d=\"M 60.615938 451.464562 \r\nL 841.815938 451.464562 \r\n\" style=\"fill:none;stroke:#0000ff;stroke-dasharray:2,3.3;stroke-dashoffset:0;stroke-opacity:0.5;stroke-width:2;\"/>\r\n     </g>\r\n     <g id=\"line2d_80\">\r\n      <g>\r\n       <use style=\"stroke:#000000;stroke-width:0.8;\" x=\"60.615938\" xlink:href=\"#mbfdfd4c05e\" y=\"451.464562\"/>\r\n      </g>\r\n     </g>\r\n     <g id=\"text_41\">\r\n      <!-- 5.00 -->\r\n      <g transform=\"translate(31.350313 455.263781)scale(0.1 -0.1)\">\r\n       <use xlink:href=\"#DejaVuSans-53\"/>\r\n       <use x=\"63.623047\" xlink:href=\"#DejaVuSans-46\"/>\r\n       <use x=\"95.410156\" xlink:href=\"#DejaVuSans-48\"/>\r\n       <use x=\"159.033203\" xlink:href=\"#DejaVuSans-48\"/>\r\n      </g>\r\n     </g>\r\n    </g>\r\n    <g id=\"ytick_6\">\r\n     <g id=\"line2d_81\">\r\n      <path clip-path=\"url(#pd3693154a8)\" d=\"M 60.615938 435.156562 \r\nL 841.815938 435.156562 \r\n\" style=\"fill:none;stroke:#0000ff;stroke-dasharray:2,3.3;stroke-dashoffset:0;stroke-opacity:0.5;stroke-width:2;\"/>\r\n     </g>\r\n     <g id=\"line2d_82\">\r\n      <g>\r\n       <use style=\"stroke:#000000;stroke-width:0.8;\" x=\"60.615938\" xlink:href=\"#mbfdfd4c05e\" y=\"435.156562\"/>\r\n      </g>\r\n     </g>\r\n     <g id=\"text_42\">\r\n      <!-- 6.25 -->\r\n      <g transform=\"translate(31.350313 438.955781)scale(0.1 -0.1)\">\r\n       <use xlink:href=\"#DejaVuSans-54\"/>\r\n       <use x=\"63.623047\" xlink:href=\"#DejaVuSans-46\"/>\r\n       <use x=\"95.410156\" xlink:href=\"#DejaVuSans-50\"/>\r\n       <use x=\"159.033203\" xlink:href=\"#DejaVuSans-53\"/>\r\n      </g>\r\n     </g>\r\n    </g>\r\n    <g id=\"ytick_7\">\r\n     <g id=\"line2d_83\">\r\n      <path clip-path=\"url(#pd3693154a8)\" d=\"M 60.615938 418.848562 \r\nL 841.815938 418.848562 \r\n\" style=\"fill:none;stroke:#0000ff;stroke-dasharray:2,3.3;stroke-dashoffset:0;stroke-opacity:0.5;stroke-width:2;\"/>\r\n     </g>\r\n     <g id=\"line2d_84\">\r\n      <g>\r\n       <use style=\"stroke:#000000;stroke-width:0.8;\" x=\"60.615938\" xlink:href=\"#mbfdfd4c05e\" y=\"418.848562\"/>\r\n      </g>\r\n     </g>\r\n     <g id=\"text_43\">\r\n      <!-- 7.50 -->\r\n      <g transform=\"translate(31.350313 422.647781)scale(0.1 -0.1)\">\r\n       <use xlink:href=\"#DejaVuSans-55\"/>\r\n       <use x=\"63.623047\" xlink:href=\"#DejaVuSans-46\"/>\r\n       <use x=\"95.410156\" xlink:href=\"#DejaVuSans-53\"/>\r\n       <use x=\"159.033203\" xlink:href=\"#DejaVuSans-48\"/>\r\n      </g>\r\n     </g>\r\n    </g>\r\n    <g id=\"ytick_8\">\r\n     <g id=\"line2d_85\">\r\n      <path clip-path=\"url(#pd3693154a8)\" d=\"M 60.615938 402.540562 \r\nL 841.815938 402.540562 \r\n\" style=\"fill:none;stroke:#0000ff;stroke-dasharray:2,3.3;stroke-dashoffset:0;stroke-opacity:0.5;stroke-width:2;\"/>\r\n     </g>\r\n     <g id=\"line2d_86\">\r\n      <g>\r\n       <use style=\"stroke:#000000;stroke-width:0.8;\" x=\"60.615938\" xlink:href=\"#mbfdfd4c05e\" y=\"402.540562\"/>\r\n      </g>\r\n     </g>\r\n     <g id=\"text_44\">\r\n      <!-- 8.75 -->\r\n      <g transform=\"translate(31.350313 406.339781)scale(0.1 -0.1)\">\r\n       <use xlink:href=\"#DejaVuSans-56\"/>\r\n       <use x=\"63.623047\" xlink:href=\"#DejaVuSans-46\"/>\r\n       <use x=\"95.410156\" xlink:href=\"#DejaVuSans-55\"/>\r\n       <use x=\"159.033203\" xlink:href=\"#DejaVuSans-53\"/>\r\n      </g>\r\n     </g>\r\n    </g>\r\n    <g id=\"ytick_9\">\r\n     <g id=\"line2d_87\">\r\n      <path clip-path=\"url(#pd3693154a8)\" d=\"M 60.615938 386.232562 \r\nL 841.815938 386.232562 \r\n\" style=\"fill:none;stroke:#0000ff;stroke-dasharray:2,3.3;stroke-dashoffset:0;stroke-opacity:0.5;stroke-width:2;\"/>\r\n     </g>\r\n     <g id=\"line2d_88\">\r\n      <g>\r\n       <use style=\"stroke:#000000;stroke-width:0.8;\" x=\"60.615938\" xlink:href=\"#mbfdfd4c05e\" y=\"386.232562\"/>\r\n      </g>\r\n     </g>\r\n     <g id=\"text_45\">\r\n      <!-- 10.00 -->\r\n      <g transform=\"translate(24.987813 390.031781)scale(0.1 -0.1)\">\r\n       <use xlink:href=\"#DejaVuSans-49\"/>\r\n       <use x=\"63.623047\" xlink:href=\"#DejaVuSans-48\"/>\r\n       <use x=\"127.246094\" xlink:href=\"#DejaVuSans-46\"/>\r\n       <use x=\"159.033203\" xlink:href=\"#DejaVuSans-48\"/>\r\n       <use x=\"222.65625\" xlink:href=\"#DejaVuSans-48\"/>\r\n      </g>\r\n     </g>\r\n    </g>\r\n    <g id=\"ytick_10\">\r\n     <g id=\"line2d_89\">\r\n      <path clip-path=\"url(#pd3693154a8)\" d=\"M 60.615938 369.924562 \r\nL 841.815938 369.924562 \r\n\" style=\"fill:none;stroke:#0000ff;stroke-dasharray:2,3.3;stroke-dashoffset:0;stroke-opacity:0.5;stroke-width:2;\"/>\r\n     </g>\r\n     <g id=\"line2d_90\">\r\n      <g>\r\n       <use style=\"stroke:#000000;stroke-width:0.8;\" x=\"60.615938\" xlink:href=\"#mbfdfd4c05e\" y=\"369.924562\"/>\r\n      </g>\r\n     </g>\r\n     <g id=\"text_46\">\r\n      <!-- 11.25 -->\r\n      <g transform=\"translate(24.987813 373.723781)scale(0.1 -0.1)\">\r\n       <use xlink:href=\"#DejaVuSans-49\"/>\r\n       <use x=\"63.623047\" xlink:href=\"#DejaVuSans-49\"/>\r\n       <use x=\"127.246094\" xlink:href=\"#DejaVuSans-46\"/>\r\n       <use x=\"159.033203\" xlink:href=\"#DejaVuSans-50\"/>\r\n       <use x=\"222.65625\" xlink:href=\"#DejaVuSans-53\"/>\r\n      </g>\r\n     </g>\r\n    </g>\r\n    <g id=\"ytick_11\">\r\n     <g id=\"line2d_91\">\r\n      <path clip-path=\"url(#pd3693154a8)\" d=\"M 60.615938 353.616562 \r\nL 841.815938 353.616562 \r\n\" style=\"fill:none;stroke:#0000ff;stroke-dasharray:2,3.3;stroke-dashoffset:0;stroke-opacity:0.5;stroke-width:2;\"/>\r\n     </g>\r\n     <g id=\"line2d_92\">\r\n      <g>\r\n       <use style=\"stroke:#000000;stroke-width:0.8;\" x=\"60.615938\" xlink:href=\"#mbfdfd4c05e\" y=\"353.616562\"/>\r\n      </g>\r\n     </g>\r\n     <g id=\"text_47\">\r\n      <!-- 12.50 -->\r\n      <g transform=\"translate(24.987813 357.415781)scale(0.1 -0.1)\">\r\n       <use xlink:href=\"#DejaVuSans-49\"/>\r\n       <use x=\"63.623047\" xlink:href=\"#DejaVuSans-50\"/>\r\n       <use x=\"127.246094\" xlink:href=\"#DejaVuSans-46\"/>\r\n       <use x=\"159.033203\" xlink:href=\"#DejaVuSans-53\"/>\r\n       <use x=\"222.65625\" xlink:href=\"#DejaVuSans-48\"/>\r\n      </g>\r\n     </g>\r\n    </g>\r\n    <g id=\"ytick_12\">\r\n     <g id=\"line2d_93\">\r\n      <path clip-path=\"url(#pd3693154a8)\" d=\"M 60.615938 337.308562 \r\nL 841.815938 337.308562 \r\n\" style=\"fill:none;stroke:#0000ff;stroke-dasharray:2,3.3;stroke-dashoffset:0;stroke-opacity:0.5;stroke-width:2;\"/>\r\n     </g>\r\n     <g id=\"line2d_94\">\r\n      <g>\r\n       <use style=\"stroke:#000000;stroke-width:0.8;\" x=\"60.615938\" xlink:href=\"#mbfdfd4c05e\" y=\"337.308562\"/>\r\n      </g>\r\n     </g>\r\n     <g id=\"text_48\">\r\n      <!-- 13.75 -->\r\n      <g transform=\"translate(24.987813 341.107781)scale(0.1 -0.1)\">\r\n       <use xlink:href=\"#DejaVuSans-49\"/>\r\n       <use x=\"63.623047\" xlink:href=\"#DejaVuSans-51\"/>\r\n       <use x=\"127.246094\" xlink:href=\"#DejaVuSans-46\"/>\r\n       <use x=\"159.033203\" xlink:href=\"#DejaVuSans-55\"/>\r\n       <use x=\"222.65625\" xlink:href=\"#DejaVuSans-53\"/>\r\n      </g>\r\n     </g>\r\n    </g>\r\n    <g id=\"ytick_13\">\r\n     <g id=\"line2d_95\">\r\n      <path clip-path=\"url(#pd3693154a8)\" d=\"M 60.615938 321.000562 \r\nL 841.815938 321.000562 \r\n\" style=\"fill:none;stroke:#0000ff;stroke-dasharray:2,3.3;stroke-dashoffset:0;stroke-opacity:0.5;stroke-width:2;\"/>\r\n     </g>\r\n     <g id=\"line2d_96\">\r\n      <g>\r\n       <use style=\"stroke:#000000;stroke-width:0.8;\" x=\"60.615938\" xlink:href=\"#mbfdfd4c05e\" y=\"321.000562\"/>\r\n      </g>\r\n     </g>\r\n     <g id=\"text_49\">\r\n      <!-- 15.00 -->\r\n      <g transform=\"translate(24.987813 324.799781)scale(0.1 -0.1)\">\r\n       <use xlink:href=\"#DejaVuSans-49\"/>\r\n       <use x=\"63.623047\" xlink:href=\"#DejaVuSans-53\"/>\r\n       <use x=\"127.246094\" xlink:href=\"#DejaVuSans-46\"/>\r\n       <use x=\"159.033203\" xlink:href=\"#DejaVuSans-48\"/>\r\n       <use x=\"222.65625\" xlink:href=\"#DejaVuSans-48\"/>\r\n      </g>\r\n     </g>\r\n    </g>\r\n    <g id=\"ytick_14\">\r\n     <g id=\"line2d_97\">\r\n      <path clip-path=\"url(#pd3693154a8)\" d=\"M 60.615938 304.692562 \r\nL 841.815938 304.692562 \r\n\" style=\"fill:none;stroke:#0000ff;stroke-dasharray:2,3.3;stroke-dashoffset:0;stroke-opacity:0.5;stroke-width:2;\"/>\r\n     </g>\r\n     <g id=\"line2d_98\">\r\n      <g>\r\n       <use style=\"stroke:#000000;stroke-width:0.8;\" x=\"60.615938\" xlink:href=\"#mbfdfd4c05e\" y=\"304.692562\"/>\r\n      </g>\r\n     </g>\r\n     <g id=\"text_50\">\r\n      <!-- 16.25 -->\r\n      <g transform=\"translate(24.987813 308.491781)scale(0.1 -0.1)\">\r\n       <use xlink:href=\"#DejaVuSans-49\"/>\r\n       <use x=\"63.623047\" xlink:href=\"#DejaVuSans-54\"/>\r\n       <use x=\"127.246094\" xlink:href=\"#DejaVuSans-46\"/>\r\n       <use x=\"159.033203\" xlink:href=\"#DejaVuSans-50\"/>\r\n       <use x=\"222.65625\" xlink:href=\"#DejaVuSans-53\"/>\r\n      </g>\r\n     </g>\r\n    </g>\r\n    <g id=\"ytick_15\">\r\n     <g id=\"line2d_99\">\r\n      <path clip-path=\"url(#pd3693154a8)\" d=\"M 60.615938 288.384562 \r\nL 841.815938 288.384562 \r\n\" style=\"fill:none;stroke:#0000ff;stroke-dasharray:2,3.3;stroke-dashoffset:0;stroke-opacity:0.5;stroke-width:2;\"/>\r\n     </g>\r\n     <g id=\"line2d_100\">\r\n      <g>\r\n       <use style=\"stroke:#000000;stroke-width:0.8;\" x=\"60.615938\" xlink:href=\"#mbfdfd4c05e\" y=\"288.384562\"/>\r\n      </g>\r\n     </g>\r\n     <g id=\"text_51\">\r\n      <!-- 17.50 -->\r\n      <g transform=\"translate(24.987813 292.183781)scale(0.1 -0.1)\">\r\n       <use xlink:href=\"#DejaVuSans-49\"/>\r\n       <use x=\"63.623047\" xlink:href=\"#DejaVuSans-55\"/>\r\n       <use x=\"127.246094\" xlink:href=\"#DejaVuSans-46\"/>\r\n       <use x=\"159.033203\" xlink:href=\"#DejaVuSans-53\"/>\r\n       <use x=\"222.65625\" xlink:href=\"#DejaVuSans-48\"/>\r\n      </g>\r\n     </g>\r\n    </g>\r\n    <g id=\"ytick_16\">\r\n     <g id=\"line2d_101\">\r\n      <path clip-path=\"url(#pd3693154a8)\" d=\"M 60.615938 272.076562 \r\nL 841.815938 272.076562 \r\n\" style=\"fill:none;stroke:#0000ff;stroke-dasharray:2,3.3;stroke-dashoffset:0;stroke-opacity:0.5;stroke-width:2;\"/>\r\n     </g>\r\n     <g id=\"line2d_102\">\r\n      <g>\r\n       <use style=\"stroke:#000000;stroke-width:0.8;\" x=\"60.615938\" xlink:href=\"#mbfdfd4c05e\" y=\"272.076562\"/>\r\n      </g>\r\n     </g>\r\n     <g id=\"text_52\">\r\n      <!-- 18.75 -->\r\n      <g transform=\"translate(24.987813 275.875781)scale(0.1 -0.1)\">\r\n       <use xlink:href=\"#DejaVuSans-49\"/>\r\n       <use x=\"63.623047\" xlink:href=\"#DejaVuSans-56\"/>\r\n       <use x=\"127.246094\" xlink:href=\"#DejaVuSans-46\"/>\r\n       <use x=\"159.033203\" xlink:href=\"#DejaVuSans-55\"/>\r\n       <use x=\"222.65625\" xlink:href=\"#DejaVuSans-53\"/>\r\n      </g>\r\n     </g>\r\n    </g>\r\n    <g id=\"ytick_17\">\r\n     <g id=\"line2d_103\">\r\n      <path clip-path=\"url(#pd3693154a8)\" d=\"M 60.615938 255.768562 \r\nL 841.815938 255.768562 \r\n\" style=\"fill:none;stroke:#0000ff;stroke-dasharray:2,3.3;stroke-dashoffset:0;stroke-opacity:0.5;stroke-width:2;\"/>\r\n     </g>\r\n     <g id=\"line2d_104\">\r\n      <g>\r\n       <use style=\"stroke:#000000;stroke-width:0.8;\" x=\"60.615938\" xlink:href=\"#mbfdfd4c05e\" y=\"255.768562\"/>\r\n      </g>\r\n     </g>\r\n     <g id=\"text_53\">\r\n      <!-- 20.00 -->\r\n      <g transform=\"translate(24.987813 259.567781)scale(0.1 -0.1)\">\r\n       <use xlink:href=\"#DejaVuSans-50\"/>\r\n       <use x=\"63.623047\" xlink:href=\"#DejaVuSans-48\"/>\r\n       <use x=\"127.246094\" xlink:href=\"#DejaVuSans-46\"/>\r\n       <use x=\"159.033203\" xlink:href=\"#DejaVuSans-48\"/>\r\n       <use x=\"222.65625\" xlink:href=\"#DejaVuSans-48\"/>\r\n      </g>\r\n     </g>\r\n    </g>\r\n    <g id=\"ytick_18\">\r\n     <g id=\"line2d_105\">\r\n      <path clip-path=\"url(#pd3693154a8)\" d=\"M 60.615938 239.460562 \r\nL 841.815938 239.460562 \r\n\" style=\"fill:none;stroke:#0000ff;stroke-dasharray:2,3.3;stroke-dashoffset:0;stroke-opacity:0.5;stroke-width:2;\"/>\r\n     </g>\r\n     <g id=\"line2d_106\">\r\n      <g>\r\n       <use style=\"stroke:#000000;stroke-width:0.8;\" x=\"60.615938\" xlink:href=\"#mbfdfd4c05e\" y=\"239.460562\"/>\r\n      </g>\r\n     </g>\r\n     <g id=\"text_54\">\r\n      <!-- 21.25 -->\r\n      <g transform=\"translate(24.987813 243.259781)scale(0.1 -0.1)\">\r\n       <use xlink:href=\"#DejaVuSans-50\"/>\r\n       <use x=\"63.623047\" xlink:href=\"#DejaVuSans-49\"/>\r\n       <use x=\"127.246094\" xlink:href=\"#DejaVuSans-46\"/>\r\n       <use x=\"159.033203\" xlink:href=\"#DejaVuSans-50\"/>\r\n       <use x=\"222.65625\" xlink:href=\"#DejaVuSans-53\"/>\r\n      </g>\r\n     </g>\r\n    </g>\r\n    <g id=\"ytick_19\">\r\n     <g id=\"line2d_107\">\r\n      <path clip-path=\"url(#pd3693154a8)\" d=\"M 60.615938 223.152562 \r\nL 841.815938 223.152562 \r\n\" style=\"fill:none;stroke:#0000ff;stroke-dasharray:2,3.3;stroke-dashoffset:0;stroke-opacity:0.5;stroke-width:2;\"/>\r\n     </g>\r\n     <g id=\"line2d_108\">\r\n      <g>\r\n       <use style=\"stroke:#000000;stroke-width:0.8;\" x=\"60.615938\" xlink:href=\"#mbfdfd4c05e\" y=\"223.152562\"/>\r\n      </g>\r\n     </g>\r\n     <g id=\"text_55\">\r\n      <!-- 22.50 -->\r\n      <g transform=\"translate(24.987813 226.951781)scale(0.1 -0.1)\">\r\n       <use xlink:href=\"#DejaVuSans-50\"/>\r\n       <use x=\"63.623047\" xlink:href=\"#DejaVuSans-50\"/>\r\n       <use x=\"127.246094\" xlink:href=\"#DejaVuSans-46\"/>\r\n       <use x=\"159.033203\" xlink:href=\"#DejaVuSans-53\"/>\r\n       <use x=\"222.65625\" xlink:href=\"#DejaVuSans-48\"/>\r\n      </g>\r\n     </g>\r\n    </g>\r\n    <g id=\"ytick_20\">\r\n     <g id=\"line2d_109\">\r\n      <path clip-path=\"url(#pd3693154a8)\" d=\"M 60.615938 206.844562 \r\nL 841.815938 206.844562 \r\n\" style=\"fill:none;stroke:#0000ff;stroke-dasharray:2,3.3;stroke-dashoffset:0;stroke-opacity:0.5;stroke-width:2;\"/>\r\n     </g>\r\n     <g id=\"line2d_110\">\r\n      <g>\r\n       <use style=\"stroke:#000000;stroke-width:0.8;\" x=\"60.615938\" xlink:href=\"#mbfdfd4c05e\" y=\"206.844562\"/>\r\n      </g>\r\n     </g>\r\n     <g id=\"text_56\">\r\n      <!-- 23.75 -->\r\n      <g transform=\"translate(24.987813 210.643781)scale(0.1 -0.1)\">\r\n       <use xlink:href=\"#DejaVuSans-50\"/>\r\n       <use x=\"63.623047\" xlink:href=\"#DejaVuSans-51\"/>\r\n       <use x=\"127.246094\" xlink:href=\"#DejaVuSans-46\"/>\r\n       <use x=\"159.033203\" xlink:href=\"#DejaVuSans-55\"/>\r\n       <use x=\"222.65625\" xlink:href=\"#DejaVuSans-53\"/>\r\n      </g>\r\n     </g>\r\n    </g>\r\n    <g id=\"ytick_21\">\r\n     <g id=\"line2d_111\">\r\n      <path clip-path=\"url(#pd3693154a8)\" d=\"M 60.615938 190.536562 \r\nL 841.815938 190.536562 \r\n\" style=\"fill:none;stroke:#0000ff;stroke-dasharray:2,3.3;stroke-dashoffset:0;stroke-opacity:0.5;stroke-width:2;\"/>\r\n     </g>\r\n     <g id=\"line2d_112\">\r\n      <g>\r\n       <use style=\"stroke:#000000;stroke-width:0.8;\" x=\"60.615938\" xlink:href=\"#mbfdfd4c05e\" y=\"190.536562\"/>\r\n      </g>\r\n     </g>\r\n     <g id=\"text_57\">\r\n      <!-- 25.00 -->\r\n      <g transform=\"translate(24.987813 194.335781)scale(0.1 -0.1)\">\r\n       <use xlink:href=\"#DejaVuSans-50\"/>\r\n       <use x=\"63.623047\" xlink:href=\"#DejaVuSans-53\"/>\r\n       <use x=\"127.246094\" xlink:href=\"#DejaVuSans-46\"/>\r\n       <use x=\"159.033203\" xlink:href=\"#DejaVuSans-48\"/>\r\n       <use x=\"222.65625\" xlink:href=\"#DejaVuSans-48\"/>\r\n      </g>\r\n     </g>\r\n    </g>\r\n    <g id=\"ytick_22\">\r\n     <g id=\"line2d_113\">\r\n      <path clip-path=\"url(#pd3693154a8)\" d=\"M 60.615938 174.228562 \r\nL 841.815938 174.228562 \r\n\" style=\"fill:none;stroke:#0000ff;stroke-dasharray:2,3.3;stroke-dashoffset:0;stroke-opacity:0.5;stroke-width:2;\"/>\r\n     </g>\r\n     <g id=\"line2d_114\">\r\n      <g>\r\n       <use style=\"stroke:#000000;stroke-width:0.8;\" x=\"60.615938\" xlink:href=\"#mbfdfd4c05e\" y=\"174.228562\"/>\r\n      </g>\r\n     </g>\r\n     <g id=\"text_58\">\r\n      <!-- 26.25 -->\r\n      <g transform=\"translate(24.987813 178.027781)scale(0.1 -0.1)\">\r\n       <use xlink:href=\"#DejaVuSans-50\"/>\r\n       <use x=\"63.623047\" xlink:href=\"#DejaVuSans-54\"/>\r\n       <use x=\"127.246094\" xlink:href=\"#DejaVuSans-46\"/>\r\n       <use x=\"159.033203\" xlink:href=\"#DejaVuSans-50\"/>\r\n       <use x=\"222.65625\" xlink:href=\"#DejaVuSans-53\"/>\r\n      </g>\r\n     </g>\r\n    </g>\r\n    <g id=\"ytick_23\">\r\n     <g id=\"line2d_115\">\r\n      <path clip-path=\"url(#pd3693154a8)\" d=\"M 60.615938 157.920562 \r\nL 841.815938 157.920562 \r\n\" style=\"fill:none;stroke:#0000ff;stroke-dasharray:2,3.3;stroke-dashoffset:0;stroke-opacity:0.5;stroke-width:2;\"/>\r\n     </g>\r\n     <g id=\"line2d_116\">\r\n      <g>\r\n       <use style=\"stroke:#000000;stroke-width:0.8;\" x=\"60.615938\" xlink:href=\"#mbfdfd4c05e\" y=\"157.920562\"/>\r\n      </g>\r\n     </g>\r\n     <g id=\"text_59\">\r\n      <!-- 27.50 -->\r\n      <g transform=\"translate(24.987813 161.719781)scale(0.1 -0.1)\">\r\n       <use xlink:href=\"#DejaVuSans-50\"/>\r\n       <use x=\"63.623047\" xlink:href=\"#DejaVuSans-55\"/>\r\n       <use x=\"127.246094\" xlink:href=\"#DejaVuSans-46\"/>\r\n       <use x=\"159.033203\" xlink:href=\"#DejaVuSans-53\"/>\r\n       <use x=\"222.65625\" xlink:href=\"#DejaVuSans-48\"/>\r\n      </g>\r\n     </g>\r\n    </g>\r\n    <g id=\"ytick_24\">\r\n     <g id=\"line2d_117\">\r\n      <path clip-path=\"url(#pd3693154a8)\" d=\"M 60.615938 141.612562 \r\nL 841.815938 141.612562 \r\n\" style=\"fill:none;stroke:#0000ff;stroke-dasharray:2,3.3;stroke-dashoffset:0;stroke-opacity:0.5;stroke-width:2;\"/>\r\n     </g>\r\n     <g id=\"line2d_118\">\r\n      <g>\r\n       <use style=\"stroke:#000000;stroke-width:0.8;\" x=\"60.615938\" xlink:href=\"#mbfdfd4c05e\" y=\"141.612562\"/>\r\n      </g>\r\n     </g>\r\n     <g id=\"text_60\">\r\n      <!-- 28.75 -->\r\n      <g transform=\"translate(24.987813 145.411781)scale(0.1 -0.1)\">\r\n       <use xlink:href=\"#DejaVuSans-50\"/>\r\n       <use x=\"63.623047\" xlink:href=\"#DejaVuSans-56\"/>\r\n       <use x=\"127.246094\" xlink:href=\"#DejaVuSans-46\"/>\r\n       <use x=\"159.033203\" xlink:href=\"#DejaVuSans-55\"/>\r\n       <use x=\"222.65625\" xlink:href=\"#DejaVuSans-53\"/>\r\n      </g>\r\n     </g>\r\n    </g>\r\n    <g id=\"ytick_25\">\r\n     <g id=\"line2d_119\">\r\n      <path clip-path=\"url(#pd3693154a8)\" d=\"M 60.615938 125.304562 \r\nL 841.815938 125.304562 \r\n\" style=\"fill:none;stroke:#0000ff;stroke-dasharray:2,3.3;stroke-dashoffset:0;stroke-opacity:0.5;stroke-width:2;\"/>\r\n     </g>\r\n     <g id=\"line2d_120\">\r\n      <g>\r\n       <use style=\"stroke:#000000;stroke-width:0.8;\" x=\"60.615938\" xlink:href=\"#mbfdfd4c05e\" y=\"125.304562\"/>\r\n      </g>\r\n     </g>\r\n     <g id=\"text_61\">\r\n      <!-- 30.00 -->\r\n      <g transform=\"translate(24.987813 129.103781)scale(0.1 -0.1)\">\r\n       <use xlink:href=\"#DejaVuSans-51\"/>\r\n       <use x=\"63.623047\" xlink:href=\"#DejaVuSans-48\"/>\r\n       <use x=\"127.246094\" xlink:href=\"#DejaVuSans-46\"/>\r\n       <use x=\"159.033203\" xlink:href=\"#DejaVuSans-48\"/>\r\n       <use x=\"222.65625\" xlink:href=\"#DejaVuSans-48\"/>\r\n      </g>\r\n     </g>\r\n    </g>\r\n    <g id=\"ytick_26\">\r\n     <g id=\"line2d_121\">\r\n      <path clip-path=\"url(#pd3693154a8)\" d=\"M 60.615938 108.996562 \r\nL 841.815938 108.996562 \r\n\" style=\"fill:none;stroke:#0000ff;stroke-dasharray:2,3.3;stroke-dashoffset:0;stroke-opacity:0.5;stroke-width:2;\"/>\r\n     </g>\r\n     <g id=\"line2d_122\">\r\n      <g>\r\n       <use style=\"stroke:#000000;stroke-width:0.8;\" x=\"60.615938\" xlink:href=\"#mbfdfd4c05e\" y=\"108.996562\"/>\r\n      </g>\r\n     </g>\r\n     <g id=\"text_62\">\r\n      <!-- 31.25 -->\r\n      <g transform=\"translate(24.987813 112.795781)scale(0.1 -0.1)\">\r\n       <use xlink:href=\"#DejaVuSans-51\"/>\r\n       <use x=\"63.623047\" xlink:href=\"#DejaVuSans-49\"/>\r\n       <use x=\"127.246094\" xlink:href=\"#DejaVuSans-46\"/>\r\n       <use x=\"159.033203\" xlink:href=\"#DejaVuSans-50\"/>\r\n       <use x=\"222.65625\" xlink:href=\"#DejaVuSans-53\"/>\r\n      </g>\r\n     </g>\r\n    </g>\r\n    <g id=\"ytick_27\">\r\n     <g id=\"line2d_123\">\r\n      <path clip-path=\"url(#pd3693154a8)\" d=\"M 60.615938 92.688562 \r\nL 841.815938 92.688562 \r\n\" style=\"fill:none;stroke:#0000ff;stroke-dasharray:2,3.3;stroke-dashoffset:0;stroke-opacity:0.5;stroke-width:2;\"/>\r\n     </g>\r\n     <g id=\"line2d_124\">\r\n      <g>\r\n       <use style=\"stroke:#000000;stroke-width:0.8;\" x=\"60.615938\" xlink:href=\"#mbfdfd4c05e\" y=\"92.688562\"/>\r\n      </g>\r\n     </g>\r\n     <g id=\"text_63\">\r\n      <!-- 32.50 -->\r\n      <g transform=\"translate(24.987813 96.487781)scale(0.1 -0.1)\">\r\n       <use xlink:href=\"#DejaVuSans-51\"/>\r\n       <use x=\"63.623047\" xlink:href=\"#DejaVuSans-50\"/>\r\n       <use x=\"127.246094\" xlink:href=\"#DejaVuSans-46\"/>\r\n       <use x=\"159.033203\" xlink:href=\"#DejaVuSans-53\"/>\r\n       <use x=\"222.65625\" xlink:href=\"#DejaVuSans-48\"/>\r\n      </g>\r\n     </g>\r\n    </g>\r\n    <g id=\"ytick_28\">\r\n     <g id=\"line2d_125\">\r\n      <path clip-path=\"url(#pd3693154a8)\" d=\"M 60.615938 76.380562 \r\nL 841.815938 76.380562 \r\n\" style=\"fill:none;stroke:#0000ff;stroke-dasharray:2,3.3;stroke-dashoffset:0;stroke-opacity:0.5;stroke-width:2;\"/>\r\n     </g>\r\n     <g id=\"line2d_126\">\r\n      <g>\r\n       <use style=\"stroke:#000000;stroke-width:0.8;\" x=\"60.615938\" xlink:href=\"#mbfdfd4c05e\" y=\"76.380562\"/>\r\n      </g>\r\n     </g>\r\n     <g id=\"text_64\">\r\n      <!-- 33.75 -->\r\n      <g transform=\"translate(24.987813 80.179781)scale(0.1 -0.1)\">\r\n       <use xlink:href=\"#DejaVuSans-51\"/>\r\n       <use x=\"63.623047\" xlink:href=\"#DejaVuSans-51\"/>\r\n       <use x=\"127.246094\" xlink:href=\"#DejaVuSans-46\"/>\r\n       <use x=\"159.033203\" xlink:href=\"#DejaVuSans-55\"/>\r\n       <use x=\"222.65625\" xlink:href=\"#DejaVuSans-53\"/>\r\n      </g>\r\n     </g>\r\n    </g>\r\n    <g id=\"ytick_29\">\r\n     <g id=\"line2d_127\">\r\n      <path clip-path=\"url(#pd3693154a8)\" d=\"M 60.615938 60.072562 \r\nL 841.815938 60.072562 \r\n\" style=\"fill:none;stroke:#0000ff;stroke-dasharray:2,3.3;stroke-dashoffset:0;stroke-opacity:0.5;stroke-width:2;\"/>\r\n     </g>\r\n     <g id=\"line2d_128\">\r\n      <g>\r\n       <use style=\"stroke:#000000;stroke-width:0.8;\" x=\"60.615938\" xlink:href=\"#mbfdfd4c05e\" y=\"60.072562\"/>\r\n      </g>\r\n     </g>\r\n     <g id=\"text_65\">\r\n      <!-- 35.00 -->\r\n      <g transform=\"translate(24.987813 63.871781)scale(0.1 -0.1)\">\r\n       <use xlink:href=\"#DejaVuSans-51\"/>\r\n       <use x=\"63.623047\" xlink:href=\"#DejaVuSans-53\"/>\r\n       <use x=\"127.246094\" xlink:href=\"#DejaVuSans-46\"/>\r\n       <use x=\"159.033203\" xlink:href=\"#DejaVuSans-48\"/>\r\n       <use x=\"222.65625\" xlink:href=\"#DejaVuSans-48\"/>\r\n      </g>\r\n     </g>\r\n    </g>\r\n    <g id=\"ytick_30\">\r\n     <g id=\"line2d_129\">\r\n      <path clip-path=\"url(#pd3693154a8)\" d=\"M 60.615938 43.764562 \r\nL 841.815938 43.764562 \r\n\" style=\"fill:none;stroke:#0000ff;stroke-dasharray:2,3.3;stroke-dashoffset:0;stroke-opacity:0.5;stroke-width:2;\"/>\r\n     </g>\r\n     <g id=\"line2d_130\">\r\n      <g>\r\n       <use style=\"stroke:#000000;stroke-width:0.8;\" x=\"60.615938\" xlink:href=\"#mbfdfd4c05e\" y=\"43.764562\"/>\r\n      </g>\r\n     </g>\r\n     <g id=\"text_66\">\r\n      <!-- 36.25 -->\r\n      <g transform=\"translate(24.987813 47.563781)scale(0.1 -0.1)\">\r\n       <use xlink:href=\"#DejaVuSans-51\"/>\r\n       <use x=\"63.623047\" xlink:href=\"#DejaVuSans-54\"/>\r\n       <use x=\"127.246094\" xlink:href=\"#DejaVuSans-46\"/>\r\n       <use x=\"159.033203\" xlink:href=\"#DejaVuSans-50\"/>\r\n       <use x=\"222.65625\" xlink:href=\"#DejaVuSans-53\"/>\r\n      </g>\r\n     </g>\r\n    </g>\r\n    <g id=\"ytick_31\">\r\n     <g id=\"line2d_131\">\r\n      <path clip-path=\"url(#pd3693154a8)\" d=\"M 60.615938 27.456562 \r\nL 841.815938 27.456562 \r\n\" style=\"fill:none;stroke:#0000ff;stroke-dasharray:2,3.3;stroke-dashoffset:0;stroke-opacity:0.5;stroke-width:2;\"/>\r\n     </g>\r\n     <g id=\"line2d_132\">\r\n      <g>\r\n       <use style=\"stroke:#000000;stroke-width:0.8;\" x=\"60.615938\" xlink:href=\"#mbfdfd4c05e\" y=\"27.456562\"/>\r\n      </g>\r\n     </g>\r\n     <g id=\"text_67\">\r\n      <!-- 37.50 -->\r\n      <g transform=\"translate(24.987813 31.255781)scale(0.1 -0.1)\">\r\n       <use xlink:href=\"#DejaVuSans-51\"/>\r\n       <use x=\"63.623047\" xlink:href=\"#DejaVuSans-55\"/>\r\n       <use x=\"127.246094\" xlink:href=\"#DejaVuSans-46\"/>\r\n       <use x=\"159.033203\" xlink:href=\"#DejaVuSans-53\"/>\r\n       <use x=\"222.65625\" xlink:href=\"#DejaVuSans-48\"/>\r\n      </g>\r\n     </g>\r\n    </g>\r\n    <g id=\"text_68\">\r\n     <!-- Tensão de Ruptura [MPa] -->\r\n     <g transform=\"translate(18.07625 362.432344)rotate(-90)scale(0.14 -0.14)\">\r\n      <defs>\r\n       <path d=\"M 19.09375 0 \r\nL 19.09375 5.171875 \r\nL 28.421875 5.171875 \r\nL 28.421875 67.09375 \r\nL 6.984375 67.09375 \r\nL 6.984375 55.71875 \r\nL 0.984375 55.71875 \r\nL 0.984375 72.90625 \r\nL 65.71875 72.90625 \r\nL 65.71875 55.71875 \r\nL 59.71875 55.71875 \r\nL 59.71875 67.09375 \r\nL 38.28125 67.09375 \r\nL 38.28125 5.171875 \r\nL 47.609375 5.171875 \r\nL 47.609375 0 \r\nz\r\n\" id=\"DejaVuSerif-84\"/>\r\n       <path d=\"M 5.609375 2.875 \r\nL 5.609375 14.984375 \r\nL 10.796875 14.984375 \r\nQ 10.984375 9.1875 14.421875 6.296875 \r\nQ 17.875 3.421875 24.609375 3.421875 \r\nQ 30.671875 3.421875 33.84375 5.6875 \r\nQ 37.015625 7.953125 37.015625 12.3125 \r\nQ 37.015625 15.71875 34.6875 17.8125 \r\nQ 32.375 19.921875 24.90625 22.3125 \r\nL 18.40625 24.515625 \r\nQ 11.71875 26.65625 8.71875 29.875 \r\nQ 5.71875 33.109375 5.71875 38.09375 \r\nQ 5.71875 45.21875 10.9375 49.265625 \r\nQ 16.15625 53.328125 25.390625 53.328125 \r\nQ 29.5 53.328125 34.03125 52.25 \r\nQ 38.578125 51.171875 43.40625 49.125 \r\nL 43.40625 37.796875 \r\nL 38.234375 37.796875 \r\nQ 38.03125 42.828125 34.703125 45.65625 \r\nQ 31.390625 48.484375 25.6875 48.484375 \r\nQ 20.015625 48.484375 17.109375 46.484375 \r\nQ 14.203125 44.484375 14.203125 40.484375 \r\nQ 14.203125 37.203125 16.40625 35.21875 \r\nQ 18.609375 33.25 25.203125 31.203125 \r\nL 32.328125 29 \r\nQ 39.703125 26.703125 42.9375 23.265625 \r\nQ 46.1875 19.828125 46.1875 14.40625 \r\nQ 46.1875 7.03125 40.546875 2.796875 \r\nQ 34.90625 -1.421875 25 -1.421875 \r\nQ 19.96875 -1.421875 15.1875 -0.34375 \r\nQ 10.40625 0.734375 5.609375 2.875 \r\nz\r\n\" id=\"DejaVuSerif-115\"/>\r\n       <path d=\"M 39.796875 16.3125 \r\nL 39.796875 27.296875 \r\nL 28.21875 27.296875 \r\nQ 21.53125 27.296875 18.25 24.40625 \r\nQ 14.984375 21.53125 14.984375 15.578125 \r\nQ 14.984375 10.15625 18.296875 6.984375 \r\nQ 21.625 3.8125 27.296875 3.8125 \r\nQ 32.90625 3.8125 36.34375 7.28125 \r\nQ 39.796875 10.75 39.796875 16.3125 \r\nz\r\nM 48.78125 32.421875 \r\nL 48.78125 5.171875 \r\nL 56.78125 5.171875 \r\nL 56.78125 0 \r\nL 39.796875 0 \r\nL 39.796875 5.609375 \r\nQ 36.8125 2 32.90625 0.28125 \r\nQ 29 -1.421875 23.78125 -1.421875 \r\nQ 15.140625 -1.421875 10.0625 3.171875 \r\nQ 4.984375 7.765625 4.984375 15.578125 \r\nQ 4.984375 23.640625 10.796875 28.078125 \r\nQ 16.609375 32.515625 27.203125 32.515625 \r\nL 39.796875 32.515625 \r\nL 39.796875 36.078125 \r\nQ 39.796875 42 36.203125 45.234375 \r\nQ 32.625 48.484375 26.125 48.484375 \r\nQ 20.75 48.484375 17.578125 46.046875 \r\nQ 14.40625 43.609375 13.625 38.8125 \r\nL 8.984375 38.8125 \r\nL 8.984375 49.3125 \r\nQ 13.671875 51.3125 18.09375 52.3125 \r\nQ 22.515625 53.328125 26.703125 53.328125 \r\nQ 37.5 53.328125 43.140625 47.96875 \r\nQ 48.78125 42.625 48.78125 32.421875 \r\nz\r\nM 27.5625 66.890625 \r\nL 24.765625 69.578125 \r\nQ 23.5 70.75 22.6875 71.109375 \r\nQ 21.890625 71.484375 20.96875 71.484375 \r\nQ 18.90625 71.484375 17.734375 69.546875 \r\nQ 16.5625 67.625 16.328125 63.921875 \r\nL 11.640625 63.921875 \r\nQ 11.734375 70.515625 14.21875 74.09375 \r\nQ 16.71875 77.6875 21.15625 77.6875 \r\nQ 23.015625 77.6875 24.578125 77 \r\nQ 26.140625 76.3125 27.953125 74.703125 \r\nL 30.734375 72.015625 \r\nQ 31.859375 70.90625 32.6875 70.515625 \r\nQ 33.515625 70.125 34.53125 70.125 \r\nQ 36.640625 70.125 37.8125 72.078125 \r\nQ 38.984375 74.03125 39.171875 77.6875 \r\nL 43.859375 77.6875 \r\nQ 43.765625 71.09375 41.265625 67.5 \r\nQ 38.78125 63.921875 34.34375 63.921875 \r\nQ 32.484375 63.921875 30.921875 64.59375 \r\nQ 29.359375 65.28125 27.5625 66.890625 \r\nz\r\n\" id=\"DejaVuSerif-227\"/>\r\n       <path d=\"M 52.484375 5.171875 \r\nL 61.078125 5.171875 \r\nL 61.078125 0 \r\nL 43.5 0 \r\nL 43.5 8.109375 \r\nQ 40.875 3.21875 36.796875 0.890625 \r\nQ 32.71875 -1.421875 26.703125 -1.421875 \r\nQ 17.140625 -1.421875 11.0625 6.171875 \r\nQ 4.984375 13.765625 4.984375 25.984375 \r\nQ 4.984375 38.1875 11.03125 45.75 \r\nQ 17.09375 53.328125 26.703125 53.328125 \r\nQ 32.71875 53.328125 36.796875 51 \r\nQ 40.875 48.6875 43.5 43.796875 \r\nL 43.5 70.796875 \r\nL 35.015625 70.796875 \r\nL 35.015625 75.984375 \r\nL 52.484375 75.984375 \r\nz\r\nM 43.5 23.390625 \r\nL 43.5 28.515625 \r\nQ 43.5 37.84375 39.90625 42.765625 \r\nQ 36.328125 47.703125 29.5 47.703125 \r\nQ 22.5625 47.703125 19.015625 42.234375 \r\nQ 15.484375 36.765625 15.484375 25.984375 \r\nQ 15.484375 15.234375 19.015625 9.71875 \r\nQ 22.5625 4.203125 29.5 4.203125 \r\nQ 36.328125 4.203125 39.90625 9.109375 \r\nQ 43.5 14.015625 43.5 23.390625 \r\nz\r\n\" id=\"DejaVuSerif-100\"/>\r\n       <path d=\"M 47.90625 36.1875 \r\nQ 51.3125 35.25 53.78125 33.03125 \r\nQ 56.25 30.8125 58.203125 26.8125 \r\nL 68.796875 5.171875 \r\nL 77.6875 5.171875 \r\nL 77.6875 0 \r\nL 60.5 0 \r\nL 49.125 23.1875 \r\nQ 45.84375 29.9375 43.109375 31.90625 \r\nQ 40.375 33.890625 35.59375 33.890625 \r\nL 24.703125 33.890625 \r\nL 24.703125 5.171875 \r\nL 35.015625 5.171875 \r\nL 35.015625 0 \r\nL 5.515625 0 \r\nL 5.515625 5.171875 \r\nL 14.796875 5.171875 \r\nL 14.796875 67.671875 \r\nL 5.515625 67.671875 \r\nL 5.515625 72.90625 \r\nL 42.484375 72.90625 \r\nQ 53.125 72.90625 58.90625 67.828125 \r\nQ 64.703125 62.75 64.703125 53.421875 \r\nQ 64.703125 45.90625 60.46875 41.578125 \r\nQ 56.25 37.25 47.90625 36.1875 \r\nz\r\nM 24.703125 39.109375 \r\nL 39.109375 39.109375 \r\nQ 46.484375 39.109375 50 42.59375 \r\nQ 53.515625 46.09375 53.515625 53.421875 \r\nQ 53.515625 60.75 50 64.203125 \r\nQ 46.484375 67.671875 39.109375 67.671875 \r\nL 24.703125 67.671875 \r\nz\r\n\" id=\"DejaVuSerif-82\"/>\r\n       <path d=\"M 35.40625 51.90625 \r\nL 52.203125 51.90625 \r\nL 52.203125 5.171875 \r\nL 60.6875 5.171875 \r\nL 60.6875 0 \r\nL 43.21875 0 \r\nL 43.21875 9.1875 \r\nQ 40.71875 4 36.765625 1.28125 \r\nQ 32.8125 -1.421875 27.59375 -1.421875 \r\nQ 18.953125 -1.421875 14.875 3.484375 \r\nQ 10.796875 8.40625 10.796875 18.890625 \r\nL 10.796875 46.6875 \r\nL 2.6875 46.6875 \r\nL 2.6875 51.90625 \r\nL 19.828125 51.90625 \r\nL 19.828125 21.6875 \r\nQ 19.828125 12.203125 22.140625 8.6875 \r\nQ 24.46875 5.171875 30.421875 5.171875 \r\nQ 36.671875 5.171875 39.9375 9.765625 \r\nQ 43.21875 14.359375 43.21875 23.09375 \r\nL 43.21875 46.6875 \r\nL 35.40625 46.6875 \r\nz\r\n\" id=\"DejaVuSerif-117\"/>\r\n       <path d=\"M 20.515625 28.515625 \r\nL 20.515625 23.390625 \r\nQ 20.515625 14.015625 24.09375 9.109375 \r\nQ 27.6875 4.203125 34.515625 4.203125 \r\nQ 41.40625 4.203125 44.9375 9.71875 \r\nQ 48.484375 15.234375 48.484375 25.984375 \r\nQ 48.484375 36.765625 44.9375 42.234375 \r\nQ 41.40625 47.703125 34.515625 47.703125 \r\nQ 27.6875 47.703125 24.09375 42.765625 \r\nQ 20.515625 37.84375 20.515625 28.515625 \r\nz\r\nM 11.53125 46.6875 \r\nL 2.875 46.6875 \r\nL 2.875 51.90625 \r\nL 20.515625 51.90625 \r\nL 20.515625 43.796875 \r\nQ 23.140625 48.6875 27.21875 51 \r\nQ 31.296875 53.328125 37.3125 53.328125 \r\nQ 46.875 53.328125 52.921875 45.75 \r\nQ 58.984375 38.1875 58.984375 25.984375 \r\nQ 58.984375 13.765625 52.921875 6.171875 \r\nQ 46.875 -1.421875 37.3125 -1.421875 \r\nQ 31.296875 -1.421875 27.21875 0.890625 \r\nQ 23.140625 3.21875 20.515625 8.109375 \r\nL 20.515625 -15.578125 \r\nL 29 -15.578125 \r\nL 29 -20.796875 \r\nL 2.875 -20.796875 \r\nL 2.875 -15.578125 \r\nL 11.53125 -15.578125 \r\nz\r\n\" id=\"DejaVuSerif-112\"/>\r\n       <path d=\"M 47.796875 52 \r\nL 47.796875 39.015625 \r\nL 42.625 39.015625 \r\nQ 42.390625 42.875 40.484375 44.78125 \r\nQ 38.578125 46.6875 34.90625 46.6875 \r\nQ 28.265625 46.6875 24.71875 42.09375 \r\nQ 21.1875 37.5 21.1875 28.90625 \r\nL 21.1875 5.171875 \r\nL 31.59375 5.171875 \r\nL 31.59375 0 \r\nL 4.109375 0 \r\nL 4.109375 5.171875 \r\nL 12.203125 5.171875 \r\nL 12.203125 46.78125 \r\nL 3.609375 46.78125 \r\nL 3.609375 51.90625 \r\nL 21.1875 51.90625 \r\nL 21.1875 42.671875 \r\nQ 23.828125 48.09375 27.96875 50.703125 \r\nQ 32.125 53.328125 38.09375 53.328125 \r\nQ 40.28125 53.328125 42.703125 52.984375 \r\nQ 45.125 52.640625 47.796875 52 \r\nz\r\n\" id=\"DejaVuSerif-114\"/>\r\n       <path d=\"M 5.515625 0 \r\nL 5.515625 5.171875 \r\nL 14.796875 5.171875 \r\nL 14.796875 67.671875 \r\nL 4.984375 67.671875 \r\nL 4.984375 72.90625 \r\nL 26.21875 72.90625 \r\nL 51.8125 21 \r\nL 77.390625 72.90625 \r\nL 97.3125 72.90625 \r\nL 97.3125 67.671875 \r\nL 87.59375 67.671875 \r\nL 87.59375 5.171875 \r\nL 96.921875 5.171875 \r\nL 96.921875 0 \r\nL 68.40625 0 \r\nL 68.40625 5.171875 \r\nL 77.6875 5.171875 \r\nL 77.6875 61.53125 \r\nL 52.6875 10.6875 \r\nL 45.796875 10.6875 \r\nL 20.796875 61.53125 \r\nL 20.796875 5.171875 \r\nL 30.078125 5.171875 \r\nL 30.078125 0 \r\nz\r\n\" id=\"DejaVuSerif-77\"/>\r\n       <path d=\"M 24.703125 37.109375 \r\nL 37.59375 37.109375 \r\nQ 44.875 37.109375 48.671875 41.03125 \r\nQ 52.484375 44.96875 52.484375 52.390625 \r\nQ 52.484375 59.859375 48.671875 63.765625 \r\nQ 44.875 67.671875 37.59375 67.671875 \r\nL 24.703125 67.671875 \r\nz\r\nM 5.515625 0 \r\nL 5.515625 5.171875 \r\nL 14.796875 5.171875 \r\nL 14.796875 67.671875 \r\nL 5.515625 67.671875 \r\nL 5.515625 72.90625 \r\nL 39.984375 72.90625 \r\nQ 50.921875 72.90625 57.3125 67.359375 \r\nQ 63.71875 61.8125 63.71875 52.390625 \r\nQ 63.71875 43.015625 57.3125 37.453125 \r\nQ 50.921875 31.890625 39.984375 31.890625 \r\nL 24.703125 31.890625 \r\nL 24.703125 5.171875 \r\nL 35.984375 5.171875 \r\nL 35.984375 0 \r\nz\r\n\" id=\"DejaVuSerif-80\"/>\r\n      </defs>\r\n      <use xlink:href=\"#DejaVuSerif-84\"/>\r\n      <use x=\"58.949219\" xlink:href=\"#DejaVuSerif-101\"/>\r\n      <use x=\"118.128906\" xlink:href=\"#DejaVuSerif-110\"/>\r\n      <use x=\"182.533203\" xlink:href=\"#DejaVuSerif-115\"/>\r\n      <use x=\"233.851562\" xlink:href=\"#DejaVuSerif-227\"/>\r\n      <use x=\"293.470703\" xlink:href=\"#DejaVuSerif-111\"/>\r\n      <use x=\"353.675781\" xlink:href=\"#DejaVuSerif-32\"/>\r\n      <use x=\"385.462891\" xlink:href=\"#DejaVuSerif-100\"/>\r\n      <use x=\"449.476562\" xlink:href=\"#DejaVuSerif-101\"/>\r\n      <use x=\"508.65625\" xlink:href=\"#DejaVuSerif-32\"/>\r\n      <use x=\"540.443359\" xlink:href=\"#DejaVuSerif-82\"/>\r\n      <use x=\"615.736328\" xlink:href=\"#DejaVuSerif-117\"/>\r\n      <use x=\"680.140625\" xlink:href=\"#DejaVuSerif-112\"/>\r\n      <use x=\"744.154297\" xlink:href=\"#DejaVuSerif-116\"/>\r\n      <use x=\"784.339844\" xlink:href=\"#DejaVuSerif-117\"/>\r\n      <use x=\"848.744141\" xlink:href=\"#DejaVuSerif-114\"/>\r\n      <use x=\"896.546875\" xlink:href=\"#DejaVuSerif-97\"/>\r\n      <use x=\"956.166016\" xlink:href=\"#DejaVuSerif-32\"/>\r\n      <use x=\"987.953125\" xlink:href=\"#DejaVuSerif-91\"/>\r\n      <use x=\"1026.966797\" xlink:href=\"#DejaVuSerif-77\"/>\r\n      <use x=\"1129.359375\" xlink:href=\"#DejaVuSerif-80\"/>\r\n      <use x=\"1192.144531\" xlink:href=\"#DejaVuSerif-97\"/>\r\n      <use x=\"1251.763672\" xlink:href=\"#DejaVuSerif-93\"/>\r\n     </g>\r\n    </g>\r\n   </g>\r\n   <g id=\"line2d_133\">\r\n    <defs>\r\n     <path d=\"M 0 3 \r\nC 0.795609 3 1.55874 2.683901 2.12132 2.12132 \r\nC 2.683901 1.55874 3 0.795609 3 0 \r\nC 3 -0.795609 2.683901 -1.55874 2.12132 -2.12132 \r\nC 1.55874 -2.683901 0.795609 -3 0 -3 \r\nC -0.795609 -3 -1.55874 -2.683901 -2.12132 -2.12132 \r\nC -2.683901 -1.55874 -3 -0.795609 -3 0 \r\nC -3 0.795609 -2.683901 1.55874 -2.12132 2.12132 \r\nC -1.55874 2.683901 -0.795609 3 0 3 \r\nz\r\n\" id=\"md1aa59c49e\" style=\"stroke:#ff0000;\"/>\r\n    </defs>\r\n    <g clip-path=\"url(#pd3693154a8)\">\r\n     <use style=\"fill:#ff0000;stroke:#ff0000;\" x=\"336.333585\" xlink:href=\"#md1aa59c49e\" y=\"281.861362\"/>\r\n     <use style=\"fill:#ff0000;stroke:#ff0000;\" x=\"382.286526\" xlink:href=\"#md1aa59c49e\" y=\"307.954162\"/>\r\n     <use style=\"fill:#ff0000;stroke:#ff0000;\" x=\"244.427702\" xlink:href=\"#md1aa59c49e\" y=\"412.325362\"/>\r\n     <use style=\"fill:#ff0000;stroke:#ff0000;\" x=\"175.49829\" xlink:href=\"#md1aa59c49e\" y=\"386.232562\"/>\r\n     <use style=\"fill:#ff0000;stroke:#ff0000;\" x=\"221.451232\" xlink:href=\"#md1aa59c49e\" y=\"451.464562\"/>\r\n     <use style=\"fill:#ff0000;stroke:#ff0000;\" x=\"313.357114\" xlink:href=\"#md1aa59c49e\" y=\"203.582962\"/>\r\n     <use style=\"fill:#ff0000;stroke:#ff0000;\" x=\"359.310055\" xlink:href=\"#md1aa59c49e\" y=\"360.139762\"/>\r\n     <use style=\"fill:#ff0000;stroke:#ff0000;\" x=\"405.262996\" xlink:href=\"#md1aa59c49e\" y=\"334.046962\"/>\r\n     <use style=\"fill:#ff0000;stroke:#ff0000;\" x=\"382.286526\" xlink:href=\"#md1aa59c49e\" y=\"164.443762\"/>\r\n     <use style=\"fill:#ff0000;stroke:#ff0000;\" x=\"451.215937\" xlink:href=\"#md1aa59c49e\" y=\"190.536562\"/>\r\n     <use style=\"fill:#ff0000;stroke:#ff0000;\" x=\"612.051232\" xlink:href=\"#md1aa59c49e\" y=\"33.979762\"/>\r\n     <use style=\"fill:#ff0000;stroke:#ff0000;\" x=\"382.286526\" xlink:href=\"#md1aa59c49e\" y=\"360.139762\"/>\r\n     <use style=\"fill:#ff0000;stroke:#ff0000;\" x=\"359.310055\" xlink:href=\"#md1aa59c49e\" y=\"307.954162\"/>\r\n     <use style=\"fill:#ff0000;stroke:#ff0000;\" x=\"244.427702\" xlink:href=\"#md1aa59c49e\" y=\"399.278962\"/>\r\n     <use style=\"fill:#ff0000;stroke:#ff0000;\" x=\"290.380643\" xlink:href=\"#md1aa59c49e\" y=\"386.232562\"/>\r\n     <use style=\"fill:#ff0000;stroke:#ff0000;\" x=\"566.09829\" xlink:href=\"#md1aa59c49e\" y=\"164.443762\"/>\r\n     <use style=\"fill:#ff0000;stroke:#ff0000;\" x=\"497.168879\" xlink:href=\"#md1aa59c49e\" y=\"216.629362\"/>\r\n     <use style=\"fill:#ff0000;stroke:#ff0000;\" x=\"428.239467\" xlink:href=\"#md1aa59c49e\" y=\"177.490162\"/>\r\n     <use style=\"fill:#ff0000;stroke:#ff0000;\" x=\"543.12182\" xlink:href=\"#md1aa59c49e\" y=\"86.165362\"/>\r\n     <use style=\"fill:#ff0000;stroke:#ff0000;\" x=\"520.145349\" xlink:href=\"#md1aa59c49e\" y=\"138.350962\"/>\r\n     <use style=\"fill:#ff0000;stroke:#ff0000;\" x=\"336.333585\" xlink:href=\"#md1aa59c49e\" y=\"307.954162\"/>\r\n     <use style=\"fill:#ff0000;stroke:#ff0000;\" x=\"313.357114\" xlink:href=\"#md1aa59c49e\" y=\"360.139762\"/>\r\n     <use style=\"fill:#ff0000;stroke:#ff0000;\" x=\"267.404173\" xlink:href=\"#md1aa59c49e\" y=\"386.232562\"/>\r\n     <use style=\"fill:#ff0000;stroke:#ff0000;\" x=\"244.427702\" xlink:href=\"#md1aa59c49e\" y=\"268.814962\"/>\r\n     <use style=\"fill:#ff0000;stroke:#ff0000;\" x=\"152.52182\" xlink:href=\"#md1aa59c49e\" y=\"412.325362\"/>\r\n     <use style=\"fill:#ff0000;stroke:#ff0000;\" x=\"428.239467\" xlink:href=\"#md1aa59c49e\" y=\"373.186162\"/>\r\n     <use style=\"fill:#ff0000;stroke:#ff0000;\" x=\"336.333585\" xlink:href=\"#md1aa59c49e\" y=\"360.139762\"/>\r\n     <use style=\"fill:#ff0000;stroke:#ff0000;\" x=\"474.192408\" xlink:href=\"#md1aa59c49e\" y=\"281.861362\"/>\r\n     <use style=\"fill:#ff0000;stroke:#ff0000;\" x=\"726.933585\" xlink:href=\"#md1aa59c49e\" y=\"73.118962\"/>\r\n     <use style=\"fill:#ff0000;stroke:#ff0000;\" x=\"405.262996\" xlink:href=\"#md1aa59c49e\" y=\"334.046962\"/>\r\n     <use style=\"fill:#ff0000;stroke:#ff0000;\" x=\"612.051232\" xlink:href=\"#md1aa59c49e\" y=\"164.443762\"/>\r\n     <use style=\"fill:#ff0000;stroke:#ff0000;\" x=\"474.192408\" xlink:href=\"#md1aa59c49e\" y=\"268.814962\"/>\r\n     <use style=\"fill:#ff0000;stroke:#ff0000;\" x=\"382.286526\" xlink:href=\"#md1aa59c49e\" y=\"281.861362\"/>\r\n     <use style=\"fill:#ff0000;stroke:#ff0000;\" x=\"198.474761\" xlink:href=\"#md1aa59c49e\" y=\"399.278962\"/>\r\n     <use style=\"fill:#ff0000;stroke:#ff0000;\" x=\"221.451232\" xlink:href=\"#md1aa59c49e\" y=\"347.093362\"/>\r\n     <use style=\"fill:#ff0000;stroke:#ff0000;\" x=\"703.957114\" xlink:href=\"#md1aa59c49e\" y=\"86.165362\"/>\r\n     <use style=\"fill:#ff0000;stroke:#ff0000;\" x=\"474.192408\" xlink:href=\"#md1aa59c49e\" y=\"203.582962\"/>\r\n     <use style=\"fill:#ff0000;stroke:#ff0000;\" x=\"543.12182\" xlink:href=\"#md1aa59c49e\" y=\"177.490162\"/>\r\n     <use style=\"fill:#ff0000;stroke:#ff0000;\" x=\"589.074761\" xlink:href=\"#md1aa59c49e\" y=\"229.675762\"/>\r\n     <use style=\"fill:#ff0000;stroke:#ff0000;\" x=\"221.451232\" xlink:href=\"#md1aa59c49e\" y=\"464.510962\"/>\r\n     <use style=\"fill:#ff0000;stroke:#ff0000;\" x=\"818.839467\" xlink:href=\"#md1aa59c49e\" y=\"60.072562\"/>\r\n     <use style=\"fill:#ff0000;stroke:#ff0000;\" x=\"772.886526\" xlink:href=\"#md1aa59c49e\" y=\"73.118962\"/>\r\n     <use style=\"fill:#ff0000;stroke:#ff0000;\" x=\"566.09829\" xlink:href=\"#md1aa59c49e\" y=\"151.397362\"/>\r\n     <use style=\"fill:#ff0000;stroke:#ff0000;\" x=\"428.239467\" xlink:href=\"#md1aa59c49e\" y=\"151.397362\"/>\r\n     <use style=\"fill:#ff0000;stroke:#ff0000;\" x=\"313.357114\" xlink:href=\"#md1aa59c49e\" y=\"242.722162\"/>\r\n     <use style=\"fill:#ff0000;stroke:#ff0000;\" x=\"680.980643\" xlink:href=\"#md1aa59c49e\" y=\"151.397362\"/>\r\n     <use style=\"fill:#ff0000;stroke:#ff0000;\" x=\"474.192408\" xlink:href=\"#md1aa59c49e\" y=\"334.046962\"/>\r\n     <use style=\"fill:#ff0000;stroke:#ff0000;\" x=\"795.862996\" xlink:href=\"#md1aa59c49e\" y=\"125.304562\"/>\r\n     <use style=\"fill:#ff0000;stroke:#ff0000;\" x=\"795.862996\" xlink:href=\"#md1aa59c49e\" y=\"138.350962\"/>\r\n     <use style=\"fill:#ff0000;stroke:#ff0000;\" x=\"772.886526\" xlink:href=\"#md1aa59c49e\" y=\"164.443762\"/>\r\n    </g>\r\n   </g>\r\n   <g id=\"line2d_134\">\r\n    <path clip-path=\"url(#pd3693154a8)\" d=\"M 336.333585 313.169157 \r\nL 382.286526 288.40462 \r\nL 244.427702 362.69823 \r\nL 175.49829 399.845035 \r\nL 221.451232 375.080498 \r\nL 313.357114 325.551425 \r\nL 359.310055 300.786888 \r\nL 405.262996 276.022352 \r\nL 382.286526 288.40462 \r\nL 451.215937 251.257815 \r\nL 612.051232 164.581938 \r\nL 382.286526 288.40462 \r\nL 359.310055 300.786888 \r\nL 244.427702 362.69823 \r\nL 290.380643 337.933693 \r\nL 566.09829 189.346474 \r\nL 497.168879 226.493279 \r\nL 428.239467 263.640084 \r\nL 543.12182 201.728742 \r\nL 520.145349 214.111011 \r\nL 336.333585 313.169157 \r\nL 313.357114 325.551425 \r\nL 267.404173 350.315961 \r\nL 244.427702 362.69823 \r\nL 152.52182 412.227303 \r\nL 428.239467 263.640084 \r\nL 336.333585 313.169157 \r\nL 474.192408 238.875547 \r\nL 726.933585 102.670596 \r\nL 405.262996 276.022352 \r\nL 612.051232 164.581938 \r\nL 474.192408 238.875547 \r\nL 382.286526 288.40462 \r\nL 198.474761 387.462766 \r\nL 221.451232 375.080498 \r\nL 703.957114 115.052865 \r\nL 474.192408 238.875547 \r\nL 543.12182 201.728742 \r\nL 589.074761 176.964206 \r\nL 221.451232 375.080498 \r\nL 818.839467 53.141523 \r\nL 772.886526 77.90606 \r\nL 566.09829 189.346474 \r\nL 428.239467 263.640084 \r\nL 313.357114 325.551425 \r\nL 680.980643 127.435133 \r\nL 474.192408 238.875547 \r\nL 795.862996 65.523791 \r\nL 795.862996 65.523791 \r\nL 772.886526 77.90606 \r\n\" style=\"fill:none;stroke:#bf00bf;stroke-linecap:square;stroke-width:1.5;\"/>\r\n   </g>\r\n   <g id=\"patch_3\">\r\n    <path d=\"M 60.615938 516.696562 \r\nL 60.615938 27.456562 \r\n\" style=\"fill:none;stroke:#000000;stroke-linecap:square;stroke-linejoin:miter;stroke-width:0.8;\"/>\r\n   </g>\r\n   <g id=\"patch_4\">\r\n    <path d=\"M 841.815938 516.696562 \r\nL 841.815938 27.456562 \r\n\" style=\"fill:none;stroke:#000000;stroke-linecap:square;stroke-linejoin:miter;stroke-width:0.8;\"/>\r\n   </g>\r\n   <g id=\"patch_5\">\r\n    <path d=\"M 60.615938 516.696562 \r\nL 841.815938 516.696562 \r\n\" style=\"fill:none;stroke:#000000;stroke-linecap:square;stroke-linejoin:miter;stroke-width:0.8;\"/>\r\n   </g>\r\n   <g id=\"patch_6\">\r\n    <path d=\"M 60.615938 27.456562 \r\nL 841.815938 27.456562 \r\n\" style=\"fill:none;stroke:#000000;stroke-linecap:square;stroke-linejoin:miter;stroke-width:0.8;\"/>\r\n   </g>\r\n   <g id=\"text_69\">\r\n    <!-- Tensão de Ruptura x Alongamento -->\r\n    <g transform=\"translate(277.847813 21.456562)scale(0.18 -0.18)\">\r\n     <defs>\r\n      <path d=\"M 18.109375 0 \r\nL 18.109375 5.90625 \r\nL 27.78125 5.90625 \r\nL 27.78125 66.21875 \r\nL 7.8125 66.21875 \r\nL 7.8125 54.6875 \r\nL 1.125 54.6875 \r\nL 1.125 72.90625 \r\nL 73.390625 72.90625 \r\nL 73.390625 54.6875 \r\nL 66.796875 54.6875 \r\nL 66.796875 66.21875 \r\nL 46.6875 66.21875 \r\nL 46.6875 5.90625 \r\nL 56.390625 5.90625 \r\nL 56.390625 0 \r\nz\r\n\" id=\"DejaVuSerif-Bold-84\"/>\r\n      <path d=\"M 40.09375 29.296875 \r\nQ 40.09375 39.546875 38.1875 43.671875 \r\nQ 36.28125 47.796875 31.6875 47.796875 \r\nQ 27.25 47.796875 25.3125 43.75 \r\nQ 23.390625 39.703125 23.390625 30.171875 \r\nL 23.390625 29.296875 \r\nz\r\nM 59.078125 23.484375 \r\nL 23.390625 23.484375 \r\nL 23.390625 23.09375 \r\nQ 23.390625 13.03125 26.40625 8.5625 \r\nQ 29.4375 4.109375 36.1875 4.109375 \r\nQ 41.796875 4.109375 45.265625 7.078125 \r\nQ 48.734375 10.0625 49.703125 15.71875 \r\nL 57.8125 15.71875 \r\nQ 55.71875 6.890625 49.46875 2.734375 \r\nQ 43.21875 -1.421875 31.984375 -1.421875 \r\nQ 18.5 -1.421875 11.296875 5.6875 \r\nQ 4.109375 12.796875 4.109375 25.984375 \r\nQ 4.109375 38.875 11.46875 46.09375 \r\nQ 18.84375 53.328125 31.984375 53.328125 \r\nQ 44.875 53.328125 51.75 45.734375 \r\nQ 58.640625 38.140625 59.078125 23.484375 \r\nz\r\n\" id=\"DejaVuSerif-Bold-101\"/>\r\n      <path d=\"M 3.421875 0 \r\nL 3.421875 5.90625 \r\nL 10.796875 5.90625 \r\nL 10.796875 46 \r\nL 3.421875 46 \r\nL 3.421875 51.90625 \r\nL 28.078125 51.90625 \r\nL 28.078125 44.578125 \r\nQ 31.203125 49.21875 35.203125 51.265625 \r\nQ 39.203125 53.328125 45.3125 53.328125 \r\nQ 54.046875 53.328125 58.515625 48.171875 \r\nQ 62.984375 43.015625 62.984375 33.015625 \r\nL 62.984375 5.90625 \r\nL 70.40625 5.90625 \r\nL 70.40625 0 \r\nL 39.40625 0 \r\nL 39.40625 5.90625 \r\nL 45.703125 5.90625 \r\nL 45.703125 33.5 \r\nQ 45.703125 40.09375 44.015625 42.65625 \r\nQ 42.328125 45.21875 38.1875 45.21875 \r\nQ 32.953125 45.21875 30.515625 41.375 \r\nQ 28.078125 37.546875 28.078125 29.203125 \r\nL 28.078125 5.90625 \r\nL 34.421875 5.90625 \r\nL 34.421875 0 \r\nz\r\n\" id=\"DejaVuSerif-Bold-110\"/>\r\n      <path d=\"M 4.6875 1.515625 \r\nL 4.6875 16.015625 \r\nL 10.203125 16.015625 \r\nQ 10.890625 10.203125 14.546875 7.15625 \r\nQ 18.21875 4.109375 24.515625 4.109375 \r\nQ 29.78125 4.109375 32.59375 5.9375 \r\nQ 35.40625 7.765625 35.40625 11.1875 \r\nQ 35.40625 14.3125 33.625 16.015625 \r\nQ 31.84375 17.71875 26.703125 19 \r\nL 19.578125 20.796875 \r\nQ 11.53125 22.796875 7.90625 26.53125 \r\nQ 4.296875 30.28125 4.296875 36.625 \r\nQ 4.296875 45.0625 10.15625 49.1875 \r\nQ 16.015625 53.328125 28.21875 53.328125 \r\nQ 32.8125 53.328125 38.015625 52.5625 \r\nQ 43.21875 51.8125 49.515625 50.203125 \r\nL 49.515625 37.109375 \r\nL 44 37.109375 \r\nQ 43.5625 42.4375 40.203125 45.109375 \r\nQ 36.859375 47.796875 30.609375 47.796875 \r\nQ 25.34375 47.796875 22.625 46.109375 \r\nQ 19.921875 44.4375 19.921875 41.21875 \r\nQ 19.921875 38.578125 21.484375 37.0625 \r\nQ 23.046875 35.546875 27.09375 34.515625 \r\nL 34.1875 32.71875 \r\nQ 44.390625 30.125 48.296875 26.3125 \r\nQ 52.203125 22.515625 52.203125 15.71875 \r\nQ 52.203125 6.9375 45.921875 2.75 \r\nQ 39.65625 -1.421875 26.421875 -1.421875 \r\nQ 21.578125 -1.421875 16.15625 -0.6875 \r\nQ 10.75 0.046875 4.6875 1.515625 \r\nz\r\n\" id=\"DejaVuSerif-Bold-115\"/>\r\n      <path d=\"M 55.078125 31.890625 \r\nL 55.078125 5.90625 \r\nL 62.5 5.90625 \r\nL 62.5 0 \r\nL 37.796875 0 \r\nL 37.796875 6.59375 \r\nQ 34.375 2.484375 30.171875 0.53125 \r\nQ 25.984375 -1.421875 20.609375 -1.421875 \r\nQ 12.640625 -1.421875 8.375 2.84375 \r\nQ 4.109375 7.125 4.109375 15.09375 \r\nQ 4.109375 23.828125 10.234375 28.171875 \r\nQ 16.359375 32.515625 28.71875 32.515625 \r\nL 37.796875 32.515625 \r\nL 37.796875 35.59375 \r\nQ 37.796875 41.890625 34.8125 44.890625 \r\nQ 31.84375 47.90625 25.59375 47.90625 \r\nQ 20.40625 47.90625 17.59375 45.78125 \r\nQ 14.796875 43.65625 13.625 38.8125 \r\nL 8.109375 38.8125 \r\nL 8.109375 50 \r\nQ 12.75 51.65625 17.71875 52.484375 \r\nQ 22.703125 53.328125 28.21875 53.328125 \r\nQ 42.140625 53.328125 48.609375 48.140625 \r\nQ 55.078125 42.96875 55.078125 31.890625 \r\nz\r\nM 37.796875 16.3125 \r\nL 37.796875 26.703125 \r\nL 31.296875 26.703125 \r\nQ 26.46875 26.703125 23.875 24.0625 \r\nQ 21.296875 21.4375 21.296875 16.5 \r\nQ 21.296875 11.578125 23.171875 9.125 \r\nQ 25.046875 6.6875 28.90625 6.6875 \r\nQ 32.90625 6.6875 35.34375 9.328125 \r\nQ 37.796875 11.96875 37.796875 16.3125 \r\nz\r\nM 11.765625 63.921875 \r\nL 11.765625 64.703125 \r\nQ 11.765625 71.828125 14.359375 75.515625 \r\nQ 16.953125 79.203125 21.921875 79.203125 \r\nQ 23.734375 79.203125 25.46875 78.59375 \r\nQ 27.203125 77.984375 29.453125 76.515625 \r\nL 32.90625 74.21875 \r\nL 33.0625 74.125 \r\nQ 35.203125 72.703125 36.96875 72.703125 \r\nQ 38.96875 72.703125 40.15625 74.40625 \r\nQ 41.359375 76.125 41.359375 79.109375 \r\nL 46.734375 79.109375 \r\nL 46.734375 78.328125 \r\nQ 46.734375 71.1875 44.140625 67.5 \r\nQ 41.5625 63.8125 36.578125 63.8125 \r\nQ 34.765625 63.8125 33.03125 64.421875 \r\nQ 31.296875 65.046875 29.0625 66.5 \r\nL 25.546875 68.796875 \r\nL 25.484375 68.84375 \r\nQ 23.296875 70.3125 21.53125 70.3125 \r\nQ 19.53125 70.3125 18.328125 68.59375 \r\nQ 17.140625 66.890625 17.140625 63.921875 \r\nz\r\n\" id=\"DejaVuSerif-Bold-227\"/>\r\n      <path d=\"M 33.40625 4.109375 \r\nQ 38.875 4.109375 41.09375 8.796875 \r\nQ 43.3125 13.484375 43.3125 25.984375 \r\nQ 43.3125 38.484375 41.109375 43.140625 \r\nQ 38.921875 47.796875 33.40625 47.796875 \r\nQ 27.875 47.796875 25.625 43.078125 \r\nQ 23.390625 38.375 23.390625 25.984375 \r\nQ 23.390625 13.578125 25.625 8.84375 \r\nQ 27.875 4.109375 33.40625 4.109375 \r\nz\r\nM 33.40625 -1.421875 \r\nQ 19.671875 -1.421875 11.890625 5.875 \r\nQ 4.109375 13.1875 4.109375 25.984375 \r\nQ 4.109375 38.8125 11.890625 46.0625 \r\nQ 19.671875 53.328125 33.40625 53.328125 \r\nQ 47.171875 53.328125 54.9375 46.0625 \r\nQ 62.703125 38.8125 62.703125 25.984375 \r\nQ 62.703125 13.1875 54.90625 5.875 \r\nQ 47.125 -1.421875 33.40625 -1.421875 \r\nz\r\n\" id=\"DejaVuSerif-Bold-111\"/>\r\n      <path id=\"DejaVuSerif-Bold-32\"/>\r\n      <path d=\"M 42.921875 23.390625 \r\nL 42.921875 28.515625 \r\nQ 42.921875 37.59375 40.578125 41.640625 \r\nQ 38.234375 45.703125 33.109375 45.703125 \r\nQ 27.734375 45.703125 25.5625 41.421875 \r\nQ 23.390625 37.15625 23.390625 25.984375 \r\nQ 23.390625 14.796875 25.578125 10.5 \r\nQ 27.78125 6.203125 33.109375 6.203125 \r\nQ 38.234375 6.203125 40.578125 10.25 \r\nQ 42.921875 14.3125 42.921875 23.390625 \r\nz\r\nM 60.203125 5.90625 \r\nL 67.578125 5.90625 \r\nL 67.578125 0 \r\nL 42.921875 0 \r\nL 42.921875 6.59375 \r\nQ 40.71875 2.546875 36.984375 0.5625 \r\nQ 33.25 -1.421875 27.78125 -1.421875 \r\nQ 16.75 -1.421875 10.421875 5.90625 \r\nQ 4.109375 13.234375 4.109375 25.984375 \r\nQ 4.109375 38.765625 10.421875 46.046875 \r\nQ 16.75 53.328125 27.78125 53.328125 \r\nQ 33.25 53.328125 36.984375 51.34375 \r\nQ 40.71875 49.359375 42.921875 45.3125 \r\nL 42.921875 70.125 \r\nL 35.5 70.125 \r\nL 35.5 75.984375 \r\nL 60.203125 75.984375 \r\nz\r\n\" id=\"DejaVuSerif-Bold-100\"/>\r\n      <path d=\"M 53.078125 35.59375 \r\nQ 57.421875 34.96875 60.390625 32.71875 \r\nQ 63.375 30.46875 65.578125 26.21875 \r\nL 76.21875 5.90625 \r\nL 83.6875 5.90625 \r\nL 83.6875 0 \r\nL 59.71875 0 \r\nL 48.09375 22.015625 \r\nQ 44.734375 28.859375 42.359375 30.734375 \r\nQ 39.984375 32.625 35.796875 32.625 \r\nL 32.8125 32.625 \r\nL 32.8125 5.90625 \r\nL 42.1875 5.90625 \r\nL 42.1875 0 \r\nL 4.6875 0 \r\nL 4.6875 5.90625 \r\nL 14.015625 5.90625 \r\nL 14.015625 67 \r\nL 4.6875 67 \r\nL 4.6875 72.90625 \r\nL 46.296875 72.90625 \r\nQ 58.984375 72.90625 65.890625 67.796875 \r\nQ 72.796875 62.703125 72.796875 53.328125 \r\nQ 72.796875 45.703125 67.890625 41.28125 \r\nQ 62.984375 36.859375 53.078125 35.59375 \r\nz\r\nM 32.8125 38.484375 \r\nL 39.203125 38.484375 \r\nQ 46.046875 38.484375 49.734375 42.1875 \r\nQ 53.421875 45.90625 53.421875 52.78125 \r\nQ 53.421875 59.671875 49.734375 63.328125 \r\nQ 46.046875 67 39.203125 67 \r\nL 32.8125 67 \r\nz\r\n\" id=\"DejaVuSerif-Bold-82\"/>\r\n      <path d=\"M 61.921875 51.90625 \r\nL 61.921875 5.90625 \r\nL 69.28125 5.90625 \r\nL 69.28125 0 \r\nL 44.578125 0 \r\nL 44.578125 7.328125 \r\nQ 41.5 2.6875 37.5 0.625 \r\nQ 33.5 -1.421875 27.390625 -1.421875 \r\nQ 18.65625 -1.421875 14.1875 3.734375 \r\nQ 9.71875 8.890625 9.71875 18.890625 \r\nL 9.71875 46 \r\nL 2.296875 46 \r\nL 2.296875 51.90625 \r\nL 27 51.90625 \r\nL 27 21.578125 \r\nQ 27 11.921875 28.609375 9.296875 \r\nQ 30.21875 6.6875 34.515625 6.6875 \r\nQ 39.75 6.6875 42.15625 10.546875 \r\nQ 44.578125 14.40625 44.578125 22.796875 \r\nL 44.578125 46 \r\nL 38.28125 46 \r\nL 38.28125 51.90625 \r\nz\r\n\" id=\"DejaVuSerif-Bold-117\"/>\r\n      <path d=\"M 27 28.515625 \r\nL 27 23.390625 \r\nQ 27 14.3125 29.3125 10.25 \r\nQ 31.640625 6.203125 36.8125 6.203125 \r\nQ 42.140625 6.203125 44.3125 10.5 \r\nQ 46.484375 14.796875 46.484375 25.984375 \r\nQ 46.484375 37.15625 44.3125 41.421875 \r\nQ 42.140625 45.703125 36.8125 45.703125 \r\nQ 31.640625 45.703125 29.3125 41.640625 \r\nQ 27 37.59375 27 28.515625 \r\nz\r\nM 9.71875 46 \r\nL 2.296875 46 \r\nL 2.296875 51.90625 \r\nL 27 51.90625 \r\nL 27 45.3125 \r\nQ 29.203125 49.359375 32.90625 51.34375 \r\nQ 36.625 53.328125 42.09375 53.328125 \r\nQ 53.171875 53.328125 59.546875 46.015625 \r\nQ 65.921875 38.71875 65.921875 25.984375 \r\nQ 65.921875 13.234375 59.546875 5.90625 \r\nQ 53.171875 -1.421875 42.09375 -1.421875 \r\nQ 36.625 -1.421875 32.90625 0.5625 \r\nQ 29.203125 2.546875 27 6.59375 \r\nL 27 -14.890625 \r\nL 35.015625 -14.890625 \r\nL 35.015625 -20.796875 \r\nL 2.296875 -20.796875 \r\nL 2.296875 -14.890625 \r\nL 9.71875 -14.890625 \r\nz\r\n\" id=\"DejaVuSerif-Bold-112\"/>\r\n      <path d=\"M 9.90625 46 \r\nL 2.390625 46 \r\nL 2.390625 51.90625 \r\nL 9.90625 51.90625 \r\nL 9.90625 68.015625 \r\nL 27.203125 68.015625 \r\nL 27.203125 51.90625 \r\nL 41.609375 51.90625 \r\nL 41.609375 46 \r\nL 27.203125 46 \r\nL 27.203125 14.203125 \r\nQ 27.203125 7.421875 28.265625 5.765625 \r\nQ 29.34375 4.109375 32.171875 4.109375 \r\nQ 35.296875 4.109375 36.8125 6.203125 \r\nQ 38.328125 8.296875 38.421875 12.703125 \r\nL 45.703125 12.703125 \r\nQ 45.265625 4.890625 41.421875 1.734375 \r\nQ 37.59375 -1.421875 28.21875 -1.421875 \r\nQ 17.53125 -1.421875 13.71875 1.921875 \r\nQ 9.90625 5.28125 9.90625 14.203125 \r\nz\r\n\" id=\"DejaVuSerif-Bold-116\"/>\r\n      <path d=\"M 53.71875 52.484375 \r\nL 53.71875 37.015625 \r\nL 48.1875 37.015625 \r\nQ 47.90625 41.15625 45.953125 43.1875 \r\nQ 44 45.21875 40.28125 45.21875 \r\nQ 34.625 45.21875 31.34375 40.234375 \r\nQ 28.078125 35.25 28.078125 26.421875 \r\nL 28.078125 5.90625 \r\nL 37.5 5.90625 \r\nL 37.5 0 \r\nL 3.421875 0 \r\nL 3.421875 5.90625 \r\nL 10.796875 5.90625 \r\nL 10.796875 46 \r\nL 2.875 46 \r\nL 2.875 51.90625 \r\nL 28.078125 51.90625 \r\nL 28.078125 42.671875 \r\nQ 30.609375 48.09375 34.78125 50.703125 \r\nQ 38.96875 53.328125 45.015625 53.328125 \r\nQ 46.53125 53.328125 48.703125 53.09375 \r\nQ 50.875 52.875 53.71875 52.484375 \r\nz\r\n\" id=\"DejaVuSerif-Bold-114\"/>\r\n      <path d=\"M 55.078125 31.890625 \r\nL 55.078125 5.90625 \r\nL 62.5 5.90625 \r\nL 62.5 0 \r\nL 37.796875 0 \r\nL 37.796875 6.59375 \r\nQ 34.375 2.484375 30.171875 0.53125 \r\nQ 25.984375 -1.421875 20.609375 -1.421875 \r\nQ 12.640625 -1.421875 8.375 2.84375 \r\nQ 4.109375 7.125 4.109375 15.09375 \r\nQ 4.109375 23.828125 10.234375 28.171875 \r\nQ 16.359375 32.515625 28.71875 32.515625 \r\nL 37.796875 32.515625 \r\nL 37.796875 35.59375 \r\nQ 37.796875 41.890625 34.8125 44.890625 \r\nQ 31.84375 47.90625 25.59375 47.90625 \r\nQ 20.40625 47.90625 17.59375 45.78125 \r\nQ 14.796875 43.65625 13.625 38.8125 \r\nL 8.109375 38.8125 \r\nL 8.109375 50 \r\nQ 12.75 51.65625 17.71875 52.484375 \r\nQ 22.703125 53.328125 28.21875 53.328125 \r\nQ 42.140625 53.328125 48.609375 48.140625 \r\nQ 55.078125 42.96875 55.078125 31.890625 \r\nz\r\nM 37.796875 16.3125 \r\nL 37.796875 26.703125 \r\nL 31.296875 26.703125 \r\nQ 26.46875 26.703125 23.875 24.0625 \r\nQ 21.296875 21.4375 21.296875 16.5 \r\nQ 21.296875 11.578125 23.171875 9.125 \r\nQ 25.046875 6.6875 28.90625 6.6875 \r\nQ 32.90625 6.6875 35.34375 9.328125 \r\nQ 37.796875 11.96875 37.796875 16.3125 \r\nz\r\n\" id=\"DejaVuSerif-Bold-97\"/>\r\n      <path d=\"M 35.109375 33.109375 \r\nL 44.28125 46 \r\nL 37.890625 46 \r\nL 37.890625 51.90625 \r\nL 58.109375 51.90625 \r\nL 58.109375 46 \r\nL 51.21875 46 \r\nL 37.984375 27.484375 \r\nL 53.421875 5.90625 \r\nL 60.296875 5.90625 \r\nL 60.296875 0 \r\nL 27.296875 0 \r\nL 27.296875 5.90625 \r\nL 33.984375 5.90625 \r\nL 24.21875 19.578125 \r\nL 14.40625 5.90625 \r\nL 21.390625 5.90625 \r\nL 21.390625 0 \r\nL 0 0 \r\nL 0 5.90625 \r\nL 7.421875 5.90625 \r\nL 21.1875 25.296875 \r\nL 6.296875 46 \r\nL 0.484375 46 \r\nL 0.484375 51.90625 \r\nL 32.171875 51.90625 \r\nL 32.171875 46 \r\nL 25.875 46 \r\nz\r\n\" id=\"DejaVuSerif-Bold-120\"/>\r\n      <path d=\"M -0.78125 0 \r\nL -0.78125 5.90625 \r\nL 5.171875 5.90625 \r\nL 32.625 72.90625 \r\nL 44.28125 72.90625 \r\nL 71.78125 5.90625 \r\nL 78.71875 5.90625 \r\nL 78.71875 0 \r\nL 44.578125 0 \r\nL 44.578125 5.90625 \r\nL 51.703125 5.90625 \r\nL 45.703125 20.796875 \r\nL 18.3125 20.796875 \r\nL 12.203125 5.90625 \r\nL 20.90625 5.90625 \r\nL 20.90625 0 \r\nz\r\nM 20.703125 26.703125 \r\nL 43.3125 26.703125 \r\nL 32.078125 54.59375 \r\nz\r\n\" id=\"DejaVuSerif-Bold-65\"/>\r\n      <path d=\"M 28.078125 5.90625 \r\nL 35.5 5.90625 \r\nL 35.5 0 \r\nL 3.421875 0 \r\nL 3.421875 5.90625 \r\nL 10.796875 5.90625 \r\nL 10.796875 70.125 \r\nL 3.421875 70.125 \r\nL 3.421875 75.984375 \r\nL 28.078125 75.984375 \r\nz\r\n\" id=\"DejaVuSerif-Bold-108\"/>\r\n      <path d=\"M 60.203125 46 \r\nL 60.203125 0.6875 \r\nQ 60.203125 -10.25 52.40625 -16.234375 \r\nQ 44.625 -22.21875 30.421875 -22.21875 \r\nQ 25.25 -22.21875 19.921875 -21.40625 \r\nQ 14.59375 -20.609375 8.984375 -19 \r\nL 8.984375 -6.59375 \r\nL 14.5 -6.59375 \r\nQ 15.234375 -11.71875 18.625 -14.203125 \r\nQ 22.015625 -16.703125 28.328125 -16.703125 \r\nQ 36.328125 -16.703125 39.625 -12.859375 \r\nQ 42.921875 -9.03125 42.921875 0.6875 \r\nL 42.921875 6.59375 \r\nQ 40.71875 2.546875 36.984375 0.5625 \r\nQ 33.25 -1.421875 27.78125 -1.421875 \r\nQ 16.75 -1.421875 10.421875 5.90625 \r\nQ 4.109375 13.234375 4.109375 25.984375 \r\nQ 4.109375 38.765625 10.421875 46.046875 \r\nQ 16.75 53.328125 27.78125 53.328125 \r\nQ 33.25 53.328125 36.984375 51.34375 \r\nQ 40.71875 49.359375 42.921875 45.3125 \r\nL 42.921875 51.90625 \r\nL 67.578125 51.90625 \r\nL 67.578125 46 \r\nz\r\nM 42.921875 28.515625 \r\nQ 42.921875 37.59375 40.578125 41.640625 \r\nQ 38.234375 45.703125 33.109375 45.703125 \r\nQ 27.734375 45.703125 25.5625 41.421875 \r\nQ 23.390625 37.15625 23.390625 25.984375 \r\nQ 23.390625 14.796875 25.578125 10.5 \r\nQ 27.78125 6.203125 33.109375 6.203125 \r\nQ 38.234375 6.203125 40.578125 10.25 \r\nQ 42.921875 14.3125 42.921875 23.390625 \r\nz\r\n\" id=\"DejaVuSerif-Bold-103\"/>\r\n      <path d=\"M 60.6875 43.40625 \r\nQ 64.3125 48.578125 68.5 50.953125 \r\nQ 72.703125 53.328125 78.328125 53.328125 \r\nQ 87.25 53.328125 91.671875 48.265625 \r\nQ 96.09375 43.21875 96.09375 33.015625 \r\nL 96.09375 5.90625 \r\nL 103.515625 5.90625 \r\nL 103.515625 0 \r\nL 72.609375 0 \r\nL 72.609375 5.90625 \r\nL 78.8125 5.90625 \r\nL 78.8125 30.421875 \r\nQ 78.8125 40.140625 77.3125 42.671875 \r\nQ 75.828125 45.21875 71.78125 45.21875 \r\nQ 67.1875 45.21875 64.640625 41.671875 \r\nQ 62.109375 38.140625 62.109375 31.59375 \r\nL 62.109375 5.90625 \r\nL 68.3125 5.90625 \r\nL 68.3125 0 \r\nL 38.625 0 \r\nL 38.625 5.90625 \r\nL 44.828125 5.90625 \r\nL 44.828125 30.421875 \r\nQ 44.828125 40.140625 43.3125 42.671875 \r\nQ 41.796875 45.21875 37.796875 45.21875 \r\nQ 33.15625 45.21875 30.609375 41.671875 \r\nQ 28.078125 38.140625 28.078125 31.59375 \r\nL 28.078125 5.90625 \r\nL 34.28125 5.90625 \r\nL 34.28125 0 \r\nL 3.421875 0 \r\nL 3.421875 5.90625 \r\nL 10.796875 5.90625 \r\nL 10.796875 46 \r\nL 3.421875 46 \r\nL 3.421875 51.90625 \r\nL 28.078125 51.90625 \r\nL 28.078125 44.578125 \r\nQ 31.109375 49.125 35.015625 51.21875 \r\nQ 38.921875 53.328125 44.28125 53.328125 \r\nQ 50.640625 53.328125 54.59375 50.90625 \r\nQ 58.546875 48.484375 60.6875 43.40625 \r\nz\r\n\" id=\"DejaVuSerif-Bold-109\"/>\r\n     </defs>\r\n     <use xlink:href=\"#DejaVuSerif-Bold-84\"/>\r\n     <use x=\"62.914062\" xlink:href=\"#DejaVuSerif-Bold-101\"/>\r\n     <use x=\"126.537109\" xlink:href=\"#DejaVuSerif-Bold-110\"/>\r\n     <use x=\"199.242188\" xlink:href=\"#DejaVuSerif-Bold-115\"/>\r\n     <use x=\"255.541016\" xlink:href=\"#DejaVuSerif-Bold-227\"/>\r\n     <use x=\"320.335938\" xlink:href=\"#DejaVuSerif-Bold-111\"/>\r\n     <use x=\"387.035156\" xlink:href=\"#DejaVuSerif-Bold-32\"/>\r\n     <use x=\"421.849609\" xlink:href=\"#DejaVuSerif-Bold-100\"/>\r\n     <use x=\"491.771484\" xlink:href=\"#DejaVuSerif-Bold-101\"/>\r\n     <use x=\"555.394531\" xlink:href=\"#DejaVuSerif-Bold-32\"/>\r\n     <use x=\"590.208984\" xlink:href=\"#DejaVuSerif-Bold-82\"/>\r\n     <use x=\"673.314453\" xlink:href=\"#DejaVuSerif-Bold-117\"/>\r\n     <use x=\"746.019531\" xlink:href=\"#DejaVuSerif-Bold-112\"/>\r\n     <use x=\"815.941406\" xlink:href=\"#DejaVuSerif-Bold-116\"/>\r\n     <use x=\"862.132812\" xlink:href=\"#DejaVuSerif-Bold-117\"/>\r\n     <use x=\"934.837891\" xlink:href=\"#DejaVuSerif-Bold-114\"/>\r\n     <use x=\"987.523438\" xlink:href=\"#DejaVuSerif-Bold-97\"/>\r\n     <use x=\"1052.318359\" xlink:href=\"#DejaVuSerif-Bold-32\"/>\r\n     <use x=\"1087.132812\" xlink:href=\"#DejaVuSerif-Bold-120\"/>\r\n     <use x=\"1146.751953\" xlink:href=\"#DejaVuSerif-Bold-32\"/>\r\n     <use x=\"1181.566406\" xlink:href=\"#DejaVuSerif-Bold-65\"/>\r\n     <use x=\"1259.154297\" xlink:href=\"#DejaVuSerif-Bold-108\"/>\r\n     <use x=\"1297.142578\" xlink:href=\"#DejaVuSerif-Bold-111\"/>\r\n     <use x=\"1363.841797\" xlink:href=\"#DejaVuSerif-Bold-110\"/>\r\n     <use x=\"1436.546875\" xlink:href=\"#DejaVuSerif-Bold-103\"/>\r\n     <use x=\"1506.46875\" xlink:href=\"#DejaVuSerif-Bold-97\"/>\r\n     <use x=\"1571.263672\" xlink:href=\"#DejaVuSerif-Bold-109\"/>\r\n     <use x=\"1677.074219\" xlink:href=\"#DejaVuSerif-Bold-101\"/>\r\n     <use x=\"1740.697266\" xlink:href=\"#DejaVuSerif-Bold-110\"/>\r\n     <use x=\"1813.402344\" xlink:href=\"#DejaVuSerif-Bold-116\"/>\r\n     <use x=\"1859.59375\" xlink:href=\"#DejaVuSerif-Bold-111\"/>\r\n    </g>\r\n   </g>\r\n   <g id=\"legend_1\">\r\n    <g id=\"patch_7\">\r\n     <path d=\"M 69.015938 72.284062 \r\nL 206.018437 72.284062 \r\nQ 208.418437 72.284062 208.418437 69.884062 \r\nL 208.418437 35.856562 \r\nQ 208.418437 33.456562 206.018437 33.456562 \r\nL 69.015938 33.456562 \r\nQ 66.615938 33.456562 66.615938 35.856562 \r\nL 66.615938 69.884062 \r\nQ 66.615938 72.284062 69.015938 72.284062 \r\nz\r\n\" style=\"fill:#ffffff;opacity:0.8;stroke:#cccccc;stroke-linejoin:miter;\"/>\r\n    </g>\r\n    <g id=\"line2d_135\"/>\r\n    <g id=\"line2d_136\">\r\n     <g>\r\n      <use style=\"fill:#ff0000;stroke:#ff0000;\" x=\"83.415937\" xlink:href=\"#md1aa59c49e\" y=\"43.174687\"/>\r\n     </g>\r\n    </g>\r\n    <g id=\"text_70\">\r\n     <!-- Dados dispersos -->\r\n     <g transform=\"translate(105.015938 47.374687)scale(0.12 -0.12)\">\r\n      <defs>\r\n       <path d=\"M 19.671875 64.796875 \r\nL 19.671875 8.109375 \r\nL 31.59375 8.109375 \r\nQ 46.6875 8.109375 53.6875 14.9375 \r\nQ 60.6875 21.78125 60.6875 36.53125 \r\nQ 60.6875 51.171875 53.6875 57.984375 \r\nQ 46.6875 64.796875 31.59375 64.796875 \r\nz\r\nM 9.8125 72.90625 \r\nL 30.078125 72.90625 \r\nQ 51.265625 72.90625 61.171875 64.09375 \r\nQ 71.09375 55.28125 71.09375 36.53125 \r\nQ 71.09375 17.671875 61.125 8.828125 \r\nQ 51.171875 0 30.078125 0 \r\nL 9.8125 0 \r\nz\r\n\" id=\"DejaVuSans-68\"/>\r\n       <path d=\"M 34.28125 27.484375 \r\nQ 23.390625 27.484375 19.1875 25 \r\nQ 14.984375 22.515625 14.984375 16.5 \r\nQ 14.984375 11.71875 18.140625 8.90625 \r\nQ 21.296875 6.109375 26.703125 6.109375 \r\nQ 34.1875 6.109375 38.703125 11.40625 \r\nQ 43.21875 16.703125 43.21875 25.484375 \r\nL 43.21875 27.484375 \r\nz\r\nM 52.203125 31.203125 \r\nL 52.203125 0 \r\nL 43.21875 0 \r\nL 43.21875 8.296875 \r\nQ 40.140625 3.328125 35.546875 0.953125 \r\nQ 30.953125 -1.421875 24.3125 -1.421875 \r\nQ 15.921875 -1.421875 10.953125 3.296875 \r\nQ 6 8.015625 6 15.921875 \r\nQ 6 25.140625 12.171875 29.828125 \r\nQ 18.359375 34.515625 30.609375 34.515625 \r\nL 43.21875 34.515625 \r\nL 43.21875 35.40625 \r\nQ 43.21875 41.609375 39.140625 45 \r\nQ 35.0625 48.390625 27.6875 48.390625 \r\nQ 23 48.390625 18.546875 47.265625 \r\nQ 14.109375 46.140625 10.015625 43.890625 \r\nL 10.015625 52.203125 \r\nQ 14.9375 54.109375 19.578125 55.046875 \r\nQ 24.21875 56 28.609375 56 \r\nQ 40.484375 56 46.34375 49.84375 \r\nQ 52.203125 43.703125 52.203125 31.203125 \r\nz\r\n\" id=\"DejaVuSans-97\"/>\r\n       <path d=\"M 45.40625 46.390625 \r\nL 45.40625 75.984375 \r\nL 54.390625 75.984375 \r\nL 54.390625 0 \r\nL 45.40625 0 \r\nL 45.40625 8.203125 \r\nQ 42.578125 3.328125 38.25 0.953125 \r\nQ 33.9375 -1.421875 27.875 -1.421875 \r\nQ 17.96875 -1.421875 11.734375 6.484375 \r\nQ 5.515625 14.40625 5.515625 27.296875 \r\nQ 5.515625 40.1875 11.734375 48.09375 \r\nQ 17.96875 56 27.875 56 \r\nQ 33.9375 56 38.25 53.625 \r\nQ 42.578125 51.265625 45.40625 46.390625 \r\nz\r\nM 14.796875 27.296875 \r\nQ 14.796875 17.390625 18.875 11.75 \r\nQ 22.953125 6.109375 30.078125 6.109375 \r\nQ 37.203125 6.109375 41.296875 11.75 \r\nQ 45.40625 17.390625 45.40625 27.296875 \r\nQ 45.40625 37.203125 41.296875 42.84375 \r\nQ 37.203125 48.484375 30.078125 48.484375 \r\nQ 22.953125 48.484375 18.875 42.84375 \r\nQ 14.796875 37.203125 14.796875 27.296875 \r\nz\r\n\" id=\"DejaVuSans-100\"/>\r\n       <path d=\"M 30.609375 48.390625 \r\nQ 23.390625 48.390625 19.1875 42.75 \r\nQ 14.984375 37.109375 14.984375 27.296875 \r\nQ 14.984375 17.484375 19.15625 11.84375 \r\nQ 23.34375 6.203125 30.609375 6.203125 \r\nQ 37.796875 6.203125 41.984375 11.859375 \r\nQ 46.1875 17.53125 46.1875 27.296875 \r\nQ 46.1875 37.015625 41.984375 42.703125 \r\nQ 37.796875 48.390625 30.609375 48.390625 \r\nz\r\nM 30.609375 56 \r\nQ 42.328125 56 49.015625 48.375 \r\nQ 55.71875 40.765625 55.71875 27.296875 \r\nQ 55.71875 13.875 49.015625 6.21875 \r\nQ 42.328125 -1.421875 30.609375 -1.421875 \r\nQ 18.84375 -1.421875 12.171875 6.21875 \r\nQ 5.515625 13.875 5.515625 27.296875 \r\nQ 5.515625 40.765625 12.171875 48.375 \r\nQ 18.84375 56 30.609375 56 \r\nz\r\n\" id=\"DejaVuSans-111\"/>\r\n       <path d=\"M 44.28125 53.078125 \r\nL 44.28125 44.578125 \r\nQ 40.484375 46.53125 36.375 47.5 \r\nQ 32.28125 48.484375 27.875 48.484375 \r\nQ 21.1875 48.484375 17.84375 46.4375 \r\nQ 14.5 44.390625 14.5 40.28125 \r\nQ 14.5 37.15625 16.890625 35.375 \r\nQ 19.28125 33.59375 26.515625 31.984375 \r\nL 29.59375 31.296875 \r\nQ 39.15625 29.25 43.1875 25.515625 \r\nQ 47.21875 21.78125 47.21875 15.09375 \r\nQ 47.21875 7.46875 41.1875 3.015625 \r\nQ 35.15625 -1.421875 24.609375 -1.421875 \r\nQ 20.21875 -1.421875 15.453125 -0.5625 \r\nQ 10.6875 0.296875 5.421875 2 \r\nL 5.421875 11.28125 \r\nQ 10.40625 8.6875 15.234375 7.390625 \r\nQ 20.0625 6.109375 24.8125 6.109375 \r\nQ 31.15625 6.109375 34.5625 8.28125 \r\nQ 37.984375 10.453125 37.984375 14.40625 \r\nQ 37.984375 18.0625 35.515625 20.015625 \r\nQ 33.0625 21.96875 24.703125 23.78125 \r\nL 21.578125 24.515625 \r\nQ 13.234375 26.265625 9.515625 29.90625 \r\nQ 5.8125 33.546875 5.8125 39.890625 \r\nQ 5.8125 47.609375 11.28125 51.796875 \r\nQ 16.75 56 26.8125 56 \r\nQ 31.78125 56 36.171875 55.265625 \r\nQ 40.578125 54.546875 44.28125 53.078125 \r\nz\r\n\" id=\"DejaVuSans-115\"/>\r\n       <path id=\"DejaVuSans-32\"/>\r\n       <path d=\"M 9.421875 54.6875 \r\nL 18.40625 54.6875 \r\nL 18.40625 0 \r\nL 9.421875 0 \r\nz\r\nM 9.421875 75.984375 \r\nL 18.40625 75.984375 \r\nL 18.40625 64.59375 \r\nL 9.421875 64.59375 \r\nz\r\n\" id=\"DejaVuSans-105\"/>\r\n       <path d=\"M 18.109375 8.203125 \r\nL 18.109375 -20.796875 \r\nL 9.078125 -20.796875 \r\nL 9.078125 54.6875 \r\nL 18.109375 54.6875 \r\nL 18.109375 46.390625 \r\nQ 20.953125 51.265625 25.265625 53.625 \r\nQ 29.59375 56 35.59375 56 \r\nQ 45.5625 56 51.78125 48.09375 \r\nQ 58.015625 40.1875 58.015625 27.296875 \r\nQ 58.015625 14.40625 51.78125 6.484375 \r\nQ 45.5625 -1.421875 35.59375 -1.421875 \r\nQ 29.59375 -1.421875 25.265625 0.953125 \r\nQ 20.953125 3.328125 18.109375 8.203125 \r\nz\r\nM 48.6875 27.296875 \r\nQ 48.6875 37.203125 44.609375 42.84375 \r\nQ 40.53125 48.484375 33.40625 48.484375 \r\nQ 26.265625 48.484375 22.1875 42.84375 \r\nQ 18.109375 37.203125 18.109375 27.296875 \r\nQ 18.109375 17.390625 22.1875 11.75 \r\nQ 26.265625 6.109375 33.40625 6.109375 \r\nQ 40.53125 6.109375 44.609375 11.75 \r\nQ 48.6875 17.390625 48.6875 27.296875 \r\nz\r\n\" id=\"DejaVuSans-112\"/>\r\n       <path d=\"M 56.203125 29.59375 \r\nL 56.203125 25.203125 \r\nL 14.890625 25.203125 \r\nQ 15.484375 15.921875 20.484375 11.0625 \r\nQ 25.484375 6.203125 34.421875 6.203125 \r\nQ 39.59375 6.203125 44.453125 7.46875 \r\nQ 49.3125 8.734375 54.109375 11.28125 \r\nL 54.109375 2.78125 \r\nQ 49.265625 0.734375 44.1875 -0.34375 \r\nQ 39.109375 -1.421875 33.890625 -1.421875 \r\nQ 20.796875 -1.421875 13.15625 6.1875 \r\nQ 5.515625 13.8125 5.515625 26.8125 \r\nQ 5.515625 40.234375 12.765625 48.109375 \r\nQ 20.015625 56 32.328125 56 \r\nQ 43.359375 56 49.78125 48.890625 \r\nQ 56.203125 41.796875 56.203125 29.59375 \r\nz\r\nM 47.21875 32.234375 \r\nQ 47.125 39.59375 43.09375 43.984375 \r\nQ 39.0625 48.390625 32.421875 48.390625 \r\nQ 24.90625 48.390625 20.390625 44.140625 \r\nQ 15.875 39.890625 15.1875 32.171875 \r\nz\r\n\" id=\"DejaVuSans-101\"/>\r\n       <path d=\"M 41.109375 46.296875 \r\nQ 39.59375 47.171875 37.8125 47.578125 \r\nQ 36.03125 48 33.890625 48 \r\nQ 26.265625 48 22.1875 43.046875 \r\nQ 18.109375 38.09375 18.109375 28.8125 \r\nL 18.109375 0 \r\nL 9.078125 0 \r\nL 9.078125 54.6875 \r\nL 18.109375 54.6875 \r\nL 18.109375 46.1875 \r\nQ 20.953125 51.171875 25.484375 53.578125 \r\nQ 30.03125 56 36.53125 56 \r\nQ 37.453125 56 38.578125 55.875 \r\nQ 39.703125 55.765625 41.0625 55.515625 \r\nz\r\n\" id=\"DejaVuSans-114\"/>\r\n      </defs>\r\n      <use xlink:href=\"#DejaVuSans-68\"/>\r\n      <use x=\"77.001953\" xlink:href=\"#DejaVuSans-97\"/>\r\n      <use x=\"138.28125\" xlink:href=\"#DejaVuSans-100\"/>\r\n      <use x=\"201.757812\" xlink:href=\"#DejaVuSans-111\"/>\r\n      <use x=\"262.939453\" xlink:href=\"#DejaVuSans-115\"/>\r\n      <use x=\"315.039062\" xlink:href=\"#DejaVuSans-32\"/>\r\n      <use x=\"346.826172\" xlink:href=\"#DejaVuSans-100\"/>\r\n      <use x=\"410.302734\" xlink:href=\"#DejaVuSans-105\"/>\r\n      <use x=\"438.085938\" xlink:href=\"#DejaVuSans-115\"/>\r\n      <use x=\"490.185547\" xlink:href=\"#DejaVuSans-112\"/>\r\n      <use x=\"553.662109\" xlink:href=\"#DejaVuSans-101\"/>\r\n      <use x=\"615.185547\" xlink:href=\"#DejaVuSans-114\"/>\r\n      <use x=\"656.298828\" xlink:href=\"#DejaVuSans-115\"/>\r\n      <use x=\"708.398438\" xlink:href=\"#DejaVuSans-111\"/>\r\n      <use x=\"769.580078\" xlink:href=\"#DejaVuSans-115\"/>\r\n     </g>\r\n    </g>\r\n    <g id=\"line2d_137\">\r\n     <path d=\"M 71.415937 60.788437 \r\nL 95.415937 60.788437 \r\n\" style=\"fill:none;stroke:#bf00bf;stroke-linecap:square;stroke-width:1.5;\"/>\r\n    </g>\r\n    <g id=\"line2d_138\"/>\r\n    <g id=\"text_71\">\r\n     <!-- Reta Construida -->\r\n     <g transform=\"translate(105.015938 64.988437)scale(0.12 -0.12)\">\r\n      <defs>\r\n       <path d=\"M 44.390625 34.1875 \r\nQ 47.5625 33.109375 50.5625 29.59375 \r\nQ 53.5625 26.078125 56.59375 19.921875 \r\nL 66.609375 0 \r\nL 56 0 \r\nL 46.6875 18.703125 \r\nQ 43.0625 26.03125 39.671875 28.421875 \r\nQ 36.28125 30.8125 30.421875 30.8125 \r\nL 19.671875 30.8125 \r\nL 19.671875 0 \r\nL 9.8125 0 \r\nL 9.8125 72.90625 \r\nL 32.078125 72.90625 \r\nQ 44.578125 72.90625 50.734375 67.671875 \r\nQ 56.890625 62.453125 56.890625 51.90625 \r\nQ 56.890625 45.015625 53.6875 40.46875 \r\nQ 50.484375 35.9375 44.390625 34.1875 \r\nz\r\nM 19.671875 64.796875 \r\nL 19.671875 38.921875 \r\nL 32.078125 38.921875 \r\nQ 39.203125 38.921875 42.84375 42.21875 \r\nQ 46.484375 45.515625 46.484375 51.90625 \r\nQ 46.484375 58.296875 42.84375 61.546875 \r\nQ 39.203125 64.796875 32.078125 64.796875 \r\nz\r\n\" id=\"DejaVuSans-82\"/>\r\n       <path d=\"M 18.3125 70.21875 \r\nL 18.3125 54.6875 \r\nL 36.8125 54.6875 \r\nL 36.8125 47.703125 \r\nL 18.3125 47.703125 \r\nL 18.3125 18.015625 \r\nQ 18.3125 11.328125 20.140625 9.421875 \r\nQ 21.96875 7.515625 27.59375 7.515625 \r\nL 36.8125 7.515625 \r\nL 36.8125 0 \r\nL 27.59375 0 \r\nQ 17.1875 0 13.234375 3.875 \r\nQ 9.28125 7.765625 9.28125 18.015625 \r\nL 9.28125 47.703125 \r\nL 2.6875 47.703125 \r\nL 2.6875 54.6875 \r\nL 9.28125 54.6875 \r\nL 9.28125 70.21875 \r\nz\r\n\" id=\"DejaVuSans-116\"/>\r\n       <path d=\"M 64.40625 67.28125 \r\nL 64.40625 56.890625 \r\nQ 59.421875 61.53125 53.78125 63.8125 \r\nQ 48.140625 66.109375 41.796875 66.109375 \r\nQ 29.296875 66.109375 22.65625 58.46875 \r\nQ 16.015625 50.828125 16.015625 36.375 \r\nQ 16.015625 21.96875 22.65625 14.328125 \r\nQ 29.296875 6.6875 41.796875 6.6875 \r\nQ 48.140625 6.6875 53.78125 8.984375 \r\nQ 59.421875 11.28125 64.40625 15.921875 \r\nL 64.40625 5.609375 \r\nQ 59.234375 2.09375 53.4375 0.328125 \r\nQ 47.65625 -1.421875 41.21875 -1.421875 \r\nQ 24.65625 -1.421875 15.125 8.703125 \r\nQ 5.609375 18.84375 5.609375 36.375 \r\nQ 5.609375 53.953125 15.125 64.078125 \r\nQ 24.65625 74.21875 41.21875 74.21875 \r\nQ 47.75 74.21875 53.53125 72.484375 \r\nQ 59.328125 70.75 64.40625 67.28125 \r\nz\r\n\" id=\"DejaVuSans-67\"/>\r\n       <path d=\"M 54.890625 33.015625 \r\nL 54.890625 0 \r\nL 45.90625 0 \r\nL 45.90625 32.71875 \r\nQ 45.90625 40.484375 42.875 44.328125 \r\nQ 39.84375 48.1875 33.796875 48.1875 \r\nQ 26.515625 48.1875 22.3125 43.546875 \r\nQ 18.109375 38.921875 18.109375 30.90625 \r\nL 18.109375 0 \r\nL 9.078125 0 \r\nL 9.078125 54.6875 \r\nL 18.109375 54.6875 \r\nL 18.109375 46.1875 \r\nQ 21.34375 51.125 25.703125 53.5625 \r\nQ 30.078125 56 35.796875 56 \r\nQ 45.21875 56 50.046875 50.171875 \r\nQ 54.890625 44.34375 54.890625 33.015625 \r\nz\r\n\" id=\"DejaVuSans-110\"/>\r\n       <path d=\"M 8.5 21.578125 \r\nL 8.5 54.6875 \r\nL 17.484375 54.6875 \r\nL 17.484375 21.921875 \r\nQ 17.484375 14.15625 20.5 10.265625 \r\nQ 23.53125 6.390625 29.59375 6.390625 \r\nQ 36.859375 6.390625 41.078125 11.03125 \r\nQ 45.3125 15.671875 45.3125 23.6875 \r\nL 45.3125 54.6875 \r\nL 54.296875 54.6875 \r\nL 54.296875 0 \r\nL 45.3125 0 \r\nL 45.3125 8.40625 \r\nQ 42.046875 3.421875 37.71875 1 \r\nQ 33.40625 -1.421875 27.6875 -1.421875 \r\nQ 18.265625 -1.421875 13.375 4.4375 \r\nQ 8.5 10.296875 8.5 21.578125 \r\nz\r\nM 31.109375 56 \r\nz\r\n\" id=\"DejaVuSans-117\"/>\r\n      </defs>\r\n      <use xlink:href=\"#DejaVuSans-82\"/>\r\n      <use x=\"64.982422\" xlink:href=\"#DejaVuSans-101\"/>\r\n      <use x=\"126.505859\" xlink:href=\"#DejaVuSans-116\"/>\r\n      <use x=\"165.714844\" xlink:href=\"#DejaVuSans-97\"/>\r\n      <use x=\"226.994141\" xlink:href=\"#DejaVuSans-32\"/>\r\n      <use x=\"258.78125\" xlink:href=\"#DejaVuSans-67\"/>\r\n      <use x=\"328.605469\" xlink:href=\"#DejaVuSans-111\"/>\r\n      <use x=\"389.787109\" xlink:href=\"#DejaVuSans-110\"/>\r\n      <use x=\"453.166016\" xlink:href=\"#DejaVuSans-115\"/>\r\n      <use x=\"505.265625\" xlink:href=\"#DejaVuSans-116\"/>\r\n      <use x=\"544.474609\" xlink:href=\"#DejaVuSans-114\"/>\r\n      <use x=\"585.587891\" xlink:href=\"#DejaVuSans-117\"/>\r\n      <use x=\"648.966797\" xlink:href=\"#DejaVuSans-105\"/>\r\n      <use x=\"676.75\" xlink:href=\"#DejaVuSans-100\"/>\r\n      <use x=\"740.226562\" xlink:href=\"#DejaVuSans-97\"/>\r\n     </g>\r\n    </g>\r\n   </g>\r\n  </g>\r\n </g>\r\n <defs>\r\n  <clipPath id=\"pd3693154a8\">\r\n   <rect height=\"489.24\" width=\"781.2\" x=\"60.615938\" y=\"27.456562\"/>\r\n  </clipPath>\r\n </defs>\r\n</svg>\r\n",
      "image/png": "[encoded data removed]"
     },
     "metadata": {
      "needs_background": "light"
     }
    }
   ],
   "source": [
    "plt.figure(1, figsize=(14,9))\n",
    "plt.title('Tensão de Ruptura x Alongamento', fontfamily = 'serif', fontsize = 18, fontweight = 'bold')\n",
    "plt.grid(True, linewidth = 2, linestyle =':', color='b', alpha=0.5)\n",
    "plt.plot(dados['elongation'],dados['tension_strenght'], 'o', label='Dados dispersos', color='r')\n",
    "plt.plot(dados['elongation'],regr_ten_def.intercept+(regr_ten_def.slope*dados['elongation']), \n",
    "    label = 'Reta Construida', color='m')\n",
    "plt.legend(fontsize=12,frameon=True)\n",
    "plt.xlabel('Alongamento [%]',fontsize=14,fontfamily='serif')\n",
    "plt.ylabel('Tensão de Ruptura [MPa]',fontsize=14,fontfamily='serif')\n",
    "plt.yticks(np.arange(0,40,1.25))\n",
    "plt.ylim(0,37.5)\n",
    "plt.xticks(np.arange(0,3.5,0.1),rotation=60)\n",
    "plt.xlim(0,3.4)"
   ]
  }
 ]
}