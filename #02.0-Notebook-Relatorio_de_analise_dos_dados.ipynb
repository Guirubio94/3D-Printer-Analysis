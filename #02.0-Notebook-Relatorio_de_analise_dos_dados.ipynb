{
 "metadata": {
  "language_info": {
   "codemirror_mode": {
    "name": "ipython",
    "version": 3
   },
   "file_extension": ".py",
   "mimetype": "text/x-python",
   "name": "python",
   "nbconvert_exporter": "python",
   "pygments_lexer": "ipython3",
   "version": "3.9.1-final"
  },
  "orig_nbformat": 2,
  "kernelspec": {
   "name": "python3",
   "display_name": "Python 3.9.1 64-bit",
   "metadata": {
    "interpreter": {
     "hash": "ac59ebe37160ed0dfa835113d9b8498d9f09ceb179beaac4002f036b9467c963"
    }
   }
  }
 },
 "nbformat": 4,
 "nbformat_minor": 2,
 "cells": [
  {
   "source": [
    "# Relatorio Técnico Referente a Matéria de Técnicas de Pesquisa Experimental\n",
    "  \n",
    "**Tema:** Analise da Variação de Parâmetros na Impressão 3D de Filamentos Poliméricos  \n",
    "**Profº:** Pedro Bastos Costa  \n",
    "**Universidade Federal de Minas Gerais - UFMG**\n",
    "\n",
    "**Membros:**\n",
    "* Guilherme de Paula Rúbio  \n",
    "* Matheus Ungaretti Borges  \n",
    "* Daniel Affonso Vasconcelos  \n",
    "\n",
    "## *Importação de Bibliotecas*"
   ],
   "cell_type": "markdown",
   "metadata": {}
  },
  {
   "cell_type": "code",
   "execution_count": 1,
   "metadata": {},
   "outputs": [],
   "source": [
    "import numpy as np \n",
    "import pandas as pd \n",
    "import scipy.stats as st \n",
    "import matplotlib.pyplot as plt \n",
    "\n",
    "from math import sqrt\n",
    "\n",
    "%matplotlib inline"
   ]
  },
  {
   "source": [
    "## ***Fuções Auxiliares Criadas***  \n",
    "\n",
    "* **Função**: Teste de hipótese bicaudal, distribuição F"
   ],
   "cell_type": "markdown",
   "metadata": {}
  },
  {
   "source": [
    "def F_bicaudal_hypoteses (F :float, alpha :float, dn :float, dd :float):\n",
    "    '''\n",
    "        Função de teste de hipótese de um teste bicaudal do tipo F\n",
    "            Entrada:\n",
    "               * F: Valor calculado de F_0;\n",
    "               * alpha: nivel de confiança total;\n",
    "               * dn: graus de liberdade do numerador;\n",
    "               * dd: graus de liberdade do denominado.\n",
    "\n",
    "            Saídas:\n",
    "               * Impressão das Respostas.\n",
    "\n",
    "            Retorno: Nenhum\n",
    "    '''\n",
    "    min = st.f.ppf(alpha/2, dn, dd)         # Limite Superior\n",
    "    max = st.f.ppf(1-(alpha/2), dn, dd)     # Limite Inferior\n",
    "\n",
    "    print('O valor da estatísca cálcula F0 é: {:.4f}'.format(F))\n",
    "    print('O limites da distribuição para {} de {:.2f} é: [{:.4f}:{:.4f}]'.format('\\u0251', alpha, min, max))\n",
    "    print('Portanto,',end=' ')\n",
    "\n",
    "    if (F<min) or (F>max):\n",
    "        print('\\033[33mREJEITA-SE\\033[m a hipótese nula!')\n",
    "        print('p-valor: {:.4f}'.format( st.f.cdf(F, dn, dd) if (F<min) else (1-st.f.cdf(F, dn, dd)) ))\n",
    "    else:\n",
    "        print('\\033[31mFALHA EM REJEITAR\\033[m a hipótese nula!')"
   ],
   "cell_type": "code",
   "metadata": {},
   "execution_count": 2,
   "outputs": []
  },
  {
   "source": [
    "## *Importação dos dados*\n",
    "Todos os dados utilizados nessa análise estão disponibilizados na plataforma Kaggle. Caso queria acessar a fonte dos dados utilizados basta [clicar aqui.](https://www.kaggle.com/afumetto/3dprinter?select=data.csv)  \n",
    "\n",
    "### Contexto  \n",
    "Os dados utilizados são oriundos de uma pesquisa desenvolvida pelo Departamento de Engenharia Mecânica da TR/Selcuk University.  \n",
    "Essa pesquisa visava avaliar quais os parâmetros de impressão interferem na qualidade de impressão de peças, precisão e rigidez.  \n",
    "Nos dados apresentados existem nove parâmetro de configuração (entradas), e as medições de três parâmetros de saída.  \n",
    "\n",
    "### Materiais e Métodos  \n",
    "* **Impressora:** Ultimaker S5 3-D \n",
    "* **Teste de materiais e resistência:** Sincotec GMBH, capacidade de tração - 20kN.\n",
    "\n",
    "### Conteúdo dos dados\n",
    "#### Entradas - Parâmetros de configuração:  \n",
    "* Altura de camada (*Layer Height*) \\[mm]  \n",
    "* Espessura de casca (*Wall Thickness*) \\[mm]  \n",
    "* Densidade de preenchimento (*Infill Density*) \\[%]  \n",
    "* Padrão de preenchimento (*Infill Pattern*)  \n",
    "* Temperatura do bico de extrusão (*Nozzle Temperature*) \\[°C]  \n",
    "* Temperetura da mesa de impressão (*Bed Temperature*) \\[°C]  \n",
    "* Velocidade de impressão (*Print Speed*) \\[mm/s]  \n",
    "* Material (*Material*)  \n",
    "* Velocidade do vetilador da extrusora (*Fan Speed*) \\[%]  \n",
    "\n",
    "#### Saídas  \n",
    "* Rugosidade (*Roughness*) \\[µm]\n",
    "* Tensão de ruptura (*Ultimate Tension Strenght*) \\[MPa]\n",
    "* Alongação (*Elongation*) \\[%]  \n",
    "\n",
    "Abaixo importamos os dados para a análise.  "
   ],
   "cell_type": "markdown",
   "metadata": {}
  },
  {
   "cell_type": "code",
   "execution_count": 3,
   "metadata": {},
   "outputs": [
    {
     "output_type": "execute_result",
     "data": {
      "text/plain": [
       "   layer_height  wall_thickness  infill_density infill_pattern  \\\n",
       "0          0.02               8              90           grid   \n",
       "1          0.02               7              90      honeycomb   \n",
       "2          0.02               1              80           grid   \n",
       "3          0.02               4              70      honeycomb   \n",
       "4          0.02               6              90           grid   \n",
       "\n",
       "   nozzle_temperature  bed_temperature  print_speed material  fan_speed  \\\n",
       "0                 220               60           40      abs          0   \n",
       "1                 225               65           40      abs         25   \n",
       "2                 230               70           40      abs         50   \n",
       "3                 240               75           40      abs         75   \n",
       "4                 250               80           40      abs        100   \n",
       "\n",
       "   roughness  tension_strenght  elongation  \n",
       "0         25                18         1.2  \n",
       "1         32                16         1.4  \n",
       "2         40                 8         0.8  \n",
       "3         68                10         0.5  \n",
       "4         92                 5         0.7  "
      ],
      "text/html": "<div>\n<style scoped>\n    .dataframe tbody tr th:only-of-type {\n        vertical-align: middle;\n    }\n\n    .dataframe tbody tr th {\n        vertical-align: top;\n    }\n\n    .dataframe thead th {\n        text-align: right;\n    }\n</style>\n<table border=\"1\" class=\"dataframe\">\n  <thead>\n    <tr style=\"text-align: right;\">\n      <th></th>\n      <th>layer_height</th>\n      <th>wall_thickness</th>\n      <th>infill_density</th>\n      <th>infill_pattern</th>\n      <th>nozzle_temperature</th>\n      <th>bed_temperature</th>\n      <th>print_speed</th>\n      <th>material</th>\n      <th>fan_speed</th>\n      <th>roughness</th>\n      <th>tension_strenght</th>\n      <th>elongation</th>\n    </tr>\n  </thead>\n  <tbody>\n    <tr>\n      <th>0</th>\n      <td>0.02</td>\n      <td>8</td>\n      <td>90</td>\n      <td>grid</td>\n      <td>220</td>\n      <td>60</td>\n      <td>40</td>\n      <td>abs</td>\n      <td>0</td>\n      <td>25</td>\n      <td>18</td>\n      <td>1.2</td>\n    </tr>\n    <tr>\n      <th>1</th>\n      <td>0.02</td>\n      <td>7</td>\n      <td>90</td>\n      <td>honeycomb</td>\n      <td>225</td>\n      <td>65</td>\n      <td>40</td>\n      <td>abs</td>\n      <td>25</td>\n      <td>32</td>\n      <td>16</td>\n      <td>1.4</td>\n    </tr>\n    <tr>\n      <th>2</th>\n      <td>0.02</td>\n      <td>1</td>\n      <td>80</td>\n      <td>grid</td>\n      <td>230</td>\n      <td>70</td>\n      <td>40</td>\n      <td>abs</td>\n      <td>50</td>\n      <td>40</td>\n      <td>8</td>\n      <td>0.8</td>\n    </tr>\n    <tr>\n      <th>3</th>\n      <td>0.02</td>\n      <td>4</td>\n      <td>70</td>\n      <td>honeycomb</td>\n      <td>240</td>\n      <td>75</td>\n      <td>40</td>\n      <td>abs</td>\n      <td>75</td>\n      <td>68</td>\n      <td>10</td>\n      <td>0.5</td>\n    </tr>\n    <tr>\n      <th>4</th>\n      <td>0.02</td>\n      <td>6</td>\n      <td>90</td>\n      <td>grid</td>\n      <td>250</td>\n      <td>80</td>\n      <td>40</td>\n      <td>abs</td>\n      <td>100</td>\n      <td>92</td>\n      <td>5</td>\n      <td>0.7</td>\n    </tr>\n  </tbody>\n</table>\n</div>"
     },
     "metadata": {},
     "execution_count": 3
    }
   ],
   "source": [
    "dados = pd.read_csv('datasets\\data_3D_print.csv')   # Importa o DataFrame\n",
    "dados.head()     # Apresenta as 5 primeiras linhas do DataFrame"
   ]
  },
  {
   "source": [
    "## *Análise das Saídas*  \n",
    "Como temos três saidas iremos analisa-las separadamente.  \n",
    "\n",
    "### Saida Rugosidade:  \n",
    "\n",
    "#### ***Influência do material***  \n",
    "Umas das primeiras hipóteses que desejamos saber do ponto de vista da rugosidade é se o material afeta estatisticamente seu valor, para isso separaremos as saídas de rugosidade por material para realizar uma análise de experimento com um único fator."
   ],
   "cell_type": "markdown",
   "metadata": {}
  },
  {
   "cell_type": "code",
   "execution_count": 4,
   "metadata": {},
   "outputs": [
    {
     "output_type": "execute_result",
     "data": {
      "text/plain": [
       "  material  roughness\n",
       "0      abs         25\n",
       "1      abs         32\n",
       "2      abs         40\n",
       "3      abs         68\n",
       "4      abs         92"
      ],
      "text/html": "<div>\n<style scoped>\n    .dataframe tbody tr th:only-of-type {\n        vertical-align: middle;\n    }\n\n    .dataframe tbody tr th {\n        vertical-align: top;\n    }\n\n    .dataframe thead th {\n        text-align: right;\n    }\n</style>\n<table border=\"1\" class=\"dataframe\">\n  <thead>\n    <tr style=\"text-align: right;\">\n      <th></th>\n      <th>material</th>\n      <th>roughness</th>\n    </tr>\n  </thead>\n  <tbody>\n    <tr>\n      <th>0</th>\n      <td>abs</td>\n      <td>25</td>\n    </tr>\n    <tr>\n      <th>1</th>\n      <td>abs</td>\n      <td>32</td>\n    </tr>\n    <tr>\n      <th>2</th>\n      <td>abs</td>\n      <td>40</td>\n    </tr>\n    <tr>\n      <th>3</th>\n      <td>abs</td>\n      <td>68</td>\n    </tr>\n    <tr>\n      <th>4</th>\n      <td>abs</td>\n      <td>92</td>\n    </tr>\n  </tbody>\n</table>\n</div>"
     },
     "metadata": {},
     "execution_count": 4
    }
   ],
   "source": [
    "dados_roughness_material = dados[['material','roughness']]\n",
    "dados_roughness_material.head()"
   ]
  },
  {
   "source": [
    "Com os dados separados podemos observar que nosso problema é dividido em dois materiais, ou seja, dois níveis (PLA e ABS). Primeiramente vamos analisar quantas observações de cada materiais nos temos.  "
   ],
   "cell_type": "markdown",
   "metadata": {}
  },
  {
   "cell_type": "code",
   "execution_count": 5,
   "metadata": {},
   "outputs": [
    {
     "output_type": "execute_result",
     "data": {
      "text/plain": [
       "pla    25\n",
       "abs    25\n",
       "Name: material, dtype: int64"
      ]
     },
     "metadata": {},
     "execution_count": 5
    }
   ],
   "source": [
    "dados_roughness_material['material'].value_counts()"
   ]
  },
  {
   "source": [
    "Como podemos observa o número de observações de cada material é igual.\n",
    "***\n",
    "#### Teoria 📖:  \n",
    "Supomos que nosso valor de saída rugosidade varia de acordo com o material utilizado, o que significaria que ela teria o seguinte comportamento:  \n",
    "$$\n",
    "\\mathsf{\n",
    "    Y_{ij}= \\mu + \\tau_{i} + \\epsilon_{ij}\n",
    "}\n",
    "\\left\\{\\displaystyle\n",
    "    \\begin{array}{l}\n",
    "        \\mathsf{i=0, 1}\\\\\n",
    "        \\mathsf{j=0, 1, 2, 3, \\dots, 25}\n",
    "    \\end{array}\n",
    "\\right.\n",
    "$$  \n",
    "Onde:\n",
    "   * $\\mu$: média global;  \n",
    "   * $\\tau_{i}$: fator de alteração referente ao material utilizado;\n",
    "   * $\\epsilon_{ij}$: erro aleatorio da medição  \n",
    "***  \n",
    "Para garantirmos que o realmente o material interfere na rugosidade medida nas nossas peças temos que garantir que o valor de $\\tau$ de cada material seja diferente de zero. Logo temos que fazer um teste assumindo as seguintes hipóteses:  \n",
    "$$\n",
    "\\left\\{\n",
    "    \\begin{array}{}\n",
    "        \\mathsf{\\mathit{H_0}: \\tau_{0}=\\tau_{1}=0}\\\\\n",
    "        \\mathsf{\\mathit{h_1}: \\tau_{0}\\not=\\tau_{1}\\not=0}\n",
    "    \\end{array}\n",
    "\\right.\n",
    "$$  \n",
    "Para isso faremos um teste ANOVA. Para isso assumimos que o modelo assumi uma estatística F, assim:  \n",
    "$$\n",
    "\\mathsf{\n",
    "    F_0~=~\\dfrac{\\dfrac{SQ_{tratamentos}}{a-1}}{\\dfrac{SQ_{E}}{a\\cdot\\left(n-1\\right)}}=\n",
    "\\dfrac{\\dfrac{n \\cdot \\displaystyle\\sum_{i=1}^{a=2}\\left(\\bar{y}_{i\\cdot} - \\bar{y}_{\\cdot\\cdot}\\right)^2}{a-1}}{\\dfrac{\\displaystyle\\sum_{i=1}^{a=2} \\sum_{j=1}^{n=25}\\left(y_{ij}-\\bar{y}_{i\\cdot}\\right)^2}{a\\cdot\\left(n-1\\right)}}=\n",
    "    \\dfrac{MQ_{tratamentos}}{MQ_E}\n",
    "}\n",
    "$$  \n",
    "\n",
    "Para iniciarmos os calculos vamos primeiramente calular as média e armazena-las"
   ],
   "cell_type": "markdown",
   "metadata": {}
  },
  {
   "source": [
    "mean_roug_mat = dados_roughness_material.groupby('material').mean()   # media da rugosidade por material\n",
    "mean_roug_mat"
   ],
   "cell_type": "code",
   "metadata": {},
   "execution_count": 6,
   "outputs": [
    {
     "output_type": "execute_result",
     "data": {
      "text/plain": [
       "          roughness\n",
       "material           \n",
       "abs          193.44\n",
       "pla          147.72"
      ],
      "text/html": "<div>\n<style scoped>\n    .dataframe tbody tr th:only-of-type {\n        vertical-align: middle;\n    }\n\n    .dataframe tbody tr th {\n        vertical-align: top;\n    }\n\n    .dataframe thead th {\n        text-align: right;\n    }\n</style>\n<table border=\"1\" class=\"dataframe\">\n  <thead>\n    <tr style=\"text-align: right;\">\n      <th></th>\n      <th>roughness</th>\n    </tr>\n    <tr>\n      <th>material</th>\n      <th></th>\n    </tr>\n  </thead>\n  <tbody>\n    <tr>\n      <th>abs</th>\n      <td>193.44</td>\n    </tr>\n    <tr>\n      <th>pla</th>\n      <td>147.72</td>\n    </tr>\n  </tbody>\n</table>\n</div>"
     },
     "metadata": {},
     "execution_count": 6
    }
   ]
  },
  {
   "cell_type": "code",
   "execution_count": 7,
   "metadata": {},
   "outputs": [
    {
     "output_type": "execute_result",
     "data": {
      "text/plain": [
       "170.58"
      ]
     },
     "metadata": {},
     "execution_count": 7
    }
   ],
   "source": [
    "mean_roug_mat_gen = dados_roughness_material['roughness'].mean()  # Média Geral \n",
    "mean_roug_mat_gen"
   ]
  },
  {
   "source": [
    "Calculando o $SQ_{tratamentos}$:"
   ],
   "cell_type": "markdown",
   "metadata": {}
  },
  {
   "cell_type": "code",
   "execution_count": 8,
   "metadata": {},
   "outputs": [
    {
     "output_type": "execute_result",
     "data": {
      "text/plain": [
       "26128.980000000003"
      ]
     },
     "metadata": {},
     "execution_count": 8
    }
   ],
   "source": [
    "n = (dados_roughness_material['material'].value_counts()).loc['abs']\n",
    "SQ_trat = n * sum((mean_roug_mat['roughness']-mean_roug_mat_gen)**2)\n",
    "SQ_trat"
   ]
  },
  {
   "source": [
    "Calculando $SQ_E$"
   ],
   "cell_type": "markdown",
   "metadata": {}
  },
  {
   "cell_type": "code",
   "execution_count": 9,
   "metadata": {},
   "outputs": [
    {
     "output_type": "execute_result",
     "data": {
      "text/plain": [
       "454451.19999999995"
      ]
     },
     "metadata": {},
     "execution_count": 9
    }
   ],
   "source": [
    "SQ_abs = sum((dados_roughness_material[dados_roughness_material['material']=='abs']['roughness']-float(mean_roug_mat.loc['abs']))**2)\n",
    "SQ_pla = sum((dados_roughness_material[dados_roughness_material['material']=='pla']['roughness']-float(mean_roug_mat.loc['pla']))**2)\n",
    "\n",
    "SQ_e = SQ_abs+SQ_pla\n",
    "SQ_e"
   ]
  },
  {
   "source": [
    "Com os erros quadráticos calculados podemos fazer o teste de hipótese:  "
   ],
   "cell_type": "markdown",
   "metadata": {}
  },
  {
   "cell_type": "code",
   "execution_count": 10,
   "metadata": {},
   "outputs": [
    {
     "output_type": "stream",
     "name": "stdout",
     "text": [
      "O valor da estatísca cálcula F0 é: 2.7598\nO limites da distribuição para ɑ de 0.05 é: [0.0010:5.3541]\nPortanto, \u001b[31mFALHA EM REJEITAR\u001b[m a hipótese nula!\n"
     ]
    }
   ],
   "source": [
    "a = len(mean_roug_mat)\n",
    "\n",
    "MQ_trat = SQ_trat/(a-1)\n",
    "MQe = SQ_e/(a*(n-1))\n",
    "\n",
    "F0 = MQ_trat/MQe\n",
    "\n",
    "F_bicaudal_hypoteses(F0, 0.05, a-1, a*(n-1))"
   ]
  },
  {
   "source": [
    "Como podemos observar para um $\\alpha$ de 0,05 FALHAMOS EM REJEITAR a hipótese nula, logo o material não afeta estatísticamente no valor de rugosidade.   \n",
    "Além do teste ANOVA utilizaremos então o método MDS para avaliar se a as médias medidas tem diferença significativas na rugosidade.  \n",
    "Para isso temos que para as médias terem diferenças significativas devemos relacionar:  \n",
    "$$\n",
    "\\mathsf{\n",
    "    |\\bar{y}_{i\\cdot}-\\bar{y}_{j\\cdot}|> MDS\n",
    "}\n",
    "$$  \n",
    "$$\n",
    "\\mathsf{\n",
    "    |\\bar{y}_{i\\cdot}-\\bar{y}_{j\\cdot}|> \\mathit{t}_{\\frac{\\alpha}{2};a \\cdot(n-1)} \\cdot \\sqrt{\\dfrac{2\\cdot MQ_E}{n}}\n",
    "}\n",
    "$$  \n",
    "Assim:  "
   ],
   "cell_type": "markdown",
   "metadata": {}
  },
  {
   "cell_type": "code",
   "execution_count": 11,
   "metadata": {},
   "outputs": [
    {
     "output_type": "stream",
     "name": "stdout",
     "text": [
      " abs-pla  |   MDS    \n 45.7200  | 55.3352  \n"
     ]
    }
   ],
   "source": [
    "MDS = st.t.ppf(1-0.025,a*(n-1)) * sqrt((2*MQe)/n)\n",
    "\n",
    "print('{:^10}|{:^10}'.format('abs-pla','MDS'))\n",
    "print('{:^1}{:.4f}{:^2}|{:^1}{:.4f}{:^2}'.format('',float(mean_roug_mat.loc['abs'] - mean_roug_mat.loc['pla']),'','', MDS,''))"
   ]
  },
  {
   "source": [
    "Analisando a mínima diferença significativa (MDS), vemos que realmente a mudança do material não afeta estatistiamente o valor da rugosidade.  \n",
    "Essa conclusão era esperada, uma vez que como a impressão ocorre por camadas, a rugosidade deve ser afeta prinicpalmente por parâmetros que determinam as caracteristicas dessas camadas que o material em si.  "
   ],
   "cell_type": "markdown",
   "metadata": {}
  }
 ]
}