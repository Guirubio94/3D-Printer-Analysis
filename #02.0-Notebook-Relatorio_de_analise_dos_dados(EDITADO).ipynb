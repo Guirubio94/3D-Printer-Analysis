{
 "cells": [
  {
   "cell_type": "markdown",
   "metadata": {},
   "source": [
    "# Relatorio Técnico Referente a Matéria de Técnicas de Pesquisa Experimental\n",
    "  \n",
    "**Tema:** Analise da Variação de Parâmetros na Impressão 3D de Filamentos Poliméricos  \n",
    "**Profº:** Pedro Bastos Costa  \n",
    "**Universidade Federal de Minas Gerais - UFMG**\n",
    "\n",
    "**Membros:**\n",
    "* Guilherme de Paula Rúbio  \n",
    "* Matheus Ungaretti Borges  \n",
    "* Daniel Affonso Vasconcelos  \n",
    "\n",
    "## *Importação de Bibliotecas*"
   ]
  },
  {
   "cell_type": "code",
   "execution_count": 8,
   "metadata": {},
   "outputs": [
    {
     "ename": "ModuleNotFoundError",
     "evalue": "No module named 'scipy'",
     "output_type": "error",
     "traceback": [
      "\u001b[1;31m---------------------------------------------------------------------------\u001b[0m",
      "\u001b[1;31mModuleNotFoundError\u001b[0m                       Traceback (most recent call last)",
      "\u001b[1;32m<ipython-input-8-12efef41c5e0>\u001b[0m in \u001b[0;36m<module>\u001b[1;34m\u001b[0m\n\u001b[0;32m      1\u001b[0m \u001b[1;32mimport\u001b[0m \u001b[0mnumpy\u001b[0m \u001b[1;32mas\u001b[0m \u001b[0mnp\u001b[0m\u001b[1;33m\u001b[0m\u001b[1;33m\u001b[0m\u001b[0m\n\u001b[0;32m      2\u001b[0m \u001b[1;32mimport\u001b[0m \u001b[0mpandas\u001b[0m \u001b[1;32mas\u001b[0m \u001b[0mpd\u001b[0m\u001b[1;33m\u001b[0m\u001b[1;33m\u001b[0m\u001b[0m\n\u001b[1;32m----> 3\u001b[1;33m \u001b[1;32mimport\u001b[0m \u001b[0mscipy\u001b[0m\u001b[1;33m.\u001b[0m\u001b[0mstats\u001b[0m \u001b[1;32mas\u001b[0m \u001b[0mst\u001b[0m\u001b[1;33m\u001b[0m\u001b[1;33m\u001b[0m\u001b[0m\n\u001b[0m\u001b[0;32m      4\u001b[0m \u001b[1;32mimport\u001b[0m \u001b[0mscipy\u001b[0m\u001b[1;33m.\u001b[0m\u001b[0mlinalg\u001b[0m \u001b[1;32mas\u001b[0m \u001b[0mln\u001b[0m\u001b[1;33m\u001b[0m\u001b[1;33m\u001b[0m\u001b[0m\n\u001b[0;32m      5\u001b[0m \u001b[1;32mimport\u001b[0m \u001b[0mmatplotlib\u001b[0m\u001b[1;33m.\u001b[0m\u001b[0mpyplot\u001b[0m \u001b[1;32mas\u001b[0m \u001b[0mplt\u001b[0m\u001b[1;33m\u001b[0m\u001b[1;33m\u001b[0m\u001b[0m\n",
      "\u001b[1;31mModuleNotFoundError\u001b[0m: No module named 'scipy'"
     ]
    }
   ],
   "source": [
    "import numpy as np \n",
    "import pandas as pd \n",
    "import scipy.stats as st \n",
    "import scipy.linalg as ln\n",
    "import matplotlib.pyplot as plt \n",
    "\n",
    "from math import sqrt\n",
    "\n",
    "%matplotlib inline"
   ]
  },
  {
   "cell_type": "markdown",
   "metadata": {},
   "source": [
    "## ***Fuções Auxiliares Criadas***  \n",
    "\n",
    "* **Função**: Teste de hipótese bicaudal, distribuição F"
   ]
  },
  {
   "cell_type": "code",
   "execution_count": null,
   "metadata": {},
   "outputs": [],
   "source": [
    "def F_bicaudal_hypoteses (F :float, alpha :float, dn :float, dd :float):\n",
    "    '''\n",
    "        Função de teste de hipótese de um teste bicaudal do tipo F\n",
    "            Entrada:\n",
    "               * F: Valor calculado de F_0;\n",
    "               * alpha: nivel de confiança total;\n",
    "               * dn: graus de liberdade do numerador;\n",
    "               * dd: graus de liberdade do denominado.\n",
    "\n",
    "            Saídas:\n",
    "               * Impressão das Respostas.\n",
    "\n",
    "            Retorno: Nenhum\n",
    "    '''\n",
    "    min = st.f.ppf(alpha/2, dn, dd)         # Limite Superior\n",
    "    max = st.f.ppf(1-(alpha/2), dn, dd)     # Limite Inferior\n",
    "\n",
    "    print('O valor da estatística cálculada F0 é: {:.4f}'.format(F))\n",
    "    print('O limites da distribuição para {} de {:.2f} é: [{:.4f}:{:.4f}]'.format('\\u0251', alpha, min, max))\n",
    "    print('Portanto,',end=' ')\n",
    "\n",
    "    if (F<min) or (F>max):\n",
    "        print('\\033[33mREJEITA-SE\\033[m a hipótese nula!')\n",
    "        print('p-valor: {:.4e}'.format( st.f.cdf(F, dn, dd) if (F<min) else (1-st.f.cdf(F, dn, dd)) ))\n",
    "    else:\n",
    "        print('\\033[31mFALHA EM REJEITAR\\033[m a hipótese nula!')"
   ]
  },
  {
   "cell_type": "markdown",
   "metadata": {},
   "source": [
    "   * **Função:** Cálculo do erro padrão de uma regressão linear múltipla"
   ]
  },
  {
   "cell_type": "code",
   "execution_count": null,
   "metadata": {},
   "outputs": [],
   "source": [
    "def lin_mult_regress_error (C0 :np.array, var2 :float):\n",
    "    '''\n",
    "    Função de calculo de erro padrão de cada constantes:\n",
    "        Entradas:\n",
    "            * C0 = Matriz de covariância da regressão\n",
    "            * var2 = variância do erro padrão\n",
    "        Saida/Retorno:\n",
    "            * se = array com os erros padrões\n",
    "    '''\n",
    "    se = []\n",
    "\n",
    "    for i in range(len(C0)):\n",
    "        se.append(sqrt(var2*C0[i,i]))\n",
    "    \n",
    "    return se"
   ]
  },
  {
   "cell_type": "markdown",
   "metadata": {},
   "source": [
    "   * **Função:** Teste de hipótese dos coeficientes:  "
   ]
  },
  {
   "cell_type": "code",
   "execution_count": null,
   "metadata": {},
   "outputs": [],
   "source": [
    "def lin_mult_coef_hipo (B :np.array, se :np.array, Bj0 :float, alpha :float, n :int):\n",
    "    '''\n",
    "        Função de teste de hipótese dos coeficientes de uma regressão linear\n",
    "            Entradas:\n",
    "                * B: vetor com os coefcientes calculados\n",
    "                * se: vetor com o erro padrão dos coeficientes\n",
    "                * Bjo: hipótese nula\n",
    "                * alpha: nível de confiança\n",
    "                * n: n° de parâmetros da amostra\n",
    "            \n",
    "            Saídas:\n",
    "                * Impressão dos resultados na tela\n",
    "            \n",
    "            Retorno: \n",
    "                *   Nenhum\n",
    "    '''\n",
    "    df = n - (len(B)-1)\n",
    "\n",
    "    for i in range(len(B)):\n",
    "        B0 = (B[i]-Bj0)/se[i]\n",
    "\n",
    "        min = st.t.ppf(alpha/2,df)\n",
    "        max = st.t.ppf(1-(alpha/2),df)\n",
    "\n",
    "        print('{}'.format('=*='*20))\n",
    "        print('{:^60}'.format('Cálculo de {}{}'.format('\\u03B2',i)))\n",
    "\n",
    "        print('O valor de T0 é: {:.4f}'.format(B0))\n",
    "        print('O valor dos limites da região crítica é: [{:.4f}:{:.4f}]'.format(min, max))\n",
    "        print('Assim, ', end='')\n",
    "\n",
    "        if (B0 < min) or (B0 > max):\n",
    "            print('\\033[33mREJEITA-SE\\033[m a hipótese nula!')\n",
    "            print('O valor de p é: {:.4e}'.format(st.t.cdf(B0,df) if B0 < min else 1-st.t.cdf(B0,df)))\n",
    "        else:\n",
    "            print('\\033[31mFALHA-SE EM REJEITAR\\033[m a hipótese nula!')\n",
    "        \n",
    "        print('{}'.format('=*='*20),'\\n')"
   ]
  },
  {
   "cell_type": "markdown",
   "metadata": {},
   "source": [
    "## *Importação dos dados*\n",
    "Todos os dados utilizados nessa análise estão disponibilizados na plataforma Kaggle. Caso queria acessar a fonte dos dados utilizados basta [clicar aqui.](https://www.kaggle.com/afumetto/3dprinter?select=data.csv)  \n",
    "\n",
    "### Contexto  \n",
    "Os dados utilizados são oriundos de uma pesquisa desenvolvida pelo Departamento de Engenharia Mecânica da TR/Selcuk University.  \n",
    "Essa pesquisa visa avaliar quais os parâmetros de impressão interferem na qualidade de impressão de peças, precisão e rigidez.  \n",
    "Nos dados apresentados existem nove parâmetros de configuração (entradas), e de três parâmetros de saída.  \n",
    "\n",
    "### Materiais e Métodos  \n",
    "* **Impressora:** Ultimaker S5 3-D \n",
    "* **Teste de materiais e resistência:** Sincotec GMBH, capacidade de tração - 20kN.\n",
    "\n",
    "### Conteúdo dos dados\n",
    "#### Entradas - Parâmetros de configuração:  \n",
    "* Altura de camada (*Layer Height*) \\[mm]  \n",
    "* Espessura de casca (*Wall Thickness*) \\[mm]  \n",
    "* Densidade de preenchimento (*Infill Density*) \\[%]  \n",
    "* Padrão de preenchimento (*Infill Pattern*)  \n",
    "* Temperatura do bico de extrusão (*Nozzle Temperature*) \\[°C]  \n",
    "* Temperatura da mesa de impressão (*Bed Temperature*) \\[°C]  \n",
    "* Velocidade de impressão (*Print Speed*) \\[mm/s]  \n",
    "* Material (*Material*)  \n",
    "* Velocidade do ventilador da extrusora (*Fan Speed*) \\[%]  \n",
    "\n",
    "#### Saídas  \n",
    "* Rugosidade (*Roughness*) \\[µm]\n",
    "* Tensão de ruptura (*Ultimate Tension Strenght*) \\[MPa]\n",
    "* Alongação (*Elongation*) \\[%]  \n",
    "\n",
    "Abaixo importamos os dados para a análise.  "
   ]
  },
  {
   "cell_type": "code",
   "execution_count": null,
   "metadata": {},
   "outputs": [],
   "source": [
    "dados = pd.read_csv('datasets\\data_3D_print.csv')   # Importa o DataFrame\n",
    "dados.head()     # Apresenta as 5 primeiras linhas do DataFrame"
   ]
  },
  {
   "cell_type": "markdown",
   "metadata": {},
   "source": [
    "## *Análise das Saídas*  \n",
    "Como temos três saidas iremos analisá-las separadamente.  \n",
    "\n",
    "### Saida Rugosidade:  \n",
    "\n",
    "#### ***Influência do material***  \n",
    "Umas das primeiras hipóteses que desejamos testar do ponto de vista da rugosidade, é se o material afeta estatisticamente seu valor, para isso separaremos os valores de saída de rugosidade por material para realizar uma análise de experimento com um único fator."
   ]
  },
  {
   "cell_type": "code",
   "execution_count": null,
   "metadata": {},
   "outputs": [],
   "source": [
    "dados_roughness_material = dados[['material','roughness']]\n",
    "dados_roughness_material.head()"
   ]
  },
  {
   "cell_type": "markdown",
   "metadata": {},
   "source": [
    "Com os dados separados podemos observar que nosso problema é dividido em dois materiais, ou seja, dois níveis (PLA e ABS). Primeiramente vamos analisar quantas observações de cada material nós temos.  "
   ]
  },
  {
   "cell_type": "code",
   "execution_count": null,
   "metadata": {},
   "outputs": [],
   "source": [
    "dados_roughness_material['material'].value_counts()"
   ]
  },
  {
   "cell_type": "markdown",
   "metadata": {},
   "source": [
    "Como podemos observar, o número de observações de cada material é igual.\n",
    "***\n",
    "#### Teoria 📖:  \n",
    "Supomos que nosso valor de saída, rugosidade, varia de acordo com o material utilizado, o que significaria que ela teria o seguinte comportamento:  \n",
    "$$\n",
    "\\mathsf{\n",
    "    Y_{ij}= \\mu + \\tau_{i} + \\epsilon_{ij}\n",
    "}\n",
    "\\displaystyle\n",
    "    \\begin{cases}{}\n",
    "        \\mathsf{i=0, 1}\\\\\n",
    "        \\mathsf{j=0, 1, 2, 3, \\dots, 25}\n",
    "    \\end{cases}\n",
    "$$  \n",
    "Onde:\n",
    "   * $\\mu$: média global;  \n",
    "   * $\\tau_{i}$: fator de alteração referente ao material utilizado;\n",
    "   * $\\epsilon_{ij}$: erro aleatorio da medição  \n",
    "***  \n",
    "Para garantirmos que a escolha do material realmente interfere na rugosidade medida nas nossas peças, temos que garantir que o valor de $\\tau$ de cada material seja diferente de zero. Logo, temos que fazer um teste assumindo as seguintes hipóteses:  \n",
    "$$\n",
    "\\left\\{\n",
    "    \\begin{matrix}{}\n",
    "        \\mathsf{\\mathit{H_0}: \\tau_{0}=\\tau_{1}=0}\\\\\n",
    "        \\mathsf{\\mathit{H_1}: \\tau_{0}\\neq \\tau_{1}\\neq 0}\n",
    "    \\end{matrix}\n",
    "\\right.\n",
    "$$  \n",
    "Para isso faremos um teste ANOVA, que se baseia em assumir que o modelo é descrito por uma estatística F, assim:  \n",
    "$$\n",
    "\\mathsf{\n",
    "    F_0=\\dfrac{\\dfrac{SQ_{tratamentos}}{a-1}}{\\dfrac{SQ_{E}}{a\\cdot\\left(n-1\\right)}}=\n",
    "\\dfrac{\\dfrac{n \\cdot \\displaystyle\\sum_{i=1}^{a=2}\\left(\\bar{y}_{i.} - \\bar{y}_{..}\\right)^2}{a-1}}{\\dfrac{\\displaystyle\\sum_{i=1}^{a=2} \\sum_{j=1}^{n=25}\\left(y_{ij}-\\bar{y}_{i.}\\right)^2}{a\\cdot\\left(n-1\\right)}}=\n",
    "    \\dfrac{MQ_{tratamentos}}{MQ_E}\n",
    "}\n",
    "$$  \n",
    "\n",
    "Para iniciarmos os cálculos vamos primeiramente calcular as médias e armazena-las"
   ]
  },
  {
   "cell_type": "code",
   "execution_count": null,
   "metadata": {},
   "outputs": [],
   "source": [
    "mean_roug_mat = dados_roughness_material.groupby('material').mean()   # media da rugosidade por material\n",
    "mean_roug_mat"
   ]
  },
  {
   "cell_type": "code",
   "execution_count": null,
   "metadata": {},
   "outputs": [],
   "source": [
    "mean_roug_mat_gen = dados_roughness_material['roughness'].mean()  # Média Geral \n",
    "mean_roug_mat_gen"
   ]
  },
  {
   "cell_type": "markdown",
   "metadata": {},
   "source": [
    "Calculando o $SQ_{tratamentos}$:"
   ]
  },
  {
   "cell_type": "code",
   "execution_count": null,
   "metadata": {},
   "outputs": [],
   "source": [
    "n = (dados_roughness_material['material'].value_counts()).loc['abs']\n",
    "SQ_trat = n * sum((mean_roug_mat['roughness']-mean_roug_mat_gen)**2)\n",
    "SQ_trat"
   ]
  },
  {
   "cell_type": "markdown",
   "metadata": {},
   "source": [
    "Calculando $SQ_E$"
   ]
  },
  {
   "cell_type": "code",
   "execution_count": null,
   "metadata": {},
   "outputs": [],
   "source": [
    "SQ_abs = sum((dados_roughness_material[dados_roughness_material['material']=='abs']['roughness']-float(mean_roug_mat.loc['abs']))**2)\n",
    "SQ_pla = sum((dados_roughness_material[dados_roughness_material['material']=='pla']['roughness']-float(mean_roug_mat.loc['pla']))**2)\n",
    "\n",
    "SQ_e = SQ_abs+SQ_pla\n",
    "SQ_e"
   ]
  },
  {
   "cell_type": "markdown",
   "metadata": {},
   "source": [
    "Com os erros quadráticos calculados, podemos fazer o teste de hipótese:  "
   ]
  },
  {
   "cell_type": "code",
   "execution_count": null,
   "metadata": {},
   "outputs": [],
   "source": [
    "a = len(mean_roug_mat)\n",
    "\n",
    "MQ_trat = SQ_trat/(a-1)\n",
    "MQe = SQ_e/(a*(n-1))\n",
    "\n",
    "F0 = MQ_trat/MQe\n",
    "\n",
    "F_bicaudal_hypoteses(F0, 0.05, a-1, a*(n-1))"
   ]
  },
  {
   "cell_type": "markdown",
   "metadata": {},
   "source": [
    "Como podemos observar para um $\\alpha$ de 0,05 FALHAMOS EM REJEITAR a hipótese nula, logo o material não afeta estatísticamente o valor de rugosidade.   \n",
    "Além do teste ANOVA utilizaremos então o método MDS para avaliar se as médias encontradas têm diferença significativa no valor da rugosidade.  \n",
    "A medida da significatividade entre médias é dada pela relação:  \n",
    "$$\n",
    "\\mathsf{\n",
    "    |\\bar{y}_{i.}-\\bar{y}_{j.}|> MDS\n",
    "}\n",
    "$$  \n",
    "$$\n",
    "\\mathsf{\n",
    "    |\\bar{y}_{i.}-\\bar{y}_{j.}|> \\mathit{t}_{\\frac{\\alpha}{2};a \\cdot(n-1)} \\cdot \\sqrt{\\dfrac{2\\cdot MQ_E}{n}}\n",
    "}\n",
    "$$  \n",
    "Assim:  "
   ]
  },
  {
   "cell_type": "code",
   "execution_count": null,
   "metadata": {},
   "outputs": [],
   "source": [
    "MDS = st.t.ppf(1-0.025,a*(n-1)) * sqrt((2*MQe)/n)\n",
    "\n",
    "print('{:^10}|{:^10}'.format('abs-pla','MDS'))\n",
    "print('{:^1}{:.4f}{:^2}|{:^1}{:.4f}{:^2}'.format('',float(mean_roug_mat.loc['abs'] - mean_roug_mat.loc['pla']),'','', MDS,''))"
   ]
  },
  {
   "cell_type": "markdown",
   "metadata": {},
   "source": [
    "Analisando a mínima diferença significativa (MDS), vemos que realmente a mudança do material não afeta estatisticamente o valor da rugosidade.  \n",
    "Essa conclusão era esperada, uma vez que, como a impressão ocorre por camadas, a rugosidade deve ser afetada principalmente por parâmetros que determinam as caracteristicas dessas camadas, mais do que pelo material em si.  \n",
    "\n",
    "### ***Análise do preenchimento interno***  \n",
    "Com a influência do material sendo descartada agora avaliaremos se o preenchimento interno da peça influencia na rugosidade da peça.  \n",
    "Primeiramente vamos separar os dados de preenchimento interno e rugosidade.   "
   ]
  },
  {
   "cell_type": "code",
   "execution_count": null,
   "metadata": {},
   "outputs": [],
   "source": [
    "pattern_roughness = dados[['infill_pattern','roughness']]\n",
    "pattern_roughness.head()"
   ]
  },
  {
   "cell_type": "code",
   "execution_count": null,
   "metadata": {},
   "outputs": [],
   "source": [
    "pattern_roughness['infill_pattern'].value_counts()"
   ]
  },
  {
   "cell_type": "markdown",
   "metadata": {},
   "source": [
    "Separados os dados vamos então realizar um teste ANOVA seguindo as hipóteses:  \n",
    "$$\n",
    "\\left\\{\n",
    "    \\begin{matrix}{}\n",
    "        \\mathsf{\\mathit{H_0}: \\tau_{0}=\\tau_{1}=0}\\\\\n",
    "        \\mathsf{\\mathit{H_1}: \\tau_{0}\\neq \\tau_{1}\\neq 0}\n",
    "    \\end{matrix}\n",
    "\\right.\n",
    "$$  \n",
    "Para isso assumimos que o modelo assume uma estatística F, assim:  \n",
    "$$\n",
    "\\mathsf{\n",
    "    F_0=\\dfrac{\\dfrac{SQ_{tratamentos}}{a-1}}{\\dfrac{SQ_{E}}{a\\cdot\\left(n-1\\right)}}=\n",
    "\\dfrac{\\dfrac{n \\cdot \\displaystyle\\sum_{i=1}^{a=2}\\left(\\bar{y}_{i.} - \\bar{y}_{..}\\right)^2}{a-1}}{\\dfrac{\\displaystyle\\sum_{i=1}^{a=2} \\sum_{j=1}^{n=25}\\left(y_{ij}-\\bar{y}_{i.}\\right)^2}{a\\cdot\\left(n-1\\right)}}=\n",
    "    \\dfrac{MQ_{tratamentos}}{MQ_E}\n",
    "}\n",
    "$$  \n",
    "Assim calculamos $F_0$ e fazemos o teste de hipóteses:  "
   ]
  },
  {
   "cell_type": "code",
   "execution_count": null,
   "metadata": {},
   "outputs": [],
   "source": [
    "patt_rough_mean = pattern_roughness.groupby('infill_pattern').mean()\n",
    "patt_rough_mean"
   ]
  },
  {
   "cell_type": "code",
   "execution_count": null,
   "metadata": {},
   "outputs": [],
   "source": [
    "patt_rough_gen = pattern_roughness.mean()\n",
    "patt_rough_gen"
   ]
  },
  {
   "cell_type": "code",
   "execution_count": null,
   "metadata": {},
   "outputs": [],
   "source": [
    "n_ptt = (pattern_roughness['infill_pattern'].value_counts()).loc['grid']\n",
    "SQ_tra_ptt = n_ptt * sum( (patt_rough_mean['roughness'] - float(patt_rough_gen))**2 )\n",
    "SQ_tra_ptt"
   ]
  },
  {
   "cell_type": "code",
   "execution_count": null,
   "metadata": {},
   "outputs": [],
   "source": [
    "SQ_e_grid = sum((pattern_roughness[pattern_roughness['infill_pattern']=='grid']['roughness'] - float(patt_rough_mean.loc['grid']))**2)\n",
    "SQ_e_hone = sum((pattern_roughness[pattern_roughness['infill_pattern']=='honeycomb']['roughness'] - float(patt_rough_mean.loc['honeycomb']))**2)\n",
    "\n",
    "SQ_e_ptt = SQ_e_grid + SQ_e_hone\n",
    "SQ_e_ptt"
   ]
  },
  {
   "cell_type": "code",
   "execution_count": null,
   "metadata": {},
   "outputs": [],
   "source": [
    "a_ptt = len(patt_rough_mean)\n",
    "\n",
    "MQ_trat_ptt = SQ_tra_ptt/(a-1)\n",
    "MQe_ptt = SQ_e_ptt/(a*(n-1))\n",
    "\n",
    "F0_ptt = MQ_trat_ptt/MQe_ptt\n",
    "\n",
    "F_bicaudal_hypoteses(F0, 0.05, a-1, a*(n-1))"
   ]
  },
  {
   "cell_type": "markdown",
   "metadata": {},
   "source": [
    "#### ***Modelo de Regressão Linear Multipla***  \n",
    "Com os dados restantes vamos fazer um modelo de regressão multipla com 7 variáveis $\\mathsf{\\left(x_1, x_2, x_3, x_4, x_5, x_6\\right)}$, sendo cada uma dessas uma entrada restante, e possuem 8 coeficientes $\\mathsf{\\left(\\hat{\\beta}_0, \\hat{\\beta}_1, \\hat{\\beta}_2, \\hat{\\beta}_3, \\hat{\\beta}_4, \\hat{\\beta}_5, \\hat{\\beta}_6\\right)}$.  \n",
    "Primeiramente vamos separar os dados com relação com a rugosidade:\n",
    "\n",
    "***Obs.:*** Analisando os dados de velocidade do *fan* e da temperatura do bico, podemos observar que um era escrito em função do outro, assim optamos por excluir a coluna desses dados de nossa análise.  "
   ]
  },
  {
   "cell_type": "code",
   "execution_count": null,
   "metadata": {},
   "outputs": [],
   "source": [
    "data_roughness = dados.drop(['infill_pattern', 'material', 'tension_strenght', 'elongation'], axis=1)\n",
    "data_roughness.head()"
   ]
  },
  {
   "cell_type": "markdown",
   "metadata": {},
   "source": [
    "***\n",
    "#### Teoria 📖  \n",
    "Para determinarmos os coeficientes usaremos a seguinte relação: \n",
    "$$\n",
    "\\mathsf{\n",
    "    \\hat{\\beta} = \\left( X' \\cdot X \\right)^{-1} \\cdot X' \\cdot y\n",
    "}\n",
    "$$  \n",
    "Onde:  \n",
    "$$\n",
    "\\mathsf{y} = \\left[\n",
    "    \\begin{matrix}\n",
    "        \\mathsf{y_1}\\\\ \\mathsf{y_2}\\\\ \\vdots \\\\ \\mathsf{y_n}\n",
    "    \\end{matrix}\n",
    "\\right];\n",
    "\n",
    "\\mathsf{X} = \\left[\n",
    "    \\begin{matrix}\n",
    "        1 & \\mathsf{x_{11}} & \\mathsf{x_{12}} & \\cdots & \\mathsf{x_{1k}}\\\\\n",
    "        1 & \\mathsf{x_{21}} & \\mathsf{x_{22}} & \\cdots & \\mathsf{x_{2k}}\\\\\n",
    "        \\vdots & \\vdots & \\vdots & \\vdots & \\vdots\\\\\n",
    "        1 & \\mathsf{x_{n1}} & \\mathsf{x_{n2}} & \\cdots & \\mathsf{x_{nk}}\n",
    "    \\end{matrix}\n",
    "\\right]; \n",
    "\n",
    "\\mathsf{\\hat{\\beta}} = \\left[\n",
    "    \\begin{matrix}\n",
    "        \\mathsf{\\beta_0}\\\\ \\mathsf{\\beta_1}\\\\ \\vdots \\\\ \\mathsf{\\beta_0}\n",
    "    \\end{matrix}\n",
    "\\right]\n",
    "$$  \n",
    "\n",
    "Desta equação temos que a matriz de covariância é dada por:  \n",
    "$$\n",
    "\\mathsf{\n",
    "    C = \\left(X' \\cdot X \\right)^{-1}\n",
    "}\n",
    "$$  \n",
    "***\n",
    "Agora vamos preencher a matriz de covariância com nossos dados:  "
   ]
  },
  {
   "cell_type": "code",
   "execution_count": null,
   "metadata": {},
   "outputs": [],
   "source": [
    "n = len(data_roughness)\n",
    "X_roug = np.array(pd.concat([pd.Series(np.ones(len(data_roughness))),data_roughness.iloc[:,:6]],axis=1))\n",
    "Y_roug = np.array(data_roughness['roughness'])\n",
    "\n",
    "C = np.linalg.inv((X_roug.T).dot(X_roug))\n",
    "print(C)"
   ]
  },
  {
   "cell_type": "markdown",
   "metadata": {},
   "source": [
    "Com a matriz de covariância podemos calcular os coeficientes da regressão:  "
   ]
  },
  {
   "cell_type": "code",
   "execution_count": null,
   "metadata": {},
   "outputs": [],
   "source": [
    "B_rough = (C.dot(X_roug.T)).dot(Y_roug)\n",
    "\n",
    "for i in range(len(B_rough)):\n",
    "    print('{}{}: {:.4f}'.format('\\u03B2', i, B_rough[i]))"
   ]
  },
  {
   "cell_type": "markdown",
   "metadata": {},
   "source": [
    "Assim o modelo de múltiplas variáveis resultante é:  \n",
    "$$\n",
    "\\mathsf{\n",
    "    \\hat{y}_{rugosidade} = -529,1807 + 1262,8094 \\cdot x_1 + 1,6442 \\cdot x_2 + 0,1694 \\cdot x_3 + 2,3852 \\cdot x_4 - 0,2978 \\cdot x_5 + 0,6373 \\cdot x_6\n",
    "}\n",
    "$$  \n",
    "\n",
    "#### Teste para significância  da Regressão  \n",
    "Para avaliar se a nossa regressão é significativa assumimos as hipóteses:  \n",
    "$$\n",
    "\\left\\{\n",
    "    \\begin{array}{l}\n",
    "        \\mathsf{\\mathit{H_0:} \\hat{\\beta}_i= 0}\\\\\n",
    "        \\mathsf{\\mathit{H_1: } \\hat{\\beta}_j \\not= 0}\n",
    "    \\end{array}\n",
    "\\right.\n",
    "$$  \n",
    "Com a estatística:  \n",
    "$$\n",
    "\\mathsf{\n",
    "    F_0 = \\dfrac{\\dfrac{SQ_R}{k}}{\\dfrac{SQ_E}{n-p}} \n",
    "}\n",
    "$$  \n",
    "Onde:\n",
    "$$\n",
    "\\begin{array}{ccc}\n",
    "    \\mathsf{SQ_R = \\displaystyle\\sum_{i=1}^{n=50} \\left(\\hat{y}_i - \\bar{y}\\right)^2} & \\mathsf{e} & \\mathsf{k = p-1}\n",
    "\\end{array}\n",
    "$$  \n",
    "$$\n",
    "\\mathsf{\n",
    "    SQ_E = \\sum_{i=1}^{n=50}{\\left(y_i - \\hat{y}\\right)^2}\n",
    "}\n",
    "$$"
   ]
  },
  {
   "cell_type": "code",
   "execution_count": null,
   "metadata": {},
   "outputs": [],
   "source": [
    "Y_hat_roug = B_rough[0] + B_rough[1]*data_roughness['layer_height'] + B_rough[2]*data_roughness['wall_thickness'] + B_rough[3]*data_roughness['infill_density'] + B_rough[4]*data_roughness['nozzle_temperature'] + B_rough[5]*data_roughness['bed_temperature'] + B_rough[6]*data_roughness['print_speed']\n",
    "\n",
    "SQe_roug = sum( (Y_roug-Y_hat_roug)**2 )\n",
    "\n",
    "n_roug = len(Y_roug)\n",
    "p_roug = len(B_rough)-1\n",
    "k_roug =  p_roug-1\n",
    "\n",
    "SQr_roug = sum( (Y_hat_roug - data_roughness['roughness'].mean())**2 )\n",
    "\n",
    "F0_roug = (SQr_roug/k_roug)/(SQe_roug/(n_roug-p_roug))\n",
    "\n",
    "F_bicaudal_hypoteses(F0_roug, 0.05, k_roug, n_roug-p_roug)"
   ]
  },
  {
   "cell_type": "markdown",
   "metadata": {},
   "source": [
    "Como podemos ver, falhamos em rejeitar a hipótese nula. Isso significa que ao menos uma constante tem influência estatística no valor de rugosidade.\n",
    "\n",
    "Agora basta determinarmos quais das variáveis interferem realmente na rugosidade. Para isso consideraremos as seguintes hipóteses para o teste de coeficientes:  \n",
    "$$\n",
    "\\left\\{\n",
    "    \\begin{array}{}\n",
    "        \\mathsf{\\mathit{H_0:~}\\hat{\\beta}_j = 0}\\\\\n",
    "        \\mathsf{\\mathit{H_1:~}\\hat{\\beta}_j \\not=0}\n",
    "    \\end{array}\n",
    "\\right.\n",
    "$$  \n",
    "Porém agora utilizaremos a seguinte estatística:  \n",
    "$$\n",
    "\\mathsf{\n",
    "    T_0 = \\dfrac{\\hat{\\beta}j - \\beta_{j_0}}{\\sqrt{\\sigma^2 \\cdot C_{jj}}} = \\dfrac{\\hat{\\beta}j - \\beta_{j_0}}{se(\\hat{\\beta}_j)}\n",
    "}\n",
    "$$ \n",
    "\n",
    "Onde: \n",
    "$$\n",
    "\\mathsf{\n",
    "    \\hat{\\sigma}^2 = \\dfrac{SQ_E}{n-p} = \\dfrac{\\displaystyle \\sum_{i=1}^{n=50}{\\left(y_i - \\hat{y}\\right)^2}}{50-7}\n",
    "}\n",
    "$$  \n",
    "Calcularemos agora a variância do erro e o erro padrão de cada coeficiente.  "
   ]
  },
  {
   "cell_type": "code",
   "execution_count": null,
   "metadata": {},
   "outputs": [],
   "source": [
    "var = SQe_roug/(n_roug-p_roug)\n",
    "\n",
    "seB_roug = lin_mult_regress_error(C, var)\n",
    "seB_roug"
   ]
  },
  {
   "cell_type": "markdown",
   "metadata": {},
   "source": [
    "Assim então testaremos cada coeficiente:  "
   ]
  },
  {
   "cell_type": "code",
   "execution_count": null,
   "metadata": {},
   "outputs": [],
   "source": [
    "lin_mult_coef_hipo(B_rough,seB_roug,0,0.05,n_roug)"
   ]
  },
  {
   "cell_type": "code",
   "execution_count": null,
   "metadata": {},
   "outputs": [],
   "source": [
    "data_roughness.columns"
   ]
  },
  {
   "cell_type": "markdown",
   "metadata": {},
   "source": [
    "Analisando os coeficientes podemos observar que de acordo com o nosso modelo os parâmetros que mais influenciam na rugosidade são:  \n",
    "   * Altura de Camada  \n",
    "   * Temperatura do bico  \n",
    "   * Velocidade de impressão  \n",
    "Assim reescrevemos nosso modelo sendo:  \n",
    "$$\n",
    "\\mathsf{\n",
    "    R = -529,1807 + 1262,8094 \\cdot lh + 2,3852 \\cdot T + 0,6373 \\cdot v\n",
    "}\n",
    "$$\n",
    "\n",
    "Onde:  \n",
    "   * $\\mathsf{R}$ = rugosidade  \n",
    "   * $\\mathsf{lh}$ = altura de camada  \n",
    "   * $\\mathsf{T}$ = temperatura do bico  \n",
    "   * $\\mathsf{v}$ = velocidade de impressão\n",
    "\n",
    "#### ***Coeficiente de determinação $\\mathsf{R^2}$***  \n",
    "Por fim vamos analisar o quão ajustado nosso modelo ficou para o problema, para isso iremos calcular o coeficente de determinação.  \n",
    "***\n",
    "#### **Teoria** 📖  \n",
    "O coeficente de determinação indica o quanto o tipo de curva encontrado descreve o comportamento das variáveis, e é definido por:  \n",
    "$$\n",
    "\\mathsf{\n",
    "   R^2 = \\dfrac{SQ_R}{SQ_T} = \\dfrac{SQ_R}{SQ_E + SQ_R}\n",
    "}\n",
    "$$  \n",
    "Porém em regressões múltiplas é aconselhavel se utilizar esse valor ajustado, devido ao número de variáveis, assim temos que:  \n",
    "$$\n",
    "\\mathsf{\n",
    "   R_{ajustado}^2 = 1 - \\dfrac{\\left(\\dfrac{SQ_E}{n-p}\\right)}{\\left(\\dfrac{SQ_T}{n-1}\\right)}\n",
    "}\n",
    "$$\n",
    "*** \n",
    "Calculado o coeficiente temos:  "
   ]
  },
  {
   "cell_type": "code",
   "execution_count": null,
   "metadata": {},
   "outputs": [],
   "source": [
    "RR_roug = SQr_roug/(SQe_roug+SQr_roug)\n",
    "RR_roug_adj = 1 - ( (SQe_roug/(n_roug-p_roug))/((SQr_roug+SQe_roug)/(n_roug-1)) )\n",
    "\n",
    "print('R²: {:.4f}'.format(RR_roug))\n",
    "print('R²_ajustado: {:.4f}'.format(RR_roug_adj))"
   ]
  },
  {
   "cell_type": "markdown",
   "metadata": {},
   "source": [
    "### Saída: Tensão de ruptura \n",
    "\n",
    "O mesmo procedimento adotado para testar a rugosidade será novamente utilizado para análise da tensão de ruptura.  \n",
    "#### *Influência do Material*  \n",
    "Vamos analisar se em uma peça impressa as resistências de cada material (Ácido Polilático e Acrilonitrila Butadieno Estireno) realmente influenciam na tensão de ruptura da peça final, ou se a diferença entre a resistência de cada um não é o principal fator no resultado final. Pra isso faremos uma análise de experimento dos dados de tensão de ruptura.  \n",
    "\n",
    "Primeiramente separaremos os dados de material e tensão de ruptura:  "
   ]
  },
  {
   "cell_type": "code",
   "execution_count": null,
   "metadata": {},
   "outputs": [],
   "source": [
    "data_ten_material = dados[['material','tension_strenght']]\n",
    "data_ten_material.head()"
   ]
  },
  {
   "cell_type": "markdown",
   "metadata": {},
   "source": [
    "Vamos agora observar quantas observações temos de cada material, ou seja o valor de n.  "
   ]
  },
  {
   "cell_type": "code",
   "execution_count": null,
   "metadata": {},
   "outputs": [],
   "source": [
    "n_ten_mat = data_ten_material['material'].value_counts()\n",
    "n_ten_mat"
   ]
  },
  {
   "cell_type": "markdown",
   "metadata": {},
   "source": [
    "Sabendo que o número de observações é igual podemos então fazer o teste ANOVA, com as seguintes hipóteses: \n",
    "$$\n",
    "\\left\\{\n",
    "    \\begin{array}{}\n",
    "        \\mathsf{\\mathit{H_0}: \\tau_{0}=\\tau_{1}=0}\\\\\n",
    "        \\mathsf{\\mathit{H_1}: \\tau_{0}\\not=\\tau_{1}\\not=0}\n",
    "    \\end{array}\n",
    "\\right.\n",
    "$$  \n",
    "Assumimos que o modelo assumi uma estatística F, assim:  \n",
    "$$\n",
    "\\mathsf{\n",
    "    F_0=\\dfrac{\\dfrac{SQ_{tratamentos}}{a-1}}{\\dfrac{SQ_{E}}{a\\cdot\\left(n-1\\right)}}=\n",
    "\\dfrac{\\dfrac{n \\cdot \\displaystyle\\sum_{i=1}^{a=2}\\left(\\bar{y}_{i\\cdot} - \\bar{y}_{\\cdot\\cdot}\\right)^2}{a-1}}{\\dfrac{\\displaystyle\\sum_{i=1}^{a=2} \\sum_{j=1}^{n=25}\\left(y_{ij}-\\bar{y}_{i\\cdot}\\right)^2}{a\\cdot\\left(n-1\\right)}}=\n",
    "    \\dfrac{MQ_{tratamentos}}{MQ_E}\n",
    "}\n",
    "$$  \n",
    "\n",
    "Assim temos:  "
   ]
  },
  {
   "cell_type": "code",
   "execution_count": null,
   "metadata": {},
   "outputs": [],
   "source": [
    "mean_ten_mat = data_ten_material.groupby('material').mean()   # media da tensão por material\n",
    "mean_ten_mat"
   ]
  },
  {
   "cell_type": "code",
   "execution_count": null,
   "metadata": {},
   "outputs": [],
   "source": [
    "mean_ten_mat_gen = data_ten_material['tension_strenght'].mean()  # Média Geral \n",
    "mean_ten_mat_gen"
   ]
  },
  {
   "cell_type": "markdown",
   "metadata": {},
   "source": [
    "Calculando $SQ_{tratamentos}$"
   ]
  },
  {
   "cell_type": "code",
   "execution_count": null,
   "metadata": {},
   "outputs": [],
   "source": [
    "SQtrat_ten = n_ten_mat[0] * sum((mean_ten_mat['tension_strenght']-mean_ten_mat_gen)**2)\n",
    "SQtrat_ten"
   ]
  },
  {
   "cell_type": "markdown",
   "metadata": {},
   "source": [
    "Calculando $SQ_E$"
   ]
  },
  {
   "cell_type": "code",
   "execution_count": null,
   "metadata": {},
   "outputs": [],
   "source": [
    "SQ_abs = sum((data_ten_material[data_ten_material['material']=='abs']['tension_strenght']-float(mean_ten_mat.loc['abs']))**2)\n",
    "SQ_pla = sum((data_ten_material[data_ten_material['material']=='pla']['tension_strenght']-float(mean_ten_mat.loc['pla']))**2)\n",
    "\n",
    "SQe_ten = SQ_abs+SQ_pla\n",
    "SQe_ten"
   ]
  },
  {
   "cell_type": "markdown",
   "metadata": {},
   "source": [
    "Fazendo o teste de hipótese temos:  "
   ]
  },
  {
   "cell_type": "code",
   "execution_count": null,
   "metadata": {},
   "outputs": [],
   "source": [
    "a_ten_mat = len(mean_ten_mat)\n",
    "\n",
    "MQtrat_ten = SQtrat_ten/(a_ten_mat-1)\n",
    "MQe_ten = SQe_ten/(a_ten_mat*(n_ten_mat[0]-1))\n",
    "\n",
    "F0_ten_mat = MQtrat_ten/MQe_ten\n",
    "\n",
    "F_bicaudal_hypoteses(F0_ten_mat, 0.05, a_ten_mat-1, a_ten_mat*(n_ten_mat[0]-1))"
   ]
  },
  {
   "cell_type": "markdown",
   "metadata": {},
   "source": [
    "Como falhamos em rejeitar a hipótese de que os materiais PLA e ABS são um fator de influência na resistência final de tração, consideramos que estatisticamente falando, o material não é um fator que influencia a resistência para esses dois materiais testados.  \n",
    "\n",
    "#### *Influência do Padrão de Preenchimento*\n",
    "Com a escolha dentre esses dois materiais tendo sido determinada como não influente na tensão de ruptura final, analisaremos agora se o padrão de preenchimento é fator relevante.  \n",
    "Separaremos os dados que serão utilizados. \n"
   ]
  },
  {
   "cell_type": "code",
   "execution_count": null,
   "metadata": {},
   "outputs": [],
   "source": [
    "data_ten_ptt = dados[['infill_pattern', 'tension_strenght']]\n",
    "data_ten_ptt.head()"
   ]
  },
  {
   "cell_type": "markdown",
   "metadata": {},
   "source": [
    "Observando a quantidade de observações de cada padrão temos:  "
   ]
  },
  {
   "cell_type": "code",
   "execution_count": null,
   "metadata": {},
   "outputs": [],
   "source": [
    "n_ten_ptt = data_ten_ptt['infill_pattern'].value_counts()\n",
    "n_ten_ptt"
   ]
  },
  {
   "cell_type": "markdown",
   "metadata": {},
   "source": [
    "Sabendo que o número de observações é igual podemos então fazer o teste ANOVA, com as seguintes hipóteses: \n",
    "$$\n",
    "\\left\\{\n",
    "    \\begin{array}{}\n",
    "        \\mathsf{\\mathit{H_0}: \\tau_{0}=\\tau_{1}=0}\\\\\n",
    "        \\mathsf{\\mathit{H_1}: \\tau_{0}\\not=\\tau_{1}\\not=0}\n",
    "    \\end{array}\n",
    "\\right.\n",
    "$$  \n",
    "Assumimos que o modelo tem o mesmo comportamento de uma estatística F, assim:  \n",
    "$$\n",
    "\\mathsf{\n",
    "    F_0=\\dfrac{\\dfrac{SQ_{tratamentos}}{a-1}}{\\dfrac{SQ_{E}}{a\\cdot\\left(n-1\\right)}}=\n",
    "\\dfrac{\\dfrac{n \\cdot \\displaystyle\\sum_{i=1}^{a=2}\\left(\\bar{y}_{i\\cdot} - \\bar{y}_{\\cdot\\cdot}\\right)^2}{a-1}}{\\dfrac{\\displaystyle\\sum_{i=1}^{a=2} \\sum_{j=1}^{n=25}\\left(y_{ij}-\\bar{y}_{i\\cdot}\\right)^2}{a\\cdot\\left(n-1\\right)}}=\n",
    "    \\dfrac{MQ_{tratamentos}}{MQ_E}\n",
    "}\n",
    "$$  \n",
    "\n",
    "Assim temos:  "
   ]
  },
  {
   "cell_type": "code",
   "execution_count": null,
   "metadata": {},
   "outputs": [],
   "source": [
    "mean_ten_ptt = data_ten_ptt.groupby('infill_pattern').mean()   # media da tensão por padrão\n",
    "mean_ten_ptt"
   ]
  },
  {
   "cell_type": "code",
   "execution_count": null,
   "metadata": {},
   "outputs": [],
   "source": [
    "mean_ten_ptt_gen = data_ten_ptt['tension_strenght'].mean()  # Média Geral \n",
    "mean_ten_ptt_gen"
   ]
  },
  {
   "cell_type": "markdown",
   "metadata": {},
   "source": [
    "Caculando o $SQ_{tratamentos}$"
   ]
  },
  {
   "cell_type": "code",
   "execution_count": null,
   "metadata": {},
   "outputs": [],
   "source": [
    "SQtrat_ten_ptt = n_ten_ptt[0] * sum((mean_ten_ptt['tension_strenght']-mean_ten_ptt_gen)**2)\n",
    "SQtrat_ten_ptt"
   ]
  },
  {
   "cell_type": "markdown",
   "metadata": {},
   "source": [
    "Calculando o $SQ_E$"
   ]
  },
  {
   "cell_type": "code",
   "execution_count": null,
   "metadata": {},
   "outputs": [],
   "source": [
    "SQ_hon = sum((data_ten_ptt[data_ten_ptt['infill_pattern']=='honeycomb']['tension_strenght']-float(mean_ten_ptt.loc['honeycomb']))**2)\n",
    "SQ_gd = sum((data_ten_ptt[data_ten_ptt['infill_pattern']=='grid']['tension_strenght']-float(mean_ten_ptt.loc['grid']))**2)\n",
    "\n",
    "SQe_ten_ptt = SQ_abs+SQ_pla\n",
    "SQe_ten_ptt"
   ]
  },
  {
   "cell_type": "markdown",
   "metadata": {},
   "source": [
    "Fazendo o teste de hipótese temos:  "
   ]
  },
  {
   "cell_type": "code",
   "execution_count": null,
   "metadata": {},
   "outputs": [],
   "source": [
    "a_ten_ptt = len(mean_ten_ptt)\n",
    "\n",
    "MQtrat_ptt = SQtrat_ten_ptt/(a_ten_ptt-1)\n",
    "MQe_ten_ptt = SQe_ten_ptt/(a_ten_ptt*(n_ten_ptt[0]-1))\n",
    "\n",
    "F0_ten_ptt = MQtrat_ptt/MQe_ten_ptt\n",
    "\n",
    "F_bicaudal_hypoteses(F0_ten_ptt, 0.05, a_ten_ptt-1, a_ten_ptt*(n_ten_ptt[0]-1))"
   ]
  },
  {
   "cell_type": "markdown",
   "metadata": {},
   "source": [
    "Como podemos ver o preenchimento interno também não influencia na tensão de ruptura da peças.  \n",
    "\n",
    "#### ***Regressão Mútlipla***  \n",
    "Com os dados restantes vamos fazer um modelo de regressão múltipla com 6 variáveis $\\mathsf{\\left(x_1, x_2, x_3, x_4, x_5, x_6\\right)}$, sendo cada uma dessas uma entrada restante, possuindo 7 coeficientes $\\mathsf{\\left(\\hat{\\beta}_0, \\hat{\\beta}_1, \\hat{\\beta}_2, \\hat{\\beta}_3, \\hat{\\beta}_4, \\hat{\\beta}_5, \\hat{\\beta}_6\\right)}$.  \n",
    "Assim como no caso para rugosidade desconsideraremos os dados de velocidade do *fan*, por ele ser dependente da temperatura.  \n",
    "Separando os dados primeriamente:  "
   ]
  },
  {
   "cell_type": "code",
   "execution_count": null,
   "metadata": {},
   "outputs": [],
   "source": [
    "data_ten = dados.drop(['infill_pattern', 'material', 'fan_speed', 'roughness', 'elongation'], axis=1)\n",
    "data_ten.head()"
   ]
  },
  {
   "cell_type": "markdown",
   "metadata": {},
   "source": [
    "Montaremos primeriamente a matriz de covariância:  "
   ]
  },
  {
   "cell_type": "code",
   "execution_count": null,
   "metadata": {},
   "outputs": [],
   "source": [
    "X_ten = pd.concat([pd.Series(np.ones(len(data_ten))),data_ten.iloc[:,:6]],axis=1)\n",
    "\n",
    "C_ten = np.linalg.inv((X_ten.T) @ X_ten)\n",
    "C_ten"
   ]
  },
  {
   "cell_type": "markdown",
   "metadata": {},
   "source": [
    "Com a matriz de covariância podemos então encontrar os coeficientes da regressão.  "
   ]
  },
  {
   "cell_type": "code",
   "execution_count": null,
   "metadata": {},
   "outputs": [],
   "source": [
    "Y_ten = data_ten['tension_strenght']\n",
    "\n",
    "B_ten = (C @ (X_ten.T)) @ Y_ten\n",
    "for i in range(len(B_ten)):\n",
    "    print('{}{}: {:.4f}'.format('\\u03B2', i, B_ten[i]))"
   ]
  },
  {
   "cell_type": "markdown",
   "metadata": {},
   "source": [
    "Assim então temos que o modelo de regressão linear é dado por: \n",
    "$$\n",
    "\\mathsf{\n",
    "    \\hat{y}_{tensão de ruptura} = 63,4423 + 55,6460 \\cdot x_1 + 1,0743 \\cdot x_2 + 0,1537 \\cdot x_3 -0,3047 \\cdot x_4 + 0,0777 \\cdot xx_5 - 0,0161 \\cdot x_6\n",
    "}\n",
    "$$  \n",
    "\n",
    "#### Teste de Signficância  \n",
    "Com os coeficientes calculados vamos determinar se a regressão realmente mostra uma relação dos dados seguindo a hipótese:  \n",
    "$$\n",
    "\\left\\{\n",
    "    \\begin{array}{l}\n",
    "        \\mathsf{\\mathit{H_0:} \\hat{\\beta}_i= 0}\\\\\n",
    "        \\mathsf{\\mathit{H_1: } \\hat{\\beta}_j \\not= 0}\n",
    "    \\end{array}\n",
    "\\right.\n",
    "$$  \n",
    "Com a estatística:  \n",
    "$$\n",
    "\\mathsf{\n",
    "    F_0 = \\dfrac{\\dfrac{SQ_R}{k}}{\\dfrac{SQ_E}{n-p}} \n",
    "}\n",
    "$$  \n",
    "Onde:\n",
    "$$\n",
    "\\begin{array}{ccc}\n",
    "    \\mathsf{SQ_R = \\displaystyle\\sum_{i=1}^{n=50} \\left(\\hat{y}_i - \\bar{y}\\right)^2} & \\mathsf{e} & \\mathsf{k = p-1}\n",
    "\\end{array}\n",
    "$$  \n",
    "$$\n",
    "\\mathsf{\n",
    "    SQ_E = \\sum_{i=1}^{n=50}{\\left(y_i - \\hat{y}\\right)^2}\n",
    "}\n",
    "$$"
   ]
  },
  {
   "cell_type": "code",
   "execution_count": null,
   "metadata": {},
   "outputs": [],
   "source": [
    "Y_hat_ten = B_ten[0] + B_ten[1]*data_ten['layer_height'] + B_ten[2]*data_ten['wall_thickness'] + B_ten[3]*data_ten['infill_density'] + B_ten[4]*data_ten['nozzle_temperature'] + B_ten[5]*data_ten['bed_temperature'] + B_ten[6]*data_ten['print_speed']\n",
    "\n",
    "SQe_ten = sum( (Y_ten-Y_hat_ten)**2 )\n",
    "\n",
    "n_ten = len(Y_ten)\n",
    "p_ten = len(B_ten)-1\n",
    "k_ten =  p_ten-1\n",
    "\n",
    "SQr_ten = sum( (Y_hat_ten - data_ten['tension_strenght'].mean())**2 )\n",
    "\n",
    "F0_ten = (SQr_ten/k_ten)/(SQe_ten/(n_ten-p_ten))\n",
    "\n",
    "F_bicaudal_hypoteses(F0_ten, 0.05, k_ten, n_ten-p_ten)"
   ]
  },
  {
   "cell_type": "markdown",
   "metadata": {},
   "source": [
    "Como podemos ver rejeitamos a hipótese nula, logo ao menos uma das constantes interfere na tensão de ruptura.  \n",
    "\n",
    "Determinaremos então quais das variáveis interferem realmente na rugosidade. Para isso consideraremos as seguintes hipóteses para o teste de hipóteses dos coeficientes:  \n",
    "$$\n",
    "\\left\\{\n",
    "    \\begin{array}{}\n",
    "        \\mathsf{\\mathit{H_0:~}\\hat{\\beta}_j = 0}\\\\\n",
    "        \\mathsf{\\mathit{H_1:~}\\hat{\\beta}_j \\not=0}\n",
    "    \\end{array}\n",
    "\\right.\n",
    "$$  \n",
    "Porém agora utilizaremos a seguinte estatística:  \n",
    "$$\n",
    "\\mathsf{\n",
    "    T_0 = \\dfrac{\\hat{\\beta}j - \\beta_{j_0}}{\\sqrt{\\sigma^2 \\cdot C_{jj}}} = \\dfrac{\\hat{\\beta}j - \\beta_{j_0}}{se(\\hat{\\beta}_j)}\n",
    "}\n",
    "$$ \n",
    "\n",
    "Onde: \n",
    "$$\n",
    "\\mathsf{\n",
    "    \\hat{\\sigma}^2 = \\dfrac{SQ_E}{n-p} = \\dfrac{\\displaystyle \\sum_{i=1}^{n=50}{\\left(y_i - \\hat{y}\\right)^2}}{50-7}\n",
    "}\n",
    "$$  \n",
    "Primeiramente calcularemos a variância do erro e o erro padrão de cada coeficiente."
   ]
  },
  {
   "cell_type": "code",
   "execution_count": null,
   "metadata": {},
   "outputs": [],
   "source": [
    "var_ten = SQe_ten/(n_ten-p_ten)\n",
    "\n",
    "seB_ten = lin_mult_regress_error(C_ten, var_ten)\n",
    "seB_ten"
   ]
  },
  {
   "cell_type": "markdown",
   "metadata": {},
   "source": [
    "Assim podemos testar os coeficientes:  "
   ]
  },
  {
   "cell_type": "code",
   "execution_count": null,
   "metadata": {},
   "outputs": [],
   "source": [
    "lin_mult_coef_hipo(B_ten, seB_ten, 0, 0.05, n_ten)"
   ]
  },
  {
   "cell_type": "code",
   "execution_count": null,
   "metadata": {},
   "outputs": [],
   "source": [
    "data_ten.columns"
   ]
  },
  {
   "cell_type": "markdown",
   "metadata": {},
   "source": [
    "Como podemos observar, os coeficientes relativos a velocidade de impressão e temperatura da mesa não falham em rejeitar a hipótese nula. Logo o modelo final do nosso sistema é:  \n",
    "$$\n",
    "\\mathsf{\n",
    "    \\sigma_r = 63,4423 + 55,6460 \\cdot lh + 1,0743 \\cdot wt + 0,1537 \\cdot d_i - 0,3047 \\cdot T\n",
    "}\n",
    "$$  \n",
    "Onde:  \n",
    "   * $\\mathsf{\\sigma_r}$ = tensão de ruptura  \n",
    "   * $\\mathsf{lh}$ = altura de camada  \n",
    "   * $\\mathsf{wt}$ = espessura de camada  \n",
    "   * $\\mathsf{d_i}$ = densidade de preenchimento\n",
    "   * $\\mathsf{T}$ = temperatura do bico  \n",
    "\n",
    "Por fim calcularemos o coeficiente de determinação:  "
   ]
  },
  {
   "cell_type": "code",
   "execution_count": null,
   "metadata": {},
   "outputs": [],
   "source": [
    "\n",
    "RR_ten = SQr_ten/(SQe_ten+SQr_ten)\n",
    "RR_ten_adj = 1 - ( (SQe_ten/(n_ten-p_ten))/((SQr_ten+SQe_ten)/(n_ten-1)) )\n",
    "\n",
    "print('R²: {:.4f}'.format(RR_ten))\n",
    "print('R²_ajustado: {:.4f}'.format(RR_ten_adj))"
   ]
  },
  {
   "cell_type": "markdown",
   "metadata": {},
   "source": [
    "### Tensão de ruptura x elongação  \n",
    "\n",
    "Por fim vamos fazer uma regressão linear simples para enteder a relação \"tensão X deformação\" de peças impressas. Como vimos anteriormente que o material pouco interfere na tensão de ruptura vamos considerar os dados de apenas um material.  \n",
    "\n",
    "Utilizando-se a função estatística para regressão linear temos:  "
   ]
  },
  {
   "cell_type": "code",
   "execution_count": null,
   "metadata": {},
   "outputs": [],
   "source": [
    "regr_ten_def = st.linregress(dados['elongation'],dados['tension_strenght'])\n",
    "\n",
    "print('y = {:.4f} + {:.4f}.x'.format(regr_ten_def.intercept, regr_ten_def.slope))"
   ]
  },
  {
   "cell_type": "markdown",
   "metadata": {},
   "source": [
    "O coeficiente de determinação da reta é:  "
   ]
  },
  {
   "cell_type": "code",
   "execution_count": null,
   "metadata": {},
   "outputs": [],
   "source": [
    "print('R² = {:.4f}'.format(regr_ten_def.rvalue**2))"
   ]
  },
  {
   "cell_type": "markdown",
   "metadata": {},
   "source": [
    "O resultado é um ajuste moderado da reta.  \n",
    "Para finalizar, abaixo encontra-se um gráfico da relação da tensão de ruptura em função do alongamento."
   ]
  },
  {
   "cell_type": "code",
   "execution_count": null,
   "metadata": {
    "scrolled": true
   },
   "outputs": [],
   "source": [
    "plt.figure(1, figsize=(14,9))\n",
    "plt.title('Tensão de Ruptura x Alongamento', fontfamily = 'serif', fontsize = 18, fontweight = 'bold')\n",
    "plt.grid(True, linewidth = 2, linestyle =':', color='b', alpha=0.5)\n",
    "plt.plot(dados['elongation'],dados['tension_strenght'], 'o', label='Dados dispersos', color='r')\n",
    "plt.plot(dados['elongation'],regr_ten_def.intercept+(regr_ten_def.slope*dados['elongation']), \n",
    "    label = 'Reta Construida', color='m')\n",
    "plt.legend(fontsize=12,frameon=True)\n",
    "plt.xlabel('Alongamento [%]',fontsize=14,fontfamily='serif')\n",
    "plt.ylabel('Tensão de Ruptura [Mpa]',fontsize=14,fontfamily='serif')\n",
    "plt.yticks(np.arange(0,40,1.25))\n",
    "plt.ylim(0,37.5)\n",
    "plt.xticks(np.arange(0,3.5,0.1),rotation=60)\n",
    "plt.xlim(0,3.4)"
   ]
  },
  {
   "cell_type": "code",
   "execution_count": null,
   "metadata": {},
   "outputs": [],
   "source": []
  }
 ],
 "metadata": {
  "kernelspec": {
   "display_name": "Python 3",
   "language": "python",
   "name": "python3"
  },
  "language_info": {
   "codemirror_mode": {
    "name": "ipython",
    "version": 3
   },
   "file_extension": ".py",
   "mimetype": "text/x-python",
   "name": "python",
   "nbconvert_exporter": "python",
   "pygments_lexer": "ipython3",
   "version": "3.9.1"
  }
 },
 "nbformat": 4,
 "nbformat_minor": 2
}
